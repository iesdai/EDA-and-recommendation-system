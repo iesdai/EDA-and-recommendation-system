{
  "nbformat": 4,
  "nbformat_minor": 0,
  "metadata": {
    "colab": {
      "provenance": []
    },
    "kernelspec": {
      "name": "python3",
      "display_name": "Python 3"
    },
    "language_info": {
      "name": "python"
    }
  },
  "cells": [
    {
      "cell_type": "markdown",
      "source": [
        "# **Netflix**"
      ],
      "metadata": {
        "id": "PzXlMXh8BmtC"
      }
    },
    {
      "cell_type": "markdown",
      "source": [
        "<img src=\"https://media.giphy.com/media/UoRR2d1b8xs04A2bV8/giphy.gif\" width=\"480\" height=\"480\">"
      ],
      "metadata": {
        "id": "UPbGYfkKB1hA"
      }
    },
    {
      "cell_type": "markdown",
      "source": [
        "# Импорт библиотек"
      ],
      "metadata": {
        "id": "m-B3Dip6EODY"
      }
    },
    {
      "cell_type": "code",
      "source": [
        "import pandas as pd\n",
        "import numpy as np\n",
        "import matplotlib.pyplot as plt\n",
        "import seaborn as sns\n",
        "from plotly import graph_objects as go\n",
        "from collections import Counter"
      ],
      "metadata": {
        "id": "iMgxYvtYH1Kj"
      },
      "execution_count": 1,
      "outputs": []
    },
    {
      "cell_type": "markdown",
      "source": [
        "# Загрузка данных"
      ],
      "metadata": {
        "id": "jD14-f4zEUyU"
      }
    },
    {
      "cell_type": "markdown",
      "source": [
        "Распаковываем архив."
      ],
      "metadata": {
        "id": "V0L4W2V-EdW4"
      }
    },
    {
      "cell_type": "code",
      "execution_count": 2,
      "metadata": {
        "colab": {
          "base_uri": "https://localhost:8080/"
        },
        "id": "d1PhH9swG_Uw",
        "outputId": "33dc278b-8ed6-4ce0-a77e-a95fe0868d36"
      },
      "outputs": [
        {
          "output_type": "stream",
          "name": "stdout",
          "text": [
            "Archive:  /content/drive/MyDrive/archive.zip\n",
            "  inflating: netflix_titles.csv      \n"
          ]
        }
      ],
      "source": [
        "!unzip /content/drive/MyDrive/archive.zip"
      ]
    },
    {
      "cell_type": "markdown",
      "source": [
        "Загружаем данные из CSV файла ***'netflix_titiles.csv'*** в переменную ***'netfix'***. И выводим первые пять строк для ознокомления с данными и их структурой."
      ],
      "metadata": {
        "id": "a9rKpnpNEh1M"
      }
    },
    {
      "cell_type": "code",
      "source": [
        "netflix = pd.read_csv(\"netflix_titles.csv\")\n",
        "netflix.head()"
      ],
      "metadata": {
        "colab": {
          "base_uri": "https://localhost:8080/",
          "height": 643
        },
        "id": "PYcPq-VfHwUQ",
        "outputId": "eb8be631-97dc-4104-d306-46e3972830cd"
      },
      "execution_count": 3,
      "outputs": [
        {
          "output_type": "execute_result",
          "data": {
            "text/plain": [
              "  show_id     type                  title         director  \\\n",
              "0      s1    Movie   Dick Johnson Is Dead  Kirsten Johnson   \n",
              "1      s2  TV Show          Blood & Water              NaN   \n",
              "2      s3  TV Show              Ganglands  Julien Leclercq   \n",
              "3      s4  TV Show  Jailbirds New Orleans              NaN   \n",
              "4      s5  TV Show           Kota Factory              NaN   \n",
              "\n",
              "                                                cast        country  \\\n",
              "0                                                NaN  United States   \n",
              "1  Ama Qamata, Khosi Ngema, Gail Mabalane, Thaban...   South Africa   \n",
              "2  Sami Bouajila, Tracy Gotoas, Samuel Jouy, Nabi...            NaN   \n",
              "3                                                NaN            NaN   \n",
              "4  Mayur More, Jitendra Kumar, Ranjan Raj, Alam K...          India   \n",
              "\n",
              "           date_added  release_year rating   duration  \\\n",
              "0  September 25, 2021          2020  PG-13     90 min   \n",
              "1  September 24, 2021          2021  TV-MA  2 Seasons   \n",
              "2  September 24, 2021          2021  TV-MA   1 Season   \n",
              "3  September 24, 2021          2021  TV-MA   1 Season   \n",
              "4  September 24, 2021          2021  TV-MA  2 Seasons   \n",
              "\n",
              "                                           listed_in  \\\n",
              "0                                      Documentaries   \n",
              "1    International TV Shows, TV Dramas, TV Mysteries   \n",
              "2  Crime TV Shows, International TV Shows, TV Act...   \n",
              "3                             Docuseries, Reality TV   \n",
              "4  International TV Shows, Romantic TV Shows, TV ...   \n",
              "\n",
              "                                         description  \n",
              "0  As her father nears the end of his life, filmm...  \n",
              "1  After crossing paths at a party, a Cape Town t...  \n",
              "2  To protect his family from a powerful drug lor...  \n",
              "3  Feuds, flirtations and toilet talk go down amo...  \n",
              "4  In a city of coaching centers known to train I...  "
            ],
            "text/html": [
              "\n",
              "  <div id=\"df-50567413-1424-4a33-9c20-c9e783a8a60a\" class=\"colab-df-container\">\n",
              "    <div>\n",
              "<style scoped>\n",
              "    .dataframe tbody tr th:only-of-type {\n",
              "        vertical-align: middle;\n",
              "    }\n",
              "\n",
              "    .dataframe tbody tr th {\n",
              "        vertical-align: top;\n",
              "    }\n",
              "\n",
              "    .dataframe thead th {\n",
              "        text-align: right;\n",
              "    }\n",
              "</style>\n",
              "<table border=\"1\" class=\"dataframe\">\n",
              "  <thead>\n",
              "    <tr style=\"text-align: right;\">\n",
              "      <th></th>\n",
              "      <th>show_id</th>\n",
              "      <th>type</th>\n",
              "      <th>title</th>\n",
              "      <th>director</th>\n",
              "      <th>cast</th>\n",
              "      <th>country</th>\n",
              "      <th>date_added</th>\n",
              "      <th>release_year</th>\n",
              "      <th>rating</th>\n",
              "      <th>duration</th>\n",
              "      <th>listed_in</th>\n",
              "      <th>description</th>\n",
              "    </tr>\n",
              "  </thead>\n",
              "  <tbody>\n",
              "    <tr>\n",
              "      <th>0</th>\n",
              "      <td>s1</td>\n",
              "      <td>Movie</td>\n",
              "      <td>Dick Johnson Is Dead</td>\n",
              "      <td>Kirsten Johnson</td>\n",
              "      <td>NaN</td>\n",
              "      <td>United States</td>\n",
              "      <td>September 25, 2021</td>\n",
              "      <td>2020</td>\n",
              "      <td>PG-13</td>\n",
              "      <td>90 min</td>\n",
              "      <td>Documentaries</td>\n",
              "      <td>As her father nears the end of his life, filmm...</td>\n",
              "    </tr>\n",
              "    <tr>\n",
              "      <th>1</th>\n",
              "      <td>s2</td>\n",
              "      <td>TV Show</td>\n",
              "      <td>Blood &amp; Water</td>\n",
              "      <td>NaN</td>\n",
              "      <td>Ama Qamata, Khosi Ngema, Gail Mabalane, Thaban...</td>\n",
              "      <td>South Africa</td>\n",
              "      <td>September 24, 2021</td>\n",
              "      <td>2021</td>\n",
              "      <td>TV-MA</td>\n",
              "      <td>2 Seasons</td>\n",
              "      <td>International TV Shows, TV Dramas, TV Mysteries</td>\n",
              "      <td>After crossing paths at a party, a Cape Town t...</td>\n",
              "    </tr>\n",
              "    <tr>\n",
              "      <th>2</th>\n",
              "      <td>s3</td>\n",
              "      <td>TV Show</td>\n",
              "      <td>Ganglands</td>\n",
              "      <td>Julien Leclercq</td>\n",
              "      <td>Sami Bouajila, Tracy Gotoas, Samuel Jouy, Nabi...</td>\n",
              "      <td>NaN</td>\n",
              "      <td>September 24, 2021</td>\n",
              "      <td>2021</td>\n",
              "      <td>TV-MA</td>\n",
              "      <td>1 Season</td>\n",
              "      <td>Crime TV Shows, International TV Shows, TV Act...</td>\n",
              "      <td>To protect his family from a powerful drug lor...</td>\n",
              "    </tr>\n",
              "    <tr>\n",
              "      <th>3</th>\n",
              "      <td>s4</td>\n",
              "      <td>TV Show</td>\n",
              "      <td>Jailbirds New Orleans</td>\n",
              "      <td>NaN</td>\n",
              "      <td>NaN</td>\n",
              "      <td>NaN</td>\n",
              "      <td>September 24, 2021</td>\n",
              "      <td>2021</td>\n",
              "      <td>TV-MA</td>\n",
              "      <td>1 Season</td>\n",
              "      <td>Docuseries, Reality TV</td>\n",
              "      <td>Feuds, flirtations and toilet talk go down amo...</td>\n",
              "    </tr>\n",
              "    <tr>\n",
              "      <th>4</th>\n",
              "      <td>s5</td>\n",
              "      <td>TV Show</td>\n",
              "      <td>Kota Factory</td>\n",
              "      <td>NaN</td>\n",
              "      <td>Mayur More, Jitendra Kumar, Ranjan Raj, Alam K...</td>\n",
              "      <td>India</td>\n",
              "      <td>September 24, 2021</td>\n",
              "      <td>2021</td>\n",
              "      <td>TV-MA</td>\n",
              "      <td>2 Seasons</td>\n",
              "      <td>International TV Shows, Romantic TV Shows, TV ...</td>\n",
              "      <td>In a city of coaching centers known to train I...</td>\n",
              "    </tr>\n",
              "  </tbody>\n",
              "</table>\n",
              "</div>\n",
              "    <div class=\"colab-df-buttons\">\n",
              "\n",
              "  <div class=\"colab-df-container\">\n",
              "    <button class=\"colab-df-convert\" onclick=\"convertToInteractive('df-50567413-1424-4a33-9c20-c9e783a8a60a')\"\n",
              "            title=\"Convert this dataframe to an interactive table.\"\n",
              "            style=\"display:none;\">\n",
              "\n",
              "  <svg xmlns=\"http://www.w3.org/2000/svg\" height=\"24px\" viewBox=\"0 -960 960 960\">\n",
              "    <path d=\"M120-120v-720h720v720H120Zm60-500h600v-160H180v160Zm220 220h160v-160H400v160Zm0 220h160v-160H400v160ZM180-400h160v-160H180v160Zm440 0h160v-160H620v160ZM180-180h160v-160H180v160Zm440 0h160v-160H620v160Z\"/>\n",
              "  </svg>\n",
              "    </button>\n",
              "\n",
              "  <style>\n",
              "    .colab-df-container {\n",
              "      display:flex;\n",
              "      gap: 12px;\n",
              "    }\n",
              "\n",
              "    .colab-df-convert {\n",
              "      background-color: #E8F0FE;\n",
              "      border: none;\n",
              "      border-radius: 50%;\n",
              "      cursor: pointer;\n",
              "      display: none;\n",
              "      fill: #1967D2;\n",
              "      height: 32px;\n",
              "      padding: 0 0 0 0;\n",
              "      width: 32px;\n",
              "    }\n",
              "\n",
              "    .colab-df-convert:hover {\n",
              "      background-color: #E2EBFA;\n",
              "      box-shadow: 0px 1px 2px rgba(60, 64, 67, 0.3), 0px 1px 3px 1px rgba(60, 64, 67, 0.15);\n",
              "      fill: #174EA6;\n",
              "    }\n",
              "\n",
              "    .colab-df-buttons div {\n",
              "      margin-bottom: 4px;\n",
              "    }\n",
              "\n",
              "    [theme=dark] .colab-df-convert {\n",
              "      background-color: #3B4455;\n",
              "      fill: #D2E3FC;\n",
              "    }\n",
              "\n",
              "    [theme=dark] .colab-df-convert:hover {\n",
              "      background-color: #434B5C;\n",
              "      box-shadow: 0px 1px 3px 1px rgba(0, 0, 0, 0.15);\n",
              "      filter: drop-shadow(0px 1px 2px rgba(0, 0, 0, 0.3));\n",
              "      fill: #FFFFFF;\n",
              "    }\n",
              "  </style>\n",
              "\n",
              "    <script>\n",
              "      const buttonEl =\n",
              "        document.querySelector('#df-50567413-1424-4a33-9c20-c9e783a8a60a button.colab-df-convert');\n",
              "      buttonEl.style.display =\n",
              "        google.colab.kernel.accessAllowed ? 'block' : 'none';\n",
              "\n",
              "      async function convertToInteractive(key) {\n",
              "        const element = document.querySelector('#df-50567413-1424-4a33-9c20-c9e783a8a60a');\n",
              "        const dataTable =\n",
              "          await google.colab.kernel.invokeFunction('convertToInteractive',\n",
              "                                                    [key], {});\n",
              "        if (!dataTable) return;\n",
              "\n",
              "        const docLinkHtml = 'Like what you see? Visit the ' +\n",
              "          '<a target=\"_blank\" href=https://colab.research.google.com/notebooks/data_table.ipynb>data table notebook</a>'\n",
              "          + ' to learn more about interactive tables.';\n",
              "        element.innerHTML = '';\n",
              "        dataTable['output_type'] = 'display_data';\n",
              "        await google.colab.output.renderOutput(dataTable, element);\n",
              "        const docLink = document.createElement('div');\n",
              "        docLink.innerHTML = docLinkHtml;\n",
              "        element.appendChild(docLink);\n",
              "      }\n",
              "    </script>\n",
              "  </div>\n",
              "\n",
              "\n",
              "<div id=\"df-db5d5bfd-6c3f-4569-8c6a-80552223e939\">\n",
              "  <button class=\"colab-df-quickchart\" onclick=\"quickchart('df-db5d5bfd-6c3f-4569-8c6a-80552223e939')\"\n",
              "            title=\"Suggest charts.\"\n",
              "            style=\"display:none;\">\n",
              "\n",
              "<svg xmlns=\"http://www.w3.org/2000/svg\" height=\"24px\"viewBox=\"0 0 24 24\"\n",
              "     width=\"24px\">\n",
              "    <g>\n",
              "        <path d=\"M19 3H5c-1.1 0-2 .9-2 2v14c0 1.1.9 2 2 2h14c1.1 0 2-.9 2-2V5c0-1.1-.9-2-2-2zM9 17H7v-7h2v7zm4 0h-2V7h2v10zm4 0h-2v-4h2v4z\"/>\n",
              "    </g>\n",
              "</svg>\n",
              "  </button>\n",
              "\n",
              "<style>\n",
              "  .colab-df-quickchart {\n",
              "    background-color: #E8F0FE;\n",
              "    border: none;\n",
              "    border-radius: 50%;\n",
              "    cursor: pointer;\n",
              "    display: none;\n",
              "    fill: #1967D2;\n",
              "    height: 32px;\n",
              "    padding: 0 0 0 0;\n",
              "    width: 32px;\n",
              "  }\n",
              "\n",
              "  .colab-df-quickchart:hover {\n",
              "    background-color: #E2EBFA;\n",
              "    box-shadow: 0px 1px 2px rgba(60, 64, 67, 0.3), 0px 1px 3px 1px rgba(60, 64, 67, 0.15);\n",
              "    fill: #174EA6;\n",
              "  }\n",
              "\n",
              "  [theme=dark] .colab-df-quickchart {\n",
              "    background-color: #3B4455;\n",
              "    fill: #D2E3FC;\n",
              "  }\n",
              "\n",
              "  [theme=dark] .colab-df-quickchart:hover {\n",
              "    background-color: #434B5C;\n",
              "    box-shadow: 0px 1px 3px 1px rgba(0, 0, 0, 0.15);\n",
              "    filter: drop-shadow(0px 1px 2px rgba(0, 0, 0, 0.3));\n",
              "    fill: #FFFFFF;\n",
              "  }\n",
              "</style>\n",
              "\n",
              "  <script>\n",
              "    async function quickchart(key) {\n",
              "      const charts = await google.colab.kernel.invokeFunction(\n",
              "          'suggestCharts', [key], {});\n",
              "    }\n",
              "    (() => {\n",
              "      let quickchartButtonEl =\n",
              "        document.querySelector('#df-db5d5bfd-6c3f-4569-8c6a-80552223e939 button');\n",
              "      quickchartButtonEl.style.display =\n",
              "        google.colab.kernel.accessAllowed ? 'block' : 'none';\n",
              "    })();\n",
              "  </script>\n",
              "</div>\n",
              "    </div>\n",
              "  </div>\n"
            ]
          },
          "metadata": {},
          "execution_count": 3
        }
      ]
    },
    {
      "cell_type": "markdown",
      "source": [
        "Как можно заметить, в данных есть **12** признаков."
      ],
      "metadata": {
        "id": "V_qmXsgeGlHf"
      }
    },
    {
      "cell_type": "markdown",
      "source": [
        "Выведем общую информацию."
      ],
      "metadata": {
        "id": "qvbN1orgF4UQ"
      }
    },
    {
      "cell_type": "code",
      "source": [
        "netflix.info()"
      ],
      "metadata": {
        "id": "vVb9HZ4ZINR4",
        "colab": {
          "base_uri": "https://localhost:8080/"
        },
        "outputId": "667ee518-5dfd-4f4c-c74a-83f99e7c7bd9"
      },
      "execution_count": 4,
      "outputs": [
        {
          "output_type": "stream",
          "name": "stdout",
          "text": [
            "<class 'pandas.core.frame.DataFrame'>\n",
            "RangeIndex: 8807 entries, 0 to 8806\n",
            "Data columns (total 12 columns):\n",
            " #   Column        Non-Null Count  Dtype \n",
            "---  ------        --------------  ----- \n",
            " 0   show_id       8807 non-null   object\n",
            " 1   type          8807 non-null   object\n",
            " 2   title         8807 non-null   object\n",
            " 3   director      6173 non-null   object\n",
            " 4   cast          7982 non-null   object\n",
            " 5   country       7976 non-null   object\n",
            " 6   date_added    8797 non-null   object\n",
            " 7   release_year  8807 non-null   int64 \n",
            " 8   rating        8803 non-null   object\n",
            " 9   duration      8804 non-null   object\n",
            " 10  listed_in     8807 non-null   object\n",
            " 11  description   8807 non-null   object\n",
            "dtypes: int64(1), object(11)\n",
            "memory usage: 825.8+ KB\n"
          ]
        }
      ]
    },
    {
      "cell_type": "markdown",
      "source": [
        "Заметим, в данных имеются пропуски в таких признаках, как:\n",
        "\n",
        "- ***director (режиссер)***\n",
        "- ***cast (актерский состав)***\n",
        "- ***country (страна)***\n",
        "- ***date_added (дата добавления)***\n",
        "- ***rating (рейтинг)***\n",
        "- ***duration (продолжительность)***"
      ],
      "metadata": {
        "id": "2o02ClndGnac"
      }
    },
    {
      "cell_type": "markdown",
      "source": [
        "# Разделение на сериалы и фильмы"
      ],
      "metadata": {
        "id": "ibP2_2RxI0hG"
      }
    },
    {
      "cell_type": "markdown",
      "source": [
        "Для дальнейшего анализа и более наглядного понимания данных, проведем разделение между сериалами и фильмами, создав отдельные признаки для каждой из этих категорий."
      ],
      "metadata": {
        "id": "z6hhR3qtHIIX"
      }
    },
    {
      "cell_type": "code",
      "source": [
        "netflix_shows = netflix.loc[netflix['type'] == 'TV Show'].copy()\n",
        "netflix_movies = netflix.loc[netflix['type'] == 'Movie'].copy()"
      ],
      "metadata": {
        "id": "Gx6Lbg17IyiF"
      },
      "execution_count": 5,
      "outputs": []
    },
    {
      "cell_type": "markdown",
      "source": [
        "Визуализируем распределение фильмов и сериалов на платформе Netflix с помощью наглядного графика.  \n"
      ],
      "metadata": {
        "id": "j-zRcL7fHq4B"
      }
    },
    {
      "cell_type": "code",
      "source": [
        "sns.set(style='darkgrid')\n",
        "ax = sns.countplot(x='type', data=netflix, palette='Set2')"
      ],
      "metadata": {
        "id": "a7Kc8kEQJVwv",
        "colab": {
          "base_uri": "https://localhost:8080/",
          "height": 458
        },
        "outputId": "669af00d-7b3d-4dab-ea02-6268eb0c8aec"
      },
      "execution_count": 6,
      "outputs": [
        {
          "output_type": "display_data",
          "data": {
            "text/plain": [
              "<Figure size 640x480 with 1 Axes>"
            ],
            "image/png": "[encoded data removed]"
          },
          "metadata": {}
        }
      ]
    },
    {
      "cell_type": "markdown",
      "source": [
        "Из графика можем наблюдать соотношение между фильмами и сериалами на платформе Netflix. Очевидно, что количество фильмов значительно превышает количество сериалов, что может указывать на тенденцию к большему представлению фильмов на платформе."
      ],
      "metadata": {
        "id": "Gj91Cb_zGyL-"
      }
    },
    {
      "cell_type": "markdown",
      "source": [
        "# Время длительности"
      ],
      "metadata": {
        "id": "BGTafrQqI7NJ"
      }
    },
    {
      "cell_type": "markdown",
      "source": [
        "Создадим переменную ***'duration'***, в которой сохраним длительность фильмов и сериалов, а также количество элементов в каждой из этих категорий."
      ],
      "metadata": {
        "id": "AY1GjFj6JIKL"
      }
    },
    {
      "cell_type": "code",
      "source": [
        "duration = pd.value_counts(netflix['duration'])\n",
        "duration"
      ],
      "metadata": {
        "id": "OPVdCN4iJq_h",
        "colab": {
          "base_uri": "https://localhost:8080/"
        },
        "outputId": "bf888593-51fc-4e68-c13c-b9f35691eed4"
      },
      "execution_count": 7,
      "outputs": [
        {
          "output_type": "execute_result",
          "data": {
            "text/plain": [
              "1 Season     1793\n",
              "2 Seasons     425\n",
              "3 Seasons     199\n",
              "90 min        152\n",
              "94 min        146\n",
              "             ... \n",
              "16 min          1\n",
              "186 min         1\n",
              "193 min         1\n",
              "189 min         1\n",
              "191 min         1\n",
              "Name: duration, Length: 220, dtype: int64"
            ]
          },
          "metadata": {},
          "execution_count": 7
        }
      ]
    },
    {
      "cell_type": "markdown",
      "source": [
        "Используем **graph_objects** из библиотеки Plotly для визуализации продолжительности фильмов и сериалов на Netflix."
      ],
      "metadata": {
        "id": "cxLGckfOJrTl"
      }
    },
    {
      "cell_type": "code",
      "source": [
        "fig = go.Figure([go.Bar(x=duration.index, y=duration.values, text=duration.values, marker_color='red')])\n",
        "\n",
        "fig.update_traces(texttemplate='%{text::2s}', textposition='outside')\n",
        "fig.show()"
      ],
      "metadata": {
        "id": "glrtbkFkJ_62",
        "colab": {
          "base_uri": "https://localhost:8080/",
          "height": 542
        },
        "outputId": "0e80c049-02c0-4a27-a941-d34bb4758652"
      },
      "execution_count": 11,
      "outputs": [
        {
          "output_type": "display_data",
          "data": {
            "text/html": [
              "<html>\n",
              "<head><meta charset=\"utf-8\" /></head>\n",
              "<body>\n",
              "    <div>            <script src=\"https://cdnjs.cloudflare.com/ajax/libs/mathjax/2.7.5/MathJax.js?config=TeX-AMS-MML_SVG\"></script><script type=\"text/javascript\">if (window.MathJax && window.MathJax.Hub && window.MathJax.Hub.Config) {window.MathJax.Hub.Config({SVG: {font: \"STIX-Web\"}});}</script>                <script type=\"text/javascript\">window.PlotlyConfig = {MathJaxConfig: 'local'};</script>\n",
              "        <script charset=\"utf-8\" src=\"https://cdn.plot.ly/plotly-2.24.1.min.js\"></script>                <div id=\"b2d88ca9-d3c5-49eb-b2ef-f51293bd593d\" class=\"plotly-graph-div\" style=\"height:525px; width:100%;\"></div>            <script type=\"text/javascript\">                                    window.PLOTLYENV=window.PLOTLYENV || {};                                    if (document.getElementById(\"b2d88ca9-d3c5-49eb-b2ef-f51293bd593d\")) {                    Plotly.newPlot(                        \"b2d88ca9-d3c5-49eb-b2ef-f51293bd593d\",                        [{\"marker\":{\"color\":\"red\"},\"text\":[1793.0,425.0,199.0,152.0,146.0,146.0,146.0,144.0,137.0,130.0,129.0,122.0,120.0,118.0,116.0,116.0,114.0,111.0,108.0,106.0,104.0,103.0,101.0,101.0,98.0,97.0,95.0,87.0,80.0,74.0,73.0,69.0,69.0,68.0,67.0,65.0,65.0,65.0,63.0,62.0,61.0,61.0,56.0,56.0,54.0,52.0,52.0,48.0,45.0,45.0,44.0,44.0,43.0,42.0,41.0,40.0,39.0,38.0,37.0,36.0,35.0,35.0,34.0,33.0,33.0,32.0,32.0,31.0,31.0,31.0,30.0,30.0,29.0,28.0,28.0,28.0,28.0,25.0,25.0,25.0,25.0,25.0,24.0,24.0,24.0,24.0,23.0,23.0,23.0,23.0,23.0,22.0,22.0,21.0,21.0,20.0,19.0,19.0,19.0,18.0,17.0,17.0,16.0,16.0,15.0,15.0,14.0,14.0,13.0,13.0,13.0,13.0,13.0,12.0,12.0,12.0,11.0,11.0,11.0,11.0,11.0,11.0,10.0,10.0,10.0,10.0,10.0,10.0,9.0,9.0,9.0,9.0,9.0,8.0,8.0,8.0,7.0,7.0,7.0,6.0,6.0,6.0,6.0,6.0,6.0,6.0,6.0,5.0,5.0,5.0,5.0,5.0,5.0,5.0,4.0,4.0,4.0,3.0,3.0,3.0,3.0,3.0,3.0,3.0,3.0,3.0,3.0,3.0,3.0,2.0,2.0,2.0,2.0,2.0,2.0,2.0,2.0,2.0,2.0,2.0,2.0,2.0,2.0,2.0,2.0,2.0,2.0,1.0,1.0,1.0,1.0,1.0,1.0,1.0,1.0,1.0,1.0,1.0,1.0,1.0,1.0,1.0,1.0,1.0,1.0,1.0,1.0,1.0,1.0,1.0,1.0,1.0,1.0,1.0,1.0,1.0,1.0,1.0,1.0,1.0],\"x\":[\"1 Season\",\"2 Seasons\",\"3 Seasons\",\"90 min\",\"94 min\",\"97 min\",\"93 min\",\"91 min\",\"95 min\",\"96 min\",\"92 min\",\"102 min\",\"98 min\",\"99 min\",\"101 min\",\"88 min\",\"103 min\",\"106 min\",\"100 min\",\"89 min\",\"104 min\",\"86 min\",\"105 min\",\"87 min\",\"107 min\",\"110 min\",\"4 Seasons\",\"108 min\",\"116 min\",\"112 min\",\"85 min\",\"113 min\",\"109 min\",\"111 min\",\"84 min\",\"118 min\",\"83 min\",\"5 Seasons\",\"119 min\",\"81 min\",\"115 min\",\"117 min\",\"120 min\",\"114 min\",\"121 min\",\"82 min\",\"124 min\",\"127 min\",\"122 min\",\"78 min\",\"123 min\",\"126 min\",\"80 min\",\"133 min\",\"128 min\",\"130 min\",\"135 min\",\"137 min\",\"132 min\",\"125 min\",\"75 min\",\"79 min\",\"131 min\",\"6 Seasons\",\"72 min\",\"63 min\",\"129 min\",\"76 min\",\"61 min\",\"74 min\",\"73 min\",\"77 min\",\"60 min\",\"71 min\",\"66 min\",\"69 min\",\"70 min\",\"140 min\",\"65 min\",\"58 min\",\"59 min\",\"68 min\",\"54 min\",\"46 min\",\"62 min\",\"53 min\",\"64 min\",\"136 min\",\"7 Seasons\",\"24 min\",\"143 min\",\"134 min\",\"139 min\",\"138 min\",\"67 min\",\"52 min\",\"44 min\",\"141 min\",\"148 min\",\"145 min\",\"150 min\",\"8 Seasons\",\"22 min\",\"55 min\",\"151 min\",\"149 min\",\"162 min\",\"57 min\",\"146 min\",\"23 min\",\"142 min\",\"154 min\",\"40 min\",\"158 min\",\"56 min\",\"147 min\",\"153 min\",\"163 min\",\"25 min\",\"51 min\",\"29 min\",\"47 min\",\"161 min\",\"45 min\",\"155 min\",\"28 min\",\"50 min\",\"156 min\",\"42 min\",\"32 min\",\"144 min\",\"9 Seasons\",\"49 min\",\"166 min\",\"165 min\",\"48 min\",\"168 min\",\"10 Seasons\",\"171 min\",\"173 min\",\"185 min\",\"26 min\",\"33 min\",\"159 min\",\"30 min\",\"160 min\",\"157 min\",\"176 min\",\"152 min\",\"170 min\",\"36 min\",\"177 min\",\"38 min\",\"35 min\",\"172 min\",\"181 min\",\"164 min\",\"14 min\",\"15 min\",\"13 min\",\"41 min\",\"17 min\",\"27 min\",\"34 min\",\"37 min\",\"12 min\",\"21 min\",\"182 min\",\"13 Seasons\",\"192 min\",\"19 min\",\"174 min\",\"11 min\",\"209 min\",\"187 min\",\"31 min\",\"12 Seasons\",\"39 min\",\"169 min\",\"180 min\",\"195 min\",\"179 min\",\"15 Seasons\",\"20 min\",\"190 min\",\"204 min\",\"11 Seasons\",\"200 min\",\"196 min\",\"43 min\",\"167 min\",\"229 min\",\"178 min\",\"228 min\",\"214 min\",\"18 min\",\"205 min\",\"201 min\",\"312 min\",\"17 Seasons\",\"3 min\",\"10 min\",\"8 min\",\"9 min\",\"224 min\",\"212 min\",\"203 min\",\"194 min\",\"233 min\",\"237 min\",\"230 min\",\"253 min\",\"273 min\",\"208 min\",\"5 min\",\"16 min\",\"186 min\",\"193 min\",\"189 min\",\"191 min\"],\"y\":[1793,425,199,152,146,146,146,144,137,130,129,122,120,118,116,116,114,111,108,106,104,103,101,101,98,97,95,87,80,74,73,69,69,68,67,65,65,65,63,62,61,61,56,56,54,52,52,48,45,45,44,44,43,42,41,40,39,38,37,36,35,35,34,33,33,32,32,31,31,31,30,30,29,28,28,28,28,25,25,25,25,25,24,24,24,24,23,23,23,23,23,22,22,21,21,20,19,19,19,18,17,17,16,16,15,15,14,14,13,13,13,13,13,12,12,12,11,11,11,11,11,11,10,10,10,10,10,10,9,9,9,9,9,8,8,8,7,7,7,6,6,6,6,6,6,6,6,5,5,5,5,5,5,5,4,4,4,3,3,3,3,3,3,3,3,3,3,3,3,2,2,2,2,2,2,2,2,2,2,2,2,2,2,2,2,2,2,1,1,1,1,1,1,1,1,1,1,1,1,1,1,1,1,1,1,1,1,1,1,1,1,1,1,1,1,1,1,1,1,1],\"type\":\"bar\",\"textposition\":\"outside\",\"texttemplate\":\"%{text::2s}\"}],                        {\"template\":{\"data\":{\"histogram2dcontour\":[{\"type\":\"histogram2dcontour\",\"colorbar\":{\"outlinewidth\":0,\"ticks\":\"\"},\"colorscale\":[[0.0,\"#0d0887\"],[0.1111111111111111,\"#46039f\"],[0.2222222222222222,\"#7201a8\"],[0.3333333333333333,\"#9c179e\"],[0.4444444444444444,\"#bd3786\"],[0.5555555555555556,\"#d8576b\"],[0.6666666666666666,\"#ed7953\"],[0.7777777777777778,\"#fb9f3a\"],[0.8888888888888888,\"#fdca26\"],[1.0,\"#f0f921\"]]}],\"choropleth\":[{\"type\":\"choropleth\",\"colorbar\":{\"outlinewidth\":0,\"ticks\":\"\"}}],\"histogram2d\":[{\"type\":\"histogram2d\",\"colorbar\":{\"outlinewidth\":0,\"ticks\":\"\"},\"colorscale\":[[0.0,\"#0d0887\"],[0.1111111111111111,\"#46039f\"],[0.2222222222222222,\"#7201a8\"],[0.3333333333333333,\"#9c179e\"],[0.4444444444444444,\"#bd3786\"],[0.5555555555555556,\"#d8576b\"],[0.6666666666666666,\"#ed7953\"],[0.7777777777777778,\"#fb9f3a\"],[0.8888888888888888,\"#fdca26\"],[1.0,\"#f0f921\"]]}],\"heatmap\":[{\"type\":\"heatmap\",\"colorbar\":{\"outlinewidth\":0,\"ticks\":\"\"},\"colorscale\":[[0.0,\"#0d0887\"],[0.1111111111111111,\"#46039f\"],[0.2222222222222222,\"#7201a8\"],[0.3333333333333333,\"#9c179e\"],[0.4444444444444444,\"#bd3786\"],[0.5555555555555556,\"#d8576b\"],[0.6666666666666666,\"#ed7953\"],[0.7777777777777778,\"#fb9f3a\"],[0.8888888888888888,\"#fdca26\"],[1.0,\"#f0f921\"]]}],\"heatmapgl\":[{\"type\":\"heatmapgl\",\"colorbar\":{\"outlinewidth\":0,\"ticks\":\"\"},\"colorscale\":[[0.0,\"#0d0887\"],[0.1111111111111111,\"#46039f\"],[0.2222222222222222,\"#7201a8\"],[0.3333333333333333,\"#9c179e\"],[0.4444444444444444,\"#bd3786\"],[0.5555555555555556,\"#d8576b\"],[0.6666666666666666,\"#ed7953\"],[0.7777777777777778,\"#fb9f3a\"],[0.8888888888888888,\"#fdca26\"],[1.0,\"#f0f921\"]]}],\"contourcarpet\":[{\"type\":\"contourcarpet\",\"colorbar\":{\"outlinewidth\":0,\"ticks\":\"\"}}],\"contour\":[{\"type\":\"contour\",\"colorbar\":{\"outlinewidth\":0,\"ticks\":\"\"},\"colorscale\":[[0.0,\"#0d0887\"],[0.1111111111111111,\"#46039f\"],[0.2222222222222222,\"#7201a8\"],[0.3333333333333333,\"#9c179e\"],[0.4444444444444444,\"#bd3786\"],[0.5555555555555556,\"#d8576b\"],[0.6666666666666666,\"#ed7953\"],[0.7777777777777778,\"#fb9f3a\"],[0.8888888888888888,\"#fdca26\"],[1.0,\"#f0f921\"]]}],\"surface\":[{\"type\":\"surface\",\"colorbar\":{\"outlinewidth\":0,\"ticks\":\"\"},\"colorscale\":[[0.0,\"#0d0887\"],[0.1111111111111111,\"#46039f\"],[0.2222222222222222,\"#7201a8\"],[0.3333333333333333,\"#9c179e\"],[0.4444444444444444,\"#bd3786\"],[0.5555555555555556,\"#d8576b\"],[0.6666666666666666,\"#ed7953\"],[0.7777777777777778,\"#fb9f3a\"],[0.8888888888888888,\"#fdca26\"],[1.0,\"#f0f921\"]]}],\"mesh3d\":[{\"type\":\"mesh3d\",\"colorbar\":{\"outlinewidth\":0,\"ticks\":\"\"}}],\"scatter\":[{\"fillpattern\":{\"fillmode\":\"overlay\",\"size\":10,\"solidity\":0.2},\"type\":\"scatter\"}],\"parcoords\":[{\"type\":\"parcoords\",\"line\":{\"colorbar\":{\"outlinewidth\":0,\"ticks\":\"\"}}}],\"scatterpolargl\":[{\"type\":\"scatterpolargl\",\"marker\":{\"colorbar\":{\"outlinewidth\":0,\"ticks\":\"\"}}}],\"bar\":[{\"error_x\":{\"color\":\"#2a3f5f\"},\"error_y\":{\"color\":\"#2a3f5f\"},\"marker\":{\"line\":{\"color\":\"#E5ECF6\",\"width\":0.5},\"pattern\":{\"fillmode\":\"overlay\",\"size\":10,\"solidity\":0.2}},\"type\":\"bar\"}],\"scattergeo\":[{\"type\":\"scattergeo\",\"marker\":{\"colorbar\":{\"outlinewidth\":0,\"ticks\":\"\"}}}],\"scatterpolar\":[{\"type\":\"scatterpolar\",\"marker\":{\"colorbar\":{\"outlinewidth\":0,\"ticks\":\"\"}}}],\"histogram\":[{\"marker\":{\"pattern\":{\"fillmode\":\"overlay\",\"size\":10,\"solidity\":0.2}},\"type\":\"histogram\"}],\"scattergl\":[{\"type\":\"scattergl\",\"marker\":{\"colorbar\":{\"outlinewidth\":0,\"ticks\":\"\"}}}],\"scatter3d\":[{\"type\":\"scatter3d\",\"line\":{\"colorbar\":{\"outlinewidth\":0,\"ticks\":\"\"}},\"marker\":{\"colorbar\":{\"outlinewidth\":0,\"ticks\":\"\"}}}],\"scattermapbox\":[{\"type\":\"scattermapbox\",\"marker\":{\"colorbar\":{\"outlinewidth\":0,\"ticks\":\"\"}}}],\"scatterternary\":[{\"type\":\"scatterternary\",\"marker\":{\"colorbar\":{\"outlinewidth\":0,\"ticks\":\"\"}}}],\"scattercarpet\":[{\"type\":\"scattercarpet\",\"marker\":{\"colorbar\":{\"outlinewidth\":0,\"ticks\":\"\"}}}],\"carpet\":[{\"aaxis\":{\"endlinecolor\":\"#2a3f5f\",\"gridcolor\":\"white\",\"linecolor\":\"white\",\"minorgridcolor\":\"white\",\"startlinecolor\":\"#2a3f5f\"},\"baxis\":{\"endlinecolor\":\"#2a3f5f\",\"gridcolor\":\"white\",\"linecolor\":\"white\",\"minorgridcolor\":\"white\",\"startlinecolor\":\"#2a3f5f\"},\"type\":\"carpet\"}],\"table\":[{\"cells\":{\"fill\":{\"color\":\"#EBF0F8\"},\"line\":{\"color\":\"white\"}},\"header\":{\"fill\":{\"color\":\"#C8D4E3\"},\"line\":{\"color\":\"white\"}},\"type\":\"table\"}],\"barpolar\":[{\"marker\":{\"line\":{\"color\":\"#E5ECF6\",\"width\":0.5},\"pattern\":{\"fillmode\":\"overlay\",\"size\":10,\"solidity\":0.2}},\"type\":\"barpolar\"}],\"pie\":[{\"automargin\":true,\"type\":\"pie\"}]},\"layout\":{\"autotypenumbers\":\"strict\",\"colorway\":[\"#636efa\",\"#EF553B\",\"#00cc96\",\"#ab63fa\",\"#FFA15A\",\"#19d3f3\",\"#FF6692\",\"#B6E880\",\"#FF97FF\",\"#FECB52\"],\"font\":{\"color\":\"#2a3f5f\"},\"hovermode\":\"closest\",\"hoverlabel\":{\"align\":\"left\"},\"paper_bgcolor\":\"white\",\"plot_bgcolor\":\"#E5ECF6\",\"polar\":{\"bgcolor\":\"#E5ECF6\",\"angularaxis\":{\"gridcolor\":\"white\",\"linecolor\":\"white\",\"ticks\":\"\"},\"radialaxis\":{\"gridcolor\":\"white\",\"linecolor\":\"white\",\"ticks\":\"\"}},\"ternary\":{\"bgcolor\":\"#E5ECF6\",\"aaxis\":{\"gridcolor\":\"white\",\"linecolor\":\"white\",\"ticks\":\"\"},\"baxis\":{\"gridcolor\":\"white\",\"linecolor\":\"white\",\"ticks\":\"\"},\"caxis\":{\"gridcolor\":\"white\",\"linecolor\":\"white\",\"ticks\":\"\"}},\"coloraxis\":{\"colorbar\":{\"outlinewidth\":0,\"ticks\":\"\"}},\"colorscale\":{\"sequential\":[[0.0,\"#0d0887\"],[0.1111111111111111,\"#46039f\"],[0.2222222222222222,\"#7201a8\"],[0.3333333333333333,\"#9c179e\"],[0.4444444444444444,\"#bd3786\"],[0.5555555555555556,\"#d8576b\"],[0.6666666666666666,\"#ed7953\"],[0.7777777777777778,\"#fb9f3a\"],[0.8888888888888888,\"#fdca26\"],[1.0,\"#f0f921\"]],\"sequentialminus\":[[0.0,\"#0d0887\"],[0.1111111111111111,\"#46039f\"],[0.2222222222222222,\"#7201a8\"],[0.3333333333333333,\"#9c179e\"],[0.4444444444444444,\"#bd3786\"],[0.5555555555555556,\"#d8576b\"],[0.6666666666666666,\"#ed7953\"],[0.7777777777777778,\"#fb9f3a\"],[0.8888888888888888,\"#fdca26\"],[1.0,\"#f0f921\"]],\"diverging\":[[0,\"#8e0152\"],[0.1,\"#c51b7d\"],[0.2,\"#de77ae\"],[0.3,\"#f1b6da\"],[0.4,\"#fde0ef\"],[0.5,\"#f7f7f7\"],[0.6,\"#e6f5d0\"],[0.7,\"#b8e186\"],[0.8,\"#7fbc41\"],[0.9,\"#4d9221\"],[1,\"#276419\"]]},\"xaxis\":{\"gridcolor\":\"white\",\"linecolor\":\"white\",\"ticks\":\"\",\"title\":{\"standoff\":15},\"zerolinecolor\":\"white\",\"automargin\":true,\"zerolinewidth\":2},\"yaxis\":{\"gridcolor\":\"white\",\"linecolor\":\"white\",\"ticks\":\"\",\"title\":{\"standoff\":15},\"zerolinecolor\":\"white\",\"automargin\":true,\"zerolinewidth\":2},\"scene\":{\"xaxis\":{\"backgroundcolor\":\"#E5ECF6\",\"gridcolor\":\"white\",\"linecolor\":\"white\",\"showbackground\":true,\"ticks\":\"\",\"zerolinecolor\":\"white\",\"gridwidth\":2},\"yaxis\":{\"backgroundcolor\":\"#E5ECF6\",\"gridcolor\":\"white\",\"linecolor\":\"white\",\"showbackground\":true,\"ticks\":\"\",\"zerolinecolor\":\"white\",\"gridwidth\":2},\"zaxis\":{\"backgroundcolor\":\"#E5ECF6\",\"gridcolor\":\"white\",\"linecolor\":\"white\",\"showbackground\":true,\"ticks\":\"\",\"zerolinecolor\":\"white\",\"gridwidth\":2}},\"shapedefaults\":{\"line\":{\"color\":\"#2a3f5f\"}},\"annotationdefaults\":{\"arrowcolor\":\"#2a3f5f\",\"arrowhead\":0,\"arrowwidth\":1},\"geo\":{\"bgcolor\":\"white\",\"landcolor\":\"#E5ECF6\",\"subunitcolor\":\"white\",\"showland\":true,\"showlakes\":true,\"lakecolor\":\"white\"},\"title\":{\"x\":0.05},\"mapbox\":{\"style\":\"light\"}}}},                        {\"responsive\": true}                    ).then(function(){\n",
              "                            \n",
              "var gd = document.getElementById('b2d88ca9-d3c5-49eb-b2ef-f51293bd593d');\n",
              "var x = new MutationObserver(function (mutations, observer) {{\n",
              "        var display = window.getComputedStyle(gd).display;\n",
              "        if (!display || display === 'none') {{\n",
              "            console.log([gd, 'removed!']);\n",
              "            Plotly.purge(gd);\n",
              "            observer.disconnect();\n",
              "        }}\n",
              "}});\n",
              "\n",
              "// Listen for the removal of the full notebook cells\n",
              "var notebookContainer = gd.closest('#notebook-container');\n",
              "if (notebookContainer) {{\n",
              "    x.observe(notebookContainer, {childList: true});\n",
              "}}\n",
              "\n",
              "// Listen for the clearing of the current output cell\n",
              "var outputEl = gd.closest('.output');\n",
              "if (outputEl) {{\n",
              "    x.observe(outputEl, {childList: true});\n",
              "}}\n",
              "\n",
              "                        })                };                            </script>        </div>\n",
              "</body>\n",
              "</html>"
            ]
          },
          "metadata": {}
        }
      ]
    },
    {
      "cell_type": "markdown",
      "source": [
        "Заметим, что большое количество продолжительности приходится на 1, 2 и 3 сезоны, так как сериалы обычно имеют такую структуру. В то время как фильмы имеют широкий диапазон продолжительности, охватывая все от короткометражных произведений до полноценных кинематографических эпосов."
      ],
      "metadata": {
        "id": "GCbLs9YiHNk5"
      }
    },
    {
      "cell_type": "markdown",
      "source": [
        "# Популярный месяц"
      ],
      "metadata": {
        "id": "DO_HdY4MMY96"
      }
    },
    {
      "cell_type": "markdown",
      "source": [
        "Как упоминалось ранее, признак ***'date_added'*** содержит *10* пропущенных значений."
      ],
      "metadata": {
        "id": "b2tbKd5fMpAC"
      }
    },
    {
      "cell_type": "code",
      "source": [
        "netflix.isna().sum()"
      ],
      "metadata": {
        "id": "bYFKXFsXK6Ym",
        "colab": {
          "base_uri": "https://localhost:8080/"
        },
        "outputId": "4d788693-d7ef-4c2c-bffa-cebf874c869f"
      },
      "execution_count": 12,
      "outputs": [
        {
          "output_type": "execute_result",
          "data": {
            "text/plain": [
              "show_id            0\n",
              "type               0\n",
              "title              0\n",
              "director        2634\n",
              "cast             825\n",
              "country          831\n",
              "date_added        10\n",
              "release_year       0\n",
              "rating             4\n",
              "duration           3\n",
              "listed_in          0\n",
              "description        0\n",
              "dtype: int64"
            ]
          },
          "metadata": {},
          "execution_count": 12
        }
      ]
    },
    {
      "cell_type": "markdown",
      "source": [
        "Поскольку всего *10* пропущенных значений в признаке ***'date_added'*** составляют ничтожную долю от общего объема данных, безопасно будет удалить эти значения. Это позволит более точно анализировать и интерпретировать остальные данные, не беспокоясь о влиянии незначительных пропусков."
      ],
      "metadata": {
        "id": "REqtDKngNBuE"
      }
    },
    {
      "cell_type": "code",
      "source": [
        "netflix_date = netflix[['date_added']].dropna()\n",
        "netflix_date.isna().sum()"
      ],
      "metadata": {
        "id": "Z-ZbbY4pLAxU",
        "colab": {
          "base_uri": "https://localhost:8080/"
        },
        "outputId": "242789df-a357-4b80-8ade-3d850b8ef32f"
      },
      "execution_count": 13,
      "outputs": [
        {
          "output_type": "execute_result",
          "data": {
            "text/plain": [
              "date_added    0\n",
              "dtype: int64"
            ]
          },
          "metadata": {},
          "execution_count": 13
        }
      ]
    },
    {
      "cell_type": "code",
      "source": [
        "netflix_date.head()"
      ],
      "metadata": {
        "id": "aeiA83cVLKZm",
        "colab": {
          "base_uri": "https://localhost:8080/",
          "height": 206
        },
        "outputId": "9f998a0e-03c4-492d-d960-4e5743b8fbda"
      },
      "execution_count": 14,
      "outputs": [
        {
          "output_type": "execute_result",
          "data": {
            "text/plain": [
              "           date_added\n",
              "0  September 25, 2021\n",
              "1  September 24, 2021\n",
              "2  September 24, 2021\n",
              "3  September 24, 2021\n",
              "4  September 24, 2021"
            ],
            "text/html": [
              "\n",
              "  <div id=\"df-da98c60b-9d52-4ed5-bc5c-16e582174b62\" class=\"colab-df-container\">\n",
              "    <div>\n",
              "<style scoped>\n",
              "    .dataframe tbody tr th:only-of-type {\n",
              "        vertical-align: middle;\n",
              "    }\n",
              "\n",
              "    .dataframe tbody tr th {\n",
              "        vertical-align: top;\n",
              "    }\n",
              "\n",
              "    .dataframe thead th {\n",
              "        text-align: right;\n",
              "    }\n",
              "</style>\n",
              "<table border=\"1\" class=\"dataframe\">\n",
              "  <thead>\n",
              "    <tr style=\"text-align: right;\">\n",
              "      <th></th>\n",
              "      <th>date_added</th>\n",
              "    </tr>\n",
              "  </thead>\n",
              "  <tbody>\n",
              "    <tr>\n",
              "      <th>0</th>\n",
              "      <td>September 25, 2021</td>\n",
              "    </tr>\n",
              "    <tr>\n",
              "      <th>1</th>\n",
              "      <td>September 24, 2021</td>\n",
              "    </tr>\n",
              "    <tr>\n",
              "      <th>2</th>\n",
              "      <td>September 24, 2021</td>\n",
              "    </tr>\n",
              "    <tr>\n",
              "      <th>3</th>\n",
              "      <td>September 24, 2021</td>\n",
              "    </tr>\n",
              "    <tr>\n",
              "      <th>4</th>\n",
              "      <td>September 24, 2021</td>\n",
              "    </tr>\n",
              "  </tbody>\n",
              "</table>\n",
              "</div>\n",
              "    <div class=\"colab-df-buttons\">\n",
              "\n",
              "  <div class=\"colab-df-container\">\n",
              "    <button class=\"colab-df-convert\" onclick=\"convertToInteractive('df-da98c60b-9d52-4ed5-bc5c-16e582174b62')\"\n",
              "            title=\"Convert this dataframe to an interactive table.\"\n",
              "            style=\"display:none;\">\n",
              "\n",
              "  <svg xmlns=\"http://www.w3.org/2000/svg\" height=\"24px\" viewBox=\"0 -960 960 960\">\n",
              "    <path d=\"M120-120v-720h720v720H120Zm60-500h600v-160H180v160Zm220 220h160v-160H400v160Zm0 220h160v-160H400v160ZM180-400h160v-160H180v160Zm440 0h160v-160H620v160ZM180-180h160v-160H180v160Zm440 0h160v-160H620v160Z\"/>\n",
              "  </svg>\n",
              "    </button>\n",
              "\n",
              "  <style>\n",
              "    .colab-df-container {\n",
              "      display:flex;\n",
              "      gap: 12px;\n",
              "    }\n",
              "\n",
              "    .colab-df-convert {\n",
              "      background-color: #E8F0FE;\n",
              "      border: none;\n",
              "      border-radius: 50%;\n",
              "      cursor: pointer;\n",
              "      display: none;\n",
              "      fill: #1967D2;\n",
              "      height: 32px;\n",
              "      padding: 0 0 0 0;\n",
              "      width: 32px;\n",
              "    }\n",
              "\n",
              "    .colab-df-convert:hover {\n",
              "      background-color: #E2EBFA;\n",
              "      box-shadow: 0px 1px 2px rgba(60, 64, 67, 0.3), 0px 1px 3px 1px rgba(60, 64, 67, 0.15);\n",
              "      fill: #174EA6;\n",
              "    }\n",
              "\n",
              "    .colab-df-buttons div {\n",
              "      margin-bottom: 4px;\n",
              "    }\n",
              "\n",
              "    [theme=dark] .colab-df-convert {\n",
              "      background-color: #3B4455;\n",
              "      fill: #D2E3FC;\n",
              "    }\n",
              "\n",
              "    [theme=dark] .colab-df-convert:hover {\n",
              "      background-color: #434B5C;\n",
              "      box-shadow: 0px 1px 3px 1px rgba(0, 0, 0, 0.15);\n",
              "      filter: drop-shadow(0px 1px 2px rgba(0, 0, 0, 0.3));\n",
              "      fill: #FFFFFF;\n",
              "    }\n",
              "  </style>\n",
              "\n",
              "    <script>\n",
              "      const buttonEl =\n",
              "        document.querySelector('#df-da98c60b-9d52-4ed5-bc5c-16e582174b62 button.colab-df-convert');\n",
              "      buttonEl.style.display =\n",
              "        google.colab.kernel.accessAllowed ? 'block' : 'none';\n",
              "\n",
              "      async function convertToInteractive(key) {\n",
              "        const element = document.querySelector('#df-da98c60b-9d52-4ed5-bc5c-16e582174b62');\n",
              "        const dataTable =\n",
              "          await google.colab.kernel.invokeFunction('convertToInteractive',\n",
              "                                                    [key], {});\n",
              "        if (!dataTable) return;\n",
              "\n",
              "        const docLinkHtml = 'Like what you see? Visit the ' +\n",
              "          '<a target=\"_blank\" href=https://colab.research.google.com/notebooks/data_table.ipynb>data table notebook</a>'\n",
              "          + ' to learn more about interactive tables.';\n",
              "        element.innerHTML = '';\n",
              "        dataTable['output_type'] = 'display_data';\n",
              "        await google.colab.output.renderOutput(dataTable, element);\n",
              "        const docLink = document.createElement('div');\n",
              "        docLink.innerHTML = docLinkHtml;\n",
              "        element.appendChild(docLink);\n",
              "      }\n",
              "    </script>\n",
              "  </div>\n",
              "\n",
              "\n",
              "<div id=\"df-ceca0ee3-6e95-41ed-941c-0039f038e90c\">\n",
              "  <button class=\"colab-df-quickchart\" onclick=\"quickchart('df-ceca0ee3-6e95-41ed-941c-0039f038e90c')\"\n",
              "            title=\"Suggest charts.\"\n",
              "            style=\"display:none;\">\n",
              "\n",
              "<svg xmlns=\"http://www.w3.org/2000/svg\" height=\"24px\"viewBox=\"0 0 24 24\"\n",
              "     width=\"24px\">\n",
              "    <g>\n",
              "        <path d=\"M19 3H5c-1.1 0-2 .9-2 2v14c0 1.1.9 2 2 2h14c1.1 0 2-.9 2-2V5c0-1.1-.9-2-2-2zM9 17H7v-7h2v7zm4 0h-2V7h2v10zm4 0h-2v-4h2v4z\"/>\n",
              "    </g>\n",
              "</svg>\n",
              "  </button>\n",
              "\n",
              "<style>\n",
              "  .colab-df-quickchart {\n",
              "    background-color: #E8F0FE;\n",
              "    border: none;\n",
              "    border-radius: 50%;\n",
              "    cursor: pointer;\n",
              "    display: none;\n",
              "    fill: #1967D2;\n",
              "    height: 32px;\n",
              "    padding: 0 0 0 0;\n",
              "    width: 32px;\n",
              "  }\n",
              "\n",
              "  .colab-df-quickchart:hover {\n",
              "    background-color: #E2EBFA;\n",
              "    box-shadow: 0px 1px 2px rgba(60, 64, 67, 0.3), 0px 1px 3px 1px rgba(60, 64, 67, 0.15);\n",
              "    fill: #174EA6;\n",
              "  }\n",
              "\n",
              "  [theme=dark] .colab-df-quickchart {\n",
              "    background-color: #3B4455;\n",
              "    fill: #D2E3FC;\n",
              "  }\n",
              "\n",
              "  [theme=dark] .colab-df-quickchart:hover {\n",
              "    background-color: #434B5C;\n",
              "    box-shadow: 0px 1px 3px 1px rgba(0, 0, 0, 0.15);\n",
              "    filter: drop-shadow(0px 1px 2px rgba(0, 0, 0, 0.3));\n",
              "    fill: #FFFFFF;\n",
              "  }\n",
              "</style>\n",
              "\n",
              "  <script>\n",
              "    async function quickchart(key) {\n",
              "      const charts = await google.colab.kernel.invokeFunction(\n",
              "          'suggestCharts', [key], {});\n",
              "    }\n",
              "    (() => {\n",
              "      let quickchartButtonEl =\n",
              "        document.querySelector('#df-ceca0ee3-6e95-41ed-941c-0039f038e90c button');\n",
              "      quickchartButtonEl.style.display =\n",
              "        google.colab.kernel.accessAllowed ? 'block' : 'none';\n",
              "    })();\n",
              "  </script>\n",
              "</div>\n",
              "    </div>\n",
              "  </div>\n"
            ]
          },
          "metadata": {},
          "execution_count": 14
        }
      ]
    },
    {
      "cell_type": "markdown",
      "source": [
        "Улучшим анализ данных, разделив признак ***'date_added'*** на два новых признака: ***'year' (год)*** и ***'month' (месяц)***"
      ],
      "metadata": {
        "id": "U9d343SSNWP2"
      }
    },
    {
      "cell_type": "code",
      "source": [
        "netflix_date['year'] = netflix_date['date_added'].apply(lambda x : x.split(', ')[-1])\n",
        "netflix_date['month'] = netflix_date['date_added'].apply(lambda x : x.lstrip().split(' ')[0])\n",
        "netflix_date.head()"
      ],
      "metadata": {
        "id": "KhZuj98oLOg4",
        "colab": {
          "base_uri": "https://localhost:8080/",
          "height": 206
        },
        "outputId": "4f6b8240-2cbb-4ed1-e989-a60073bdbdb7"
      },
      "execution_count": 15,
      "outputs": [
        {
          "output_type": "execute_result",
          "data": {
            "text/plain": [
              "           date_added  year      month\n",
              "0  September 25, 2021  2021  September\n",
              "1  September 24, 2021  2021  September\n",
              "2  September 24, 2021  2021  September\n",
              "3  September 24, 2021  2021  September\n",
              "4  September 24, 2021  2021  September"
            ],
            "text/html": [
              "\n",
              "  <div id=\"df-8ef9c102-39d5-4717-8346-e77c00fff7da\" class=\"colab-df-container\">\n",
              "    <div>\n",
              "<style scoped>\n",
              "    .dataframe tbody tr th:only-of-type {\n",
              "        vertical-align: middle;\n",
              "    }\n",
              "\n",
              "    .dataframe tbody tr th {\n",
              "        vertical-align: top;\n",
              "    }\n",
              "\n",
              "    .dataframe thead th {\n",
              "        text-align: right;\n",
              "    }\n",
              "</style>\n",
              "<table border=\"1\" class=\"dataframe\">\n",
              "  <thead>\n",
              "    <tr style=\"text-align: right;\">\n",
              "      <th></th>\n",
              "      <th>date_added</th>\n",
              "      <th>year</th>\n",
              "      <th>month</th>\n",
              "    </tr>\n",
              "  </thead>\n",
              "  <tbody>\n",
              "    <tr>\n",
              "      <th>0</th>\n",
              "      <td>September 25, 2021</td>\n",
              "      <td>2021</td>\n",
              "      <td>September</td>\n",
              "    </tr>\n",
              "    <tr>\n",
              "      <th>1</th>\n",
              "      <td>September 24, 2021</td>\n",
              "      <td>2021</td>\n",
              "      <td>September</td>\n",
              "    </tr>\n",
              "    <tr>\n",
              "      <th>2</th>\n",
              "      <td>September 24, 2021</td>\n",
              "      <td>2021</td>\n",
              "      <td>September</td>\n",
              "    </tr>\n",
              "    <tr>\n",
              "      <th>3</th>\n",
              "      <td>September 24, 2021</td>\n",
              "      <td>2021</td>\n",
              "      <td>September</td>\n",
              "    </tr>\n",
              "    <tr>\n",
              "      <th>4</th>\n",
              "      <td>September 24, 2021</td>\n",
              "      <td>2021</td>\n",
              "      <td>September</td>\n",
              "    </tr>\n",
              "  </tbody>\n",
              "</table>\n",
              "</div>\n",
              "    <div class=\"colab-df-buttons\">\n",
              "\n",
              "  <div class=\"colab-df-container\">\n",
              "    <button class=\"colab-df-convert\" onclick=\"convertToInteractive('df-8ef9c102-39d5-4717-8346-e77c00fff7da')\"\n",
              "            title=\"Convert this dataframe to an interactive table.\"\n",
              "            style=\"display:none;\">\n",
              "\n",
              "  <svg xmlns=\"http://www.w3.org/2000/svg\" height=\"24px\" viewBox=\"0 -960 960 960\">\n",
              "    <path d=\"M120-120v-720h720v720H120Zm60-500h600v-160H180v160Zm220 220h160v-160H400v160Zm0 220h160v-160H400v160ZM180-400h160v-160H180v160Zm440 0h160v-160H620v160ZM180-180h160v-160H180v160Zm440 0h160v-160H620v160Z\"/>\n",
              "  </svg>\n",
              "    </button>\n",
              "\n",
              "  <style>\n",
              "    .colab-df-container {\n",
              "      display:flex;\n",
              "      gap: 12px;\n",
              "    }\n",
              "\n",
              "    .colab-df-convert {\n",
              "      background-color: #E8F0FE;\n",
              "      border: none;\n",
              "      border-radius: 50%;\n",
              "      cursor: pointer;\n",
              "      display: none;\n",
              "      fill: #1967D2;\n",
              "      height: 32px;\n",
              "      padding: 0 0 0 0;\n",
              "      width: 32px;\n",
              "    }\n",
              "\n",
              "    .colab-df-convert:hover {\n",
              "      background-color: #E2EBFA;\n",
              "      box-shadow: 0px 1px 2px rgba(60, 64, 67, 0.3), 0px 1px 3px 1px rgba(60, 64, 67, 0.15);\n",
              "      fill: #174EA6;\n",
              "    }\n",
              "\n",
              "    .colab-df-buttons div {\n",
              "      margin-bottom: 4px;\n",
              "    }\n",
              "\n",
              "    [theme=dark] .colab-df-convert {\n",
              "      background-color: #3B4455;\n",
              "      fill: #D2E3FC;\n",
              "    }\n",
              "\n",
              "    [theme=dark] .colab-df-convert:hover {\n",
              "      background-color: #434B5C;\n",
              "      box-shadow: 0px 1px 3px 1px rgba(0, 0, 0, 0.15);\n",
              "      filter: drop-shadow(0px 1px 2px rgba(0, 0, 0, 0.3));\n",
              "      fill: #FFFFFF;\n",
              "    }\n",
              "  </style>\n",
              "\n",
              "    <script>\n",
              "      const buttonEl =\n",
              "        document.querySelector('#df-8ef9c102-39d5-4717-8346-e77c00fff7da button.colab-df-convert');\n",
              "      buttonEl.style.display =\n",
              "        google.colab.kernel.accessAllowed ? 'block' : 'none';\n",
              "\n",
              "      async function convertToInteractive(key) {\n",
              "        const element = document.querySelector('#df-8ef9c102-39d5-4717-8346-e77c00fff7da');\n",
              "        const dataTable =\n",
              "          await google.colab.kernel.invokeFunction('convertToInteractive',\n",
              "                                                    [key], {});\n",
              "        if (!dataTable) return;\n",
              "\n",
              "        const docLinkHtml = 'Like what you see? Visit the ' +\n",
              "          '<a target=\"_blank\" href=https://colab.research.google.com/notebooks/data_table.ipynb>data table notebook</a>'\n",
              "          + ' to learn more about interactive tables.';\n",
              "        element.innerHTML = '';\n",
              "        dataTable['output_type'] = 'display_data';\n",
              "        await google.colab.output.renderOutput(dataTable, element);\n",
              "        const docLink = document.createElement('div');\n",
              "        docLink.innerHTML = docLinkHtml;\n",
              "        element.appendChild(docLink);\n",
              "      }\n",
              "    </script>\n",
              "  </div>\n",
              "\n",
              "\n",
              "<div id=\"df-6d156668-0b35-4ace-8b0b-2718a48e819b\">\n",
              "  <button class=\"colab-df-quickchart\" onclick=\"quickchart('df-6d156668-0b35-4ace-8b0b-2718a48e819b')\"\n",
              "            title=\"Suggest charts.\"\n",
              "            style=\"display:none;\">\n",
              "\n",
              "<svg xmlns=\"http://www.w3.org/2000/svg\" height=\"24px\"viewBox=\"0 0 24 24\"\n",
              "     width=\"24px\">\n",
              "    <g>\n",
              "        <path d=\"M19 3H5c-1.1 0-2 .9-2 2v14c0 1.1.9 2 2 2h14c1.1 0 2-.9 2-2V5c0-1.1-.9-2-2-2zM9 17H7v-7h2v7zm4 0h-2V7h2v10zm4 0h-2v-4h2v4z\"/>\n",
              "    </g>\n",
              "</svg>\n",
              "  </button>\n",
              "\n",
              "<style>\n",
              "  .colab-df-quickchart {\n",
              "    background-color: #E8F0FE;\n",
              "    border: none;\n",
              "    border-radius: 50%;\n",
              "    cursor: pointer;\n",
              "    display: none;\n",
              "    fill: #1967D2;\n",
              "    height: 32px;\n",
              "    padding: 0 0 0 0;\n",
              "    width: 32px;\n",
              "  }\n",
              "\n",
              "  .colab-df-quickchart:hover {\n",
              "    background-color: #E2EBFA;\n",
              "    box-shadow: 0px 1px 2px rgba(60, 64, 67, 0.3), 0px 1px 3px 1px rgba(60, 64, 67, 0.15);\n",
              "    fill: #174EA6;\n",
              "  }\n",
              "\n",
              "  [theme=dark] .colab-df-quickchart {\n",
              "    background-color: #3B4455;\n",
              "    fill: #D2E3FC;\n",
              "  }\n",
              "\n",
              "  [theme=dark] .colab-df-quickchart:hover {\n",
              "    background-color: #434B5C;\n",
              "    box-shadow: 0px 1px 3px 1px rgba(0, 0, 0, 0.15);\n",
              "    filter: drop-shadow(0px 1px 2px rgba(0, 0, 0, 0.3));\n",
              "    fill: #FFFFFF;\n",
              "  }\n",
              "</style>\n",
              "\n",
              "  <script>\n",
              "    async function quickchart(key) {\n",
              "      const charts = await google.colab.kernel.invokeFunction(\n",
              "          'suggestCharts', [key], {});\n",
              "    }\n",
              "    (() => {\n",
              "      let quickchartButtonEl =\n",
              "        document.querySelector('#df-6d156668-0b35-4ace-8b0b-2718a48e819b button');\n",
              "      quickchartButtonEl.style.display =\n",
              "        google.colab.kernel.accessAllowed ? 'block' : 'none';\n",
              "    })();\n",
              "  </script>\n",
              "</div>\n",
              "    </div>\n",
              "  </div>\n"
            ]
          },
          "metadata": {},
          "execution_count": 15
        }
      ]
    },
    {
      "cell_type": "markdown",
      "source": [
        "Проведем сортировку дат добавления контента по годам и месяцам. Это позволит нам увидеть эволюцию контента на платформе со временем."
      ],
      "metadata": {
        "id": "V2X4onwkNwyf"
      }
    },
    {
      "cell_type": "code",
      "source": [
        "netflix_date.sort_values(by=['year', 'month'])"
      ],
      "metadata": {
        "id": "B5Tg5zuuLvED",
        "colab": {
          "base_uri": "https://localhost:8080/",
          "height": 424
        },
        "outputId": "7d272169-a456-461e-9ae1-dfb4fc7f0b6b"
      },
      "execution_count": 16,
      "outputs": [
        {
          "output_type": "execute_result",
          "data": {
            "text/plain": [
              "             date_added  year      month\n",
              "6611   February 4, 2008  2008   February\n",
              "5957    January 1, 2008  2008    January\n",
              "5956        May 5, 2009  2009        May\n",
              "5955  November 18, 2009  2009   November\n",
              "7370   November 1, 2010  2010   November\n",
              "...                 ...   ...        ...\n",
              "178   September 1, 2021  2021  September\n",
              "179   September 1, 2021  2021  September\n",
              "180   September 1, 2021  2021  September\n",
              "181   September 1, 2021  2021  September\n",
              "182   September 1, 2021  2021  September\n",
              "\n",
              "[8797 rows x 3 columns]"
            ],
            "text/html": [
              "\n",
              "  <div id=\"df-46fdc224-8548-4286-afe2-c35f1171ebca\" class=\"colab-df-container\">\n",
              "    <div>\n",
              "<style scoped>\n",
              "    .dataframe tbody tr th:only-of-type {\n",
              "        vertical-align: middle;\n",
              "    }\n",
              "\n",
              "    .dataframe tbody tr th {\n",
              "        vertical-align: top;\n",
              "    }\n",
              "\n",
              "    .dataframe thead th {\n",
              "        text-align: right;\n",
              "    }\n",
              "</style>\n",
              "<table border=\"1\" class=\"dataframe\">\n",
              "  <thead>\n",
              "    <tr style=\"text-align: right;\">\n",
              "      <th></th>\n",
              "      <th>date_added</th>\n",
              "      <th>year</th>\n",
              "      <th>month</th>\n",
              "    </tr>\n",
              "  </thead>\n",
              "  <tbody>\n",
              "    <tr>\n",
              "      <th>6611</th>\n",
              "      <td>February 4, 2008</td>\n",
              "      <td>2008</td>\n",
              "      <td>February</td>\n",
              "    </tr>\n",
              "    <tr>\n",
              "      <th>5957</th>\n",
              "      <td>January 1, 2008</td>\n",
              "      <td>2008</td>\n",
              "      <td>January</td>\n",
              "    </tr>\n",
              "    <tr>\n",
              "      <th>5956</th>\n",
              "      <td>May 5, 2009</td>\n",
              "      <td>2009</td>\n",
              "      <td>May</td>\n",
              "    </tr>\n",
              "    <tr>\n",
              "      <th>5955</th>\n",
              "      <td>November 18, 2009</td>\n",
              "      <td>2009</td>\n",
              "      <td>November</td>\n",
              "    </tr>\n",
              "    <tr>\n",
              "      <th>7370</th>\n",
              "      <td>November 1, 2010</td>\n",
              "      <td>2010</td>\n",
              "      <td>November</td>\n",
              "    </tr>\n",
              "    <tr>\n",
              "      <th>...</th>\n",
              "      <td>...</td>\n",
              "      <td>...</td>\n",
              "      <td>...</td>\n",
              "    </tr>\n",
              "    <tr>\n",
              "      <th>178</th>\n",
              "      <td>September 1, 2021</td>\n",
              "      <td>2021</td>\n",
              "      <td>September</td>\n",
              "    </tr>\n",
              "    <tr>\n",
              "      <th>179</th>\n",
              "      <td>September 1, 2021</td>\n",
              "      <td>2021</td>\n",
              "      <td>September</td>\n",
              "    </tr>\n",
              "    <tr>\n",
              "      <th>180</th>\n",
              "      <td>September 1, 2021</td>\n",
              "      <td>2021</td>\n",
              "      <td>September</td>\n",
              "    </tr>\n",
              "    <tr>\n",
              "      <th>181</th>\n",
              "      <td>September 1, 2021</td>\n",
              "      <td>2021</td>\n",
              "      <td>September</td>\n",
              "    </tr>\n",
              "    <tr>\n",
              "      <th>182</th>\n",
              "      <td>September 1, 2021</td>\n",
              "      <td>2021</td>\n",
              "      <td>September</td>\n",
              "    </tr>\n",
              "  </tbody>\n",
              "</table>\n",
              "<p>8797 rows × 3 columns</p>\n",
              "</div>\n",
              "    <div class=\"colab-df-buttons\">\n",
              "\n",
              "  <div class=\"colab-df-container\">\n",
              "    <button class=\"colab-df-convert\" onclick=\"convertToInteractive('df-46fdc224-8548-4286-afe2-c35f1171ebca')\"\n",
              "            title=\"Convert this dataframe to an interactive table.\"\n",
              "            style=\"display:none;\">\n",
              "\n",
              "  <svg xmlns=\"http://www.w3.org/2000/svg\" height=\"24px\" viewBox=\"0 -960 960 960\">\n",
              "    <path d=\"M120-120v-720h720v720H120Zm60-500h600v-160H180v160Zm220 220h160v-160H400v160Zm0 220h160v-160H400v160ZM180-400h160v-160H180v160Zm440 0h160v-160H620v160ZM180-180h160v-160H180v160Zm440 0h160v-160H620v160Z\"/>\n",
              "  </svg>\n",
              "    </button>\n",
              "\n",
              "  <style>\n",
              "    .colab-df-container {\n",
              "      display:flex;\n",
              "      gap: 12px;\n",
              "    }\n",
              "\n",
              "    .colab-df-convert {\n",
              "      background-color: #E8F0FE;\n",
              "      border: none;\n",
              "      border-radius: 50%;\n",
              "      cursor: pointer;\n",
              "      display: none;\n",
              "      fill: #1967D2;\n",
              "      height: 32px;\n",
              "      padding: 0 0 0 0;\n",
              "      width: 32px;\n",
              "    }\n",
              "\n",
              "    .colab-df-convert:hover {\n",
              "      background-color: #E2EBFA;\n",
              "      box-shadow: 0px 1px 2px rgba(60, 64, 67, 0.3), 0px 1px 3px 1px rgba(60, 64, 67, 0.15);\n",
              "      fill: #174EA6;\n",
              "    }\n",
              "\n",
              "    .colab-df-buttons div {\n",
              "      margin-bottom: 4px;\n",
              "    }\n",
              "\n",
              "    [theme=dark] .colab-df-convert {\n",
              "      background-color: #3B4455;\n",
              "      fill: #D2E3FC;\n",
              "    }\n",
              "\n",
              "    [theme=dark] .colab-df-convert:hover {\n",
              "      background-color: #434B5C;\n",
              "      box-shadow: 0px 1px 3px 1px rgba(0, 0, 0, 0.15);\n",
              "      filter: drop-shadow(0px 1px 2px rgba(0, 0, 0, 0.3));\n",
              "      fill: #FFFFFF;\n",
              "    }\n",
              "  </style>\n",
              "\n",
              "    <script>\n",
              "      const buttonEl =\n",
              "        document.querySelector('#df-46fdc224-8548-4286-afe2-c35f1171ebca button.colab-df-convert');\n",
              "      buttonEl.style.display =\n",
              "        google.colab.kernel.accessAllowed ? 'block' : 'none';\n",
              "\n",
              "      async function convertToInteractive(key) {\n",
              "        const element = document.querySelector('#df-46fdc224-8548-4286-afe2-c35f1171ebca');\n",
              "        const dataTable =\n",
              "          await google.colab.kernel.invokeFunction('convertToInteractive',\n",
              "                                                    [key], {});\n",
              "        if (!dataTable) return;\n",
              "\n",
              "        const docLinkHtml = 'Like what you see? Visit the ' +\n",
              "          '<a target=\"_blank\" href=https://colab.research.google.com/notebooks/data_table.ipynb>data table notebook</a>'\n",
              "          + ' to learn more about interactive tables.';\n",
              "        element.innerHTML = '';\n",
              "        dataTable['output_type'] = 'display_data';\n",
              "        await google.colab.output.renderOutput(dataTable, element);\n",
              "        const docLink = document.createElement('div');\n",
              "        docLink.innerHTML = docLinkHtml;\n",
              "        element.appendChild(docLink);\n",
              "      }\n",
              "    </script>\n",
              "  </div>\n",
              "\n",
              "\n",
              "<div id=\"df-826e7df4-a780-4a8f-9986-1b0ef9d9a7bc\">\n",
              "  <button class=\"colab-df-quickchart\" onclick=\"quickchart('df-826e7df4-a780-4a8f-9986-1b0ef9d9a7bc')\"\n",
              "            title=\"Suggest charts.\"\n",
              "            style=\"display:none;\">\n",
              "\n",
              "<svg xmlns=\"http://www.w3.org/2000/svg\" height=\"24px\"viewBox=\"0 0 24 24\"\n",
              "     width=\"24px\">\n",
              "    <g>\n",
              "        <path d=\"M19 3H5c-1.1 0-2 .9-2 2v14c0 1.1.9 2 2 2h14c1.1 0 2-.9 2-2V5c0-1.1-.9-2-2-2zM9 17H7v-7h2v7zm4 0h-2V7h2v10zm4 0h-2v-4h2v4z\"/>\n",
              "    </g>\n",
              "</svg>\n",
              "  </button>\n",
              "\n",
              "<style>\n",
              "  .colab-df-quickchart {\n",
              "    background-color: #E8F0FE;\n",
              "    border: none;\n",
              "    border-radius: 50%;\n",
              "    cursor: pointer;\n",
              "    display: none;\n",
              "    fill: #1967D2;\n",
              "    height: 32px;\n",
              "    padding: 0 0 0 0;\n",
              "    width: 32px;\n",
              "  }\n",
              "\n",
              "  .colab-df-quickchart:hover {\n",
              "    background-color: #E2EBFA;\n",
              "    box-shadow: 0px 1px 2px rgba(60, 64, 67, 0.3), 0px 1px 3px 1px rgba(60, 64, 67, 0.15);\n",
              "    fill: #174EA6;\n",
              "  }\n",
              "\n",
              "  [theme=dark] .colab-df-quickchart {\n",
              "    background-color: #3B4455;\n",
              "    fill: #D2E3FC;\n",
              "  }\n",
              "\n",
              "  [theme=dark] .colab-df-quickchart:hover {\n",
              "    background-color: #434B5C;\n",
              "    box-shadow: 0px 1px 3px 1px rgba(0, 0, 0, 0.15);\n",
              "    filter: drop-shadow(0px 1px 2px rgba(0, 0, 0, 0.3));\n",
              "    fill: #FFFFFF;\n",
              "  }\n",
              "</style>\n",
              "\n",
              "  <script>\n",
              "    async function quickchart(key) {\n",
              "      const charts = await google.colab.kernel.invokeFunction(\n",
              "          'suggestCharts', [key], {});\n",
              "    }\n",
              "    (() => {\n",
              "      let quickchartButtonEl =\n",
              "        document.querySelector('#df-826e7df4-a780-4a8f-9986-1b0ef9d9a7bc button');\n",
              "      quickchartButtonEl.style.display =\n",
              "        google.colab.kernel.accessAllowed ? 'block' : 'none';\n",
              "    })();\n",
              "  </script>\n",
              "</div>\n",
              "    </div>\n",
              "  </div>\n"
            ]
          },
          "metadata": {},
          "execution_count": 16
        }
      ]
    },
    {
      "cell_type": "markdown",
      "source": [
        "Заметим, что первый фильм или сериал был добавлен в январе **2008** года, а последний – в сентябре **2021** году."
      ],
      "metadata": {
        "id": "qxMxsEOUTdGc"
      }
    },
    {
      "cell_type": "markdown",
      "source": [
        "Давайте рассмотрим количество фильмов и сериалов, выложенных по месяцам в разные годы."
      ],
      "metadata": {
        "id": "5YpYUASzad95"
      }
    },
    {
      "cell_type": "code",
      "source": [
        "month_order = netflix_date['month'].unique()\n",
        "df = netflix_date.groupby('year')['month'].value_counts().unstack().fillna(0)[month_order].T"
      ],
      "metadata": {
        "id": "FQPZdNwzMRi9"
      },
      "execution_count": 17,
      "outputs": []
    },
    {
      "cell_type": "code",
      "source": [
        "plt.figure(figsize=(10, 8))\n",
        "plt.pcolor(df, cmap='GnBu', edgecolors='white', linewidths=2)\n",
        "plt.xticks(np.arange(0.5, len(df.columns), 1), df.columns, fontsize=7)\n",
        "plt.yticks(np.arange(0.5, len(df.index), 1), df.index, fontsize=7)\n",
        "\n",
        "plt.title('Netflix Contents Update', fontsize=12, fontweight='bold')\n",
        "cbar = plt.colorbar()\n",
        "\n",
        "cbar.ax.tick_params(labelsize=8)\n",
        "cbar.ax.minorticks_on()\n",
        "plt.show()"
      ],
      "metadata": {
        "colab": {
          "base_uri": "https://localhost:8080/",
          "height": 568
        },
        "id": "jbLlZeQgzTiB",
        "outputId": "37334ddd-8a41-4733-ad81-21bd59267250"
      },
      "execution_count": 18,
      "outputs": [
        {
          "output_type": "display_data",
          "data": {
            "text/plain": [
              "<Figure size 1000x800 with 2 Axes>"
            ],
            "image/png": "[encoded data removed]"
          },
          "metadata": {}
        }
      ]
    },
    {
      "cell_type": "markdown",
      "source": [
        "Можно заметить, что до **2016** года активность на платформе была невысокой. Самыми популярными месяцами для добавления контента оказались месяцы, **совпадающие с каникулами**.  \n",
        "Этот указывает на стремление платформы привлекать внимание аудитории в периоды повышенного интереса, таких как **школьные и университетские каникулы**."
      ],
      "metadata": {
        "id": "zjXy7Sc6WPhv"
      }
    },
    {
      "cell_type": "markdown",
      "source": [
        "# Рейтинги"
      ],
      "metadata": {
        "id": "h73EA4zkbsNa"
      }
    },
    {
      "cell_type": "code",
      "source": [
        "plt.figure(figsize=(12,10))\n",
        "sns.set(style=\"darkgrid\")\n",
        "ax = sns.countplot(x=\"rating\", data=netflix_movies, palette=\"Set2\", order=netflix_movies['rating'].value_counts().index[0:15])"
      ],
      "metadata": {
        "colab": {
          "base_uri": "https://localhost:8080/",
          "height": 556
        },
        "id": "cEFJRMVWzf4j",
        "outputId": "d1226087-de37-4da3-d758-db2e979146d2"
      },
      "execution_count": 19,
      "outputs": [
        {
          "output_type": "display_data",
          "data": {
            "text/plain": [
              "<Figure size 1200x1000 with 1 Axes>"
            ],
            "image/png": "[encoded data removed]"
          },
          "metadata": {}
        }
      ]
    },
    {
      "cell_type": "markdown",
      "source": [
        "Наиболее популярными рейтингами контента на Netflix оказались **TV-MA, TV-14 и R**. Это указывает на значительный интерес зрителей к материалам, ориентированным на взрослую аудиторию и подростков."
      ],
      "metadata": {
        "id": "p6EEhn7Zb4lP"
      }
    },
    {
      "cell_type": "markdown",
      "source": [
        "# Год выпуска фильмов"
      ],
      "metadata": {
        "id": "SfCNq8lzdyLN"
      }
    },
    {
      "cell_type": "code",
      "source": [
        "plt.figure(figsize=(12,10))\n",
        "sns.set(style=\"darkgrid\")\n",
        "ax = sns.countplot(y=\"release_year\", data=netflix_movies, palette=\"Set2\", order=netflix_movies['release_year'].value_counts().index[0:15])"
      ],
      "metadata": {
        "colab": {
          "base_uri": "https://localhost:8080/",
          "height": 552
        },
        "id": "_DI0BspjWz75",
        "outputId": "1d290bef-b0fc-4b93-f6af-aae053aeccf6"
      },
      "execution_count": 20,
      "outputs": [
        {
          "output_type": "display_data",
          "data": {
            "text/plain": [
              "<Figure size 1200x1000 with 1 Axes>"
            ],
            "image/png": "[encoded data removed]"
          },
          "metadata": {}
        }
      ]
    },
    {
      "cell_type": "markdown",
      "source": [
        "В **2017** и **2018** выходило больше всего фильмо/сериалов."
      ],
      "metadata": {
        "id": "X09pfbcbd8xH"
      }
    },
    {
      "cell_type": "markdown",
      "source": [
        "# Фильмы"
      ],
      "metadata": {
        "id": "bj_lPG8rehtq"
      }
    },
    {
      "cell_type": "markdown",
      "source": [
        "## Топ 10 стран"
      ],
      "metadata": {
        "id": "-ZtrLSHkeoNn"
      }
    },
    {
      "cell_type": "markdown",
      "source": [
        "Как отмечено ранее, в признаке ***'country'*** было обнаружено *440* пропущенных значений."
      ],
      "metadata": {
        "id": "bnGFKLEAeuEm"
      }
    },
    {
      "cell_type": "code",
      "source": [
        "netflix_movies.isna().sum()"
      ],
      "metadata": {
        "colab": {
          "base_uri": "https://localhost:8080/"
        },
        "id": "Mux2IknqW7pV",
        "outputId": "eb5d1a88-5683-4567-dbf8-f64a74a9d4af"
      },
      "execution_count": 21,
      "outputs": [
        {
          "output_type": "execute_result",
          "data": {
            "text/plain": [
              "show_id           0\n",
              "type              0\n",
              "title             0\n",
              "director        188\n",
              "cast            475\n",
              "country         440\n",
              "date_added        0\n",
              "release_year      0\n",
              "rating            2\n",
              "duration          3\n",
              "listed_in         0\n",
              "description       0\n",
              "dtype: int64"
            ]
          },
          "metadata": {},
          "execution_count": 21
        }
      ]
    },
    {
      "cell_type": "markdown",
      "source": [
        "Для того чтобы учесть *440* пропущенных значений в признаке ***'country'***, заполним эти пропуски значением ***'Unknown'***. Это позволит сохранить эти записи в анализе и обозначить их как неизвестные по странам происхождения фильмов."
      ],
      "metadata": {
        "id": "q5jLGFhpfEh9"
      }
    },
    {
      "cell_type": "code",
      "source": [
        "netflix_movies['country'].fillna('Unknown', inplace=True)\n",
        "netflix_movies.isna().sum()"
      ],
      "metadata": {
        "colab": {
          "base_uri": "https://localhost:8080/"
        },
        "id": "GKWnKM6PXBFf",
        "outputId": "7e0fdae4-c547-4ef7-8722-826033879a21"
      },
      "execution_count": 22,
      "outputs": [
        {
          "output_type": "execute_result",
          "data": {
            "text/plain": [
              "show_id           0\n",
              "type              0\n",
              "title             0\n",
              "director        188\n",
              "cast            475\n",
              "country           0\n",
              "date_added        0\n",
              "release_year      0\n",
              "rating            2\n",
              "duration          3\n",
              "listed_in         0\n",
              "description       0\n",
              "dtype: int64"
            ]
          },
          "metadata": {},
          "execution_count": 22
        }
      ]
    },
    {
      "cell_type": "markdown",
      "source": [
        "Проанализируем, сколько различных стран были исчислены как производители фильмов на платформе Netflix"
      ],
      "metadata": {
        "id": "7IVdhxNKfnB1"
      }
    },
    {
      "cell_type": "code",
      "source": [
        "netflix_movies['country'].value_counts()"
      ],
      "metadata": {
        "colab": {
          "base_uri": "https://localhost:8080/"
        },
        "id": "-3OyDBvUXHb9",
        "outputId": "92938ed3-1b4c-41a4-c504-737be740cda7"
      },
      "execution_count": 23,
      "outputs": [
        {
          "output_type": "execute_result",
          "data": {
            "text/plain": [
              "United States                            2058\n",
              "India                                     893\n",
              "Unknown                                   440\n",
              "United Kingdom                            206\n",
              "Canada                                    122\n",
              "                                         ... \n",
              "United Kingdom, Russia, United States       1\n",
              "Paraguay, Argentina                         1\n",
              "United Kingdom, Malawi                      1\n",
              "Austria, Iraq, United States                1\n",
              "United Arab Emirates, Jordan                1\n",
              "Name: country, Length: 652, dtype: int64"
            ]
          },
          "metadata": {},
          "execution_count": 23
        }
      ]
    },
    {
      "cell_type": "markdown",
      "source": [
        "Взглянув на данные, заметим что существует ряд фильмов, совместно созданных несколькими странами.  \n",
        "В связи с этим, можем построить словарь, который будет отображать страны в качестве ключей, а значение каждой страны будет представлено числом фильмов, произведенных в этой стране. Это позволит лучше понять, какие страны активно участвуют в создании контента."
      ],
      "metadata": {
        "id": "4yrXZh1Gf1AB"
      }
    },
    {
      "cell_type": "code",
      "source": [
        "countries_mov = {}\n",
        "\n",
        "cou = list(netflix_movies['country'])\n",
        "for i in cou:\n",
        "    i = i.replace(' ', '')\n",
        "    i = list(i.split(','))\n",
        "\n",
        "    for j in i:\n",
        "        if j in list(countries_mov.keys()):\n",
        "            countries_mov[j]+=1\n",
        "        else:\n",
        "            countries_mov[j]=1"
      ],
      "metadata": {
        "id": "H3wsnsg2XKQt"
      },
      "execution_count": 24,
      "outputs": []
    },
    {
      "cell_type": "code",
      "source": [
        "for key, value in list(countries_mov.items())[:10]:\n",
        "  print(key, '->', value)"
      ],
      "metadata": {
        "colab": {
          "base_uri": "https://localhost:8080/"
        },
        "id": "ky0mzXMtXMff",
        "outputId": "361a4550-6273-49a0-b974-b14260102c3b"
      },
      "execution_count": 25,
      "outputs": [
        {
          "output_type": "stream",
          "name": "stdout",
          "text": [
            "UnitedStates -> 2752\n",
            "Unknown -> 440\n",
            "Ghana -> 5\n",
            "BurkinaFaso -> 1\n",
            "UnitedKingdom -> 534\n",
            "Germany -> 182\n",
            "Ethiopia -> 1\n",
            "CzechRepublic -> 16\n",
            "India -> 962\n",
            "France -> 303\n"
          ]
        }
      ]
    },
    {
      "cell_type": "markdown",
      "source": [
        "Отсортируем по значениям и возьмем топ *10*."
      ],
      "metadata": {
        "id": "nkAvG4_ugu1V"
      }
    },
    {
      "cell_type": "code",
      "source": [
        "top_countries = sorted(countries_mov.items(), key=lambda item: countries_mov[item[0]], reverse=True)\n",
        "top_countries = top_countries[:10]\n",
        "top_countries"
      ],
      "metadata": {
        "colab": {
          "base_uri": "https://localhost:8080/"
        },
        "id": "xS4bApv1XR_x",
        "outputId": "97366efa-fb7d-45c0-8bfa-949d718ac0ea"
      },
      "execution_count": 26,
      "outputs": [
        {
          "output_type": "execute_result",
          "data": {
            "text/plain": [
              "[('UnitedStates', 2752),\n",
              " ('India', 962),\n",
              " ('UnitedKingdom', 534),\n",
              " ('Unknown', 440),\n",
              " ('Canada', 319),\n",
              " ('France', 303),\n",
              " ('Germany', 182),\n",
              " ('Spain', 171),\n",
              " ('Japan', 119),\n",
              " ('China', 114)]"
            ]
          },
          "metadata": {},
          "execution_count": 26
        }
      ]
    },
    {
      "cell_type": "code",
      "source": [
        "names = [name for name, _ in top_countries]\n",
        "values = [value for _, value in top_countries]"
      ],
      "metadata": {
        "id": "Kl2B9_TdXWPb"
      },
      "execution_count": 27,
      "outputs": []
    },
    {
      "cell_type": "code",
      "source": [
        "plt.figure(figsize=(8,8))\n",
        "ax = sns.barplot(x=names, y=values)\n",
        "ax.set_xticklabels(names, rotation=45);"
      ],
      "metadata": {
        "colab": {
          "base_uri": "https://localhost:8080/",
          "height": 723
        },
        "id": "_pt5KIE1XbIH",
        "outputId": "49f8fe16-3cb7-4514-9a11-89e236da61c3"
      },
      "execution_count": 28,
      "outputs": [
        {
          "output_type": "display_data",
          "data": {
            "text/plain": [
              "<Figure size 800x800 with 1 Axes>"
            ],
            "image/png": "[encoded data removed]"
          },
          "metadata": {}
        }
      ]
    },
    {
      "cell_type": "markdown",
      "source": [
        "Заметно, что наибольшее количество фильмов выпущено странами: ***США, Индия и Великобритания***. При этом ***США*** значительно опережает остальные страны по числу выпущенных фильмов."
      ],
      "metadata": {
        "id": "O5dA8un9wwuO"
      }
    },
    {
      "cell_type": "markdown",
      "source": [
        "## Продолжительности фильмов"
      ],
      "metadata": {
        "id": "EBmZmD8Dhdim"
      }
    },
    {
      "cell_type": "markdown",
      "source": [
        "Как упомянуто ранее, признак ***'duration'*** содержит *3* пропущенных значения. Для того чтобы обеспечить чистоту данных и устранить возможные искажения, связанные с этими пропусками, удалим записи, содержащие эти пропущенные значения."
      ],
      "metadata": {
        "id": "-h4u6HtTxoxk"
      }
    },
    {
      "cell_type": "code",
      "source": [
        "netflix_movies.isna().sum()"
      ],
      "metadata": {
        "colab": {
          "base_uri": "https://localhost:8080/"
        },
        "id": "QVHFVOwfXlqN",
        "outputId": "bdc6e64e-378e-4642-ef04-1bf8b2116e90"
      },
      "execution_count": 29,
      "outputs": [
        {
          "output_type": "execute_result",
          "data": {
            "text/plain": [
              "show_id           0\n",
              "type              0\n",
              "title             0\n",
              "director        188\n",
              "cast            475\n",
              "country           0\n",
              "date_added        0\n",
              "release_year      0\n",
              "rating            2\n",
              "duration          3\n",
              "listed_in         0\n",
              "description       0\n",
              "dtype: int64"
            ]
          },
          "metadata": {},
          "execution_count": 29
        }
      ]
    },
    {
      "cell_type": "code",
      "source": [
        "netflix_movies = netflix_movies.dropna(subset=['duration'])"
      ],
      "metadata": {
        "id": "tCFuYfGGX7yn"
      },
      "execution_count": 30,
      "outputs": []
    },
    {
      "cell_type": "markdown",
      "source": [
        "Для улучшения удобства анализа и визуализации данных применим процесс преобразования категориальных признаков в числовые."
      ],
      "metadata": {
        "id": "3N960w-9yY2t"
      }
    },
    {
      "cell_type": "code",
      "source": [
        "netflix_movies['duration'] = netflix_movies['duration'].str.replace(' min','')\n",
        "netflix_movies['duration'] = netflix_movies['duration'].astype(int)\n",
        "netflix_movies['duration'][:10]"
      ],
      "metadata": {
        "colab": {
          "base_uri": "https://localhost:8080/"
        },
        "id": "63BXSGPeXpco",
        "outputId": "109fb46e-2744-401f-adab-c0d16fca62b7"
      },
      "execution_count": 31,
      "outputs": [
        {
          "output_type": "execute_result",
          "data": {
            "text/plain": [
              "0      90\n",
              "6      91\n",
              "7     125\n",
              "9     104\n",
              "12    127\n",
              "13     91\n",
              "16     67\n",
              "18     94\n",
              "22    161\n",
              "23     61\n",
              "Name: duration, dtype: int64"
            ]
          },
          "metadata": {},
          "execution_count": 31
        }
      ]
    },
    {
      "cell_type": "code",
      "source": [
        "sns.set(style=\"darkgrid\")\n",
        "plt.figure(figsize=(10, 8))\n",
        "sns.kdeplot(data=netflix_movies['duration'], fill=True);"
      ],
      "metadata": {
        "colab": {
          "base_uri": "https://localhost:8080/",
          "height": 527
        },
        "id": "gb1L8VAKYF5b",
        "outputId": "41085d70-81ad-4895-aba6-92718b9f6e63"
      },
      "execution_count": 32,
      "outputs": [
        {
          "output_type": "display_data",
          "data": {
            "text/plain": [
              "<Figure size 1000x800 with 1 Axes>"
            ],
            "image/png": "[encoded data removed]"
          },
          "metadata": {}
        }
      ]
    },
    {
      "cell_type": "markdown",
      "source": [
        "Можно заметить, что наиболее распространенные продолжительности фильмов сосредоточены в диапазоне ***от 60 до 120 минут***.   \n",
        "Этот промежуток охватывает большинство фильмов на платформе Netflix, подчеркивая предпочтения зрителей к кинематографическим работам средней продолжительности.   \n",
        "Важно отметить, что помимо этого диапазона также присутствует значительное количество ***короткометражных фильмов***."
      ],
      "metadata": {
        "id": "anLaXDmQzCzr"
      }
    },
    {
      "cell_type": "markdown",
      "source": [
        "## Жанры"
      ],
      "metadata": {
        "id": "SG3mfMuh0EKk"
      }
    },
    {
      "cell_type": "markdown",
      "source": [
        "Рассмотрим жанры фильмов на платформе Netflix."
      ],
      "metadata": {
        "id": "aonj8voUUyGM"
      }
    },
    {
      "cell_type": "code",
      "source": [
        "netflix_movies['listed_in']"
      ],
      "metadata": {
        "id": "wH3BO0H7ZPe_",
        "outputId": "34c8ab4d-44d4-4897-ce03-ef68ed5933cb",
        "colab": {
          "base_uri": "https://localhost:8080/"
        }
      },
      "execution_count": 33,
      "outputs": [
        {
          "output_type": "execute_result",
          "data": {
            "text/plain": [
              "0                                          Documentaries\n",
              "6                               Children & Family Movies\n",
              "7       Dramas, Independent Movies, International Movies\n",
              "9                                       Comedies, Dramas\n",
              "12                          Dramas, International Movies\n",
              "                              ...                       \n",
              "8801             Dramas, International Movies, Thrillers\n",
              "8802                      Cult Movies, Dramas, Thrillers\n",
              "8804                             Comedies, Horror Movies\n",
              "8805                  Children & Family Movies, Comedies\n",
              "8806      Dramas, International Movies, Music & Musicals\n",
              "Name: listed_in, Length: 6128, dtype: object"
            ]
          },
          "metadata": {},
          "execution_count": 33
        }
      ]
    },
    {
      "cell_type": "markdown",
      "source": [
        "Как можем заметить, один фильм может включать в себя несколько жанров. Для более полного анализа создадим словарь, в котором будут храниться все уникальные жанры вместе с количеством раз, которое они встречаются."
      ],
      "metadata": {
        "id": "jlXNVyxxVuAF"
      }
    },
    {
      "cell_type": "code",
      "source": [
        "genres_list = list(netflix_movies['listed_in'])\n",
        "genres_array = []\n",
        "\n",
        "for i in genres_list:\n",
        "    i = list(i.split(','))\n",
        "    for j in i:\n",
        "        genres_array.append(j.replace(' ', ''))\n",
        "\n",
        "genres = Counter(genres_array)"
      ],
      "metadata": {
        "id": "1FKKmsPj4mrt"
      },
      "execution_count": 34,
      "outputs": []
    },
    {
      "cell_type": "code",
      "source": [
        "for key, value in list(genres.items())[:10]:\n",
        "  print(key, '->', value)"
      ],
      "metadata": {
        "colab": {
          "base_uri": "https://localhost:8080/"
        },
        "id": "YhAlzOOG4s90",
        "outputId": "9c1c88ca-15ad-42f8-f491-8941ddf55da9"
      },
      "execution_count": 35,
      "outputs": [
        {
          "output_type": "stream",
          "name": "stdout",
          "text": [
            "Documentaries -> 869\n",
            "Children&FamilyMovies -> 641\n",
            "Dramas -> 2427\n",
            "IndependentMovies -> 756\n",
            "InternationalMovies -> 2752\n",
            "Comedies -> 1674\n",
            "Thrillers -> 577\n",
            "RomanticMovies -> 616\n",
            "Music&Musicals -> 375\n",
            "HorrorMovies -> 357\n"
          ]
        }
      ]
    },
    {
      "cell_type": "markdown",
      "source": [
        "Отсортируем наш словарь с жанрами по количеству встречаемости и затем визуализируем топ *10* самых популярных жанров на платформе Netflix."
      ],
      "metadata": {
        "id": "eP5ONrIlqvWi"
      }
    },
    {
      "cell_type": "code",
      "source": [
        "genres = sorted(genres.items(), key=lambda item: genres[item[0]], reverse=True)\n",
        "genres[:10]"
      ],
      "metadata": {
        "colab": {
          "base_uri": "https://localhost:8080/"
        },
        "id": "7VqyWqqK4zER",
        "outputId": "4bc6c1ce-fc15-4125-bd4a-53eef20b9ede"
      },
      "execution_count": 36,
      "outputs": [
        {
          "output_type": "execute_result",
          "data": {
            "text/plain": [
              "[('InternationalMovies', 2752),\n",
              " ('Dramas', 2427),\n",
              " ('Comedies', 1674),\n",
              " ('Documentaries', 869),\n",
              " ('Action&Adventure', 859),\n",
              " ('IndependentMovies', 756),\n",
              " ('Children&FamilyMovies', 641),\n",
              " ('RomanticMovies', 616),\n",
              " ('Thrillers', 577),\n",
              " ('Music&Musicals', 375)]"
            ]
          },
          "metadata": {},
          "execution_count": 36
        }
      ]
    },
    {
      "cell_type": "code",
      "source": [
        "genre_names = [name for name, value in genres]\n",
        "genre_values = [value for name, value in genres]"
      ],
      "metadata": {
        "id": "q1Sw_lwn4-Nm"
      },
      "execution_count": 37,
      "outputs": []
    },
    {
      "cell_type": "code",
      "source": [
        "fig = plt.figure(figsize = (10, 10))\n",
        "ax = sns.barplot(x=genre_names, y=genre_values)\n",
        "\n",
        "ax.set_xticklabels(genre_names, rotation=70)\n",
        "ax.set_ylabel(\"Count of movies\")\n",
        "ax.set_title(\"Genres\");"
      ],
      "metadata": {
        "colab": {
          "base_uri": "https://localhost:8080/",
          "height": 769
        },
        "id": "QduL8HUb45k_",
        "outputId": "7ccf0b7f-82b5-4501-8b8c-0a412851a7b9"
      },
      "execution_count": 38,
      "outputs": [
        {
          "output_type": "display_data",
          "data": {
            "text/plain": [
              "<Figure size 1000x1000 with 1 Axes>"
            ],
            "image/png": "[encoded data removed]"
          },
          "metadata": {}
        }
      ]
    },
    {
      "cell_type": "markdown",
      "source": [
        "На платформе Netflix выделяются три наиболее популярных жанра: ***'InternationalMovies', 'Dramas' и 'Comedies'***. Фильмы этих жанров преобладают среди контента, представленного на платформе"
      ],
      "metadata": {
        "id": "YT8GkwFDrGld"
      }
    },
    {
      "cell_type": "markdown",
      "source": [
        "# Сериалы"
      ],
      "metadata": {
        "id": "hVEQfq_i0Ozq"
      }
    },
    {
      "cell_type": "markdown",
      "source": [
        "## Топ 10 стран"
      ],
      "metadata": {
        "id": "sHDf5XWV0Skj"
      }
    },
    {
      "cell_type": "markdown",
      "source": [
        "Как отмечено ранее, в признаке ***'country'*** было обнаружено *391* пропущенных значений."
      ],
      "metadata": {
        "id": "wF4bc3fgxaJp"
      }
    },
    {
      "cell_type": "code",
      "source": [
        "netflix_shows.isna().sum()"
      ],
      "metadata": {
        "colab": {
          "base_uri": "https://localhost:8080/"
        },
        "id": "_TNzl7wH5HAi",
        "outputId": "ea5ef090-2781-44eb-be25-6f5d28f03834"
      },
      "execution_count": 39,
      "outputs": [
        {
          "output_type": "execute_result",
          "data": {
            "text/plain": [
              "show_id            0\n",
              "type               0\n",
              "title              0\n",
              "director        2446\n",
              "cast             350\n",
              "country          391\n",
              "date_added        10\n",
              "release_year       0\n",
              "rating             2\n",
              "duration           0\n",
              "listed_in          0\n",
              "description        0\n",
              "dtype: int64"
            ]
          },
          "metadata": {},
          "execution_count": 39
        }
      ]
    },
    {
      "cell_type": "markdown",
      "source": [
        "Для того чтобы учесть *391* пропущенных значений в признаке ***'country'***, заполним эти пропуски значением ***'Unknown'***. Это позволит сохранить эти записи в анализе и обозначить их как неизвестные по странам происхождения фильмов."
      ],
      "metadata": {
        "id": "Ma1vUZbzyRZX"
      }
    },
    {
      "cell_type": "code",
      "source": [
        "netflix_shows['country'].fillna('Unknown', inplace=True)\n",
        "netflix_shows.isna().sum()"
      ],
      "metadata": {
        "colab": {
          "base_uri": "https://localhost:8080/"
        },
        "id": "W7tVsahr5Ir_",
        "outputId": "7aa41b29-edd4-4726-894c-b80a419943f2"
      },
      "execution_count": 40,
      "outputs": [
        {
          "output_type": "execute_result",
          "data": {
            "text/plain": [
              "show_id            0\n",
              "type               0\n",
              "title              0\n",
              "director        2446\n",
              "cast             350\n",
              "country            0\n",
              "date_added        10\n",
              "release_year       0\n",
              "rating             2\n",
              "duration           0\n",
              "listed_in          0\n",
              "description        0\n",
              "dtype: int64"
            ]
          },
          "metadata": {},
          "execution_count": 40
        }
      ]
    },
    {
      "cell_type": "markdown",
      "source": [
        "Проанализируем, сколько различных стран были исчислены как производители сериалов на платформе Netflix"
      ],
      "metadata": {
        "id": "Benn1spDyCiD"
      }
    },
    {
      "cell_type": "code",
      "source": [
        "netflix_shows['country'].value_counts()"
      ],
      "metadata": {
        "colab": {
          "base_uri": "https://localhost:8080/"
        },
        "id": "dwBqkIi75Mng",
        "outputId": "6f52290f-2c0c-4590-b557-e503c5d99972"
      },
      "execution_count": 41,
      "outputs": [
        {
          "output_type": "execute_result",
          "data": {
            "text/plain": [
              "United States                                    760\n",
              "Unknown                                          391\n",
              "United Kingdom                                   213\n",
              "Japan                                            169\n",
              "South Korea                                      158\n",
              "                                                ... \n",
              "Belarus                                            1\n",
              "United Kingdom, Australia                          1\n",
              "France, Australia, Germany                         1\n",
              "Australia, New Zealand, United States              1\n",
              "United States, France, South Korea, Indonesia      1\n",
              "Name: country, Length: 197, dtype: int64"
            ]
          },
          "metadata": {},
          "execution_count": 41
        }
      ]
    },
    {
      "cell_type": "markdown",
      "source": [
        "Взглянув на данные, заметим что существует ряд сериалов, совместно созданных несколькими странами. В связи с этим, можем построить словарь, который будет отображать страны в качестве ключей, а значение каждой страны будет представлено числом сериалов, произведенных в этой стране. Это позволит лучше понять, какие страны активно участвуют в создании контента."
      ],
      "metadata": {
        "id": "tgt4GlOyybpC"
      }
    },
    {
      "cell_type": "code",
      "source": [
        "countries_show = {}\n",
        "\n",
        "cou = list(netflix_shows['country'])\n",
        "for i in cou:\n",
        "    i = i.replace(' ', '')\n",
        "    i = list(i.split(','))\n",
        "\n",
        "    for j in i:\n",
        "        if j in list(countries_show.keys()):\n",
        "            countries_show[j]+=1\n",
        "        else:\n",
        "            countries_show[j]=1"
      ],
      "metadata": {
        "id": "jyiD19Mt5O4N"
      },
      "execution_count": 42,
      "outputs": []
    },
    {
      "cell_type": "code",
      "source": [
        "for key, value in list(countries_show.items())[:10]:\n",
        "  print(key, '->', value)"
      ],
      "metadata": {
        "colab": {
          "base_uri": "https://localhost:8080/"
        },
        "id": "ARZxNe-J5RaM",
        "outputId": "9737161b-a278-4556-c30b-4e8b3a9a8381"
      },
      "execution_count": 43,
      "outputs": [
        {
          "output_type": "stream",
          "name": "stdout",
          "text": [
            "SouthAfrica -> 11\n",
            "Unknown -> 391\n",
            "India -> 84\n",
            "UnitedKingdom -> 272\n",
            "UnitedStates -> 938\n",
            "Mexico -> 58\n",
            "Turkey -> 30\n",
            "Australia -> 66\n",
            "Finland -> 4\n",
            "Nigeria -> 9\n"
          ]
        }
      ]
    },
    {
      "cell_type": "markdown",
      "source": [
        "Отсортируем по значениям и возьмем топ *10*."
      ],
      "metadata": {
        "id": "KI_5SOSoyudb"
      }
    },
    {
      "cell_type": "code",
      "source": [
        "top_countries = sorted(countries_show.items(), key=lambda item: countries_show[item[0]], reverse=True)\n",
        "top_countries = top_countries[:10]\n",
        "top_countries"
      ],
      "metadata": {
        "colab": {
          "base_uri": "https://localhost:8080/"
        },
        "id": "CviVf6Pw5Vvj",
        "outputId": "3917870d-122a-4ade-ee61-440958d21592"
      },
      "execution_count": 44,
      "outputs": [
        {
          "output_type": "execute_result",
          "data": {
            "text/plain": [
              "[('UnitedStates', 938),\n",
              " ('Unknown', 391),\n",
              " ('UnitedKingdom', 272),\n",
              " ('Japan', 199),\n",
              " ('SouthKorea', 170),\n",
              " ('Canada', 126),\n",
              " ('France', 90),\n",
              " ('India', 84),\n",
              " ('Taiwan', 70),\n",
              " ('Australia', 66)]"
            ]
          },
          "metadata": {},
          "execution_count": 44
        }
      ]
    },
    {
      "cell_type": "code",
      "source": [
        "names = [name for name, _ in top_countries]\n",
        "values = [value for _, value in top_countries]"
      ],
      "metadata": {
        "id": "R_3d2Avp5ZUi"
      },
      "execution_count": 45,
      "outputs": []
    },
    {
      "cell_type": "code",
      "source": [
        "plt.figure(figsize=(8,8))\n",
        "ax = sns.barplot(x=names, y=values)\n",
        "ax.set_xticklabels(names, rotation=45);"
      ],
      "metadata": {
        "colab": {
          "base_uri": "https://localhost:8080/",
          "height": 732
        },
        "id": "dJEUG6vs5cFU",
        "outputId": "aa6cb7f0-69ce-49e3-864d-c969e289d4c5"
      },
      "execution_count": 46,
      "outputs": [
        {
          "output_type": "display_data",
          "data": {
            "text/plain": [
              "<Figure size 800x800 with 1 Axes>"
            ],
            "image/png": "[encoded data removed]"
          },
          "metadata": {}
        }
      ]
    },
    {
      "cell_type": "markdown",
      "source": [
        "Заметно, что наибольшее количество сериалов выпущено странами: ***США, Великобритания***, а также есть значительное количество сериалов, ***происхождение которых остается неизвестным***. При этом ***США*** значительно опережает остальные страны по числу выпущенных фильмов."
      ],
      "metadata": {
        "id": "kFA16GoMy0Rn"
      }
    },
    {
      "cell_type": "markdown",
      "source": [
        "## Сезоны"
      ],
      "metadata": {
        "id": "lYRmEtgq0abX"
      }
    },
    {
      "cell_type": "markdown",
      "source": [
        "С учетом того, что длительности сериалов на платформе Netflix обычно обозначаются в сезонах, можем провести преобразование для удаления слова ***'seasons'*** и преобразования этих значений в числовые переменные. Это позволит более легко анализировать и сравнивать продолжительности сериалов, не имея необходимости обращать внимание на текстовое обозначение."
      ],
      "metadata": {
        "id": "BGe3Xith-ig0"
      }
    },
    {
      "cell_type": "code",
      "source": [
        "durations = netflix_shows[['title', 'duration']]\n",
        "durations"
      ],
      "metadata": {
        "colab": {
          "base_uri": "https://localhost:8080/",
          "height": 424
        },
        "id": "d54jEX9c5kIc",
        "outputId": "56079d88-5a2e-4a79-de3b-cd16c151cc2f"
      },
      "execution_count": 50,
      "outputs": [
        {
          "output_type": "execute_result",
          "data": {
            "text/plain": [
              "                      title   duration\n",
              "1             Blood & Water  2 Seasons\n",
              "2                 Ganglands   1 Season\n",
              "3     Jailbirds New Orleans   1 Season\n",
              "4              Kota Factory  2 Seasons\n",
              "5             Midnight Mass   1 Season\n",
              "...                     ...        ...\n",
              "8795        Yu-Gi-Oh! Arc-V  2 Seasons\n",
              "8796             Yunus Emre  2 Seasons\n",
              "8797              Zak Storm  3 Seasons\n",
              "8800     Zindagi Gulzar Hai   1 Season\n",
              "8803            Zombie Dumb  2 Seasons\n",
              "\n",
              "[2676 rows x 2 columns]"
            ],
            "text/html": [
              "\n",
              "  <div id=\"df-139cbb1f-74ee-4b56-b98a-d5a1615d1b19\" class=\"colab-df-container\">\n",
              "    <div>\n",
              "<style scoped>\n",
              "    .dataframe tbody tr th:only-of-type {\n",
              "        vertical-align: middle;\n",
              "    }\n",
              "\n",
              "    .dataframe tbody tr th {\n",
              "        vertical-align: top;\n",
              "    }\n",
              "\n",
              "    .dataframe thead th {\n",
              "        text-align: right;\n",
              "    }\n",
              "</style>\n",
              "<table border=\"1\" class=\"dataframe\">\n",
              "  <thead>\n",
              "    <tr style=\"text-align: right;\">\n",
              "      <th></th>\n",
              "      <th>title</th>\n",
              "      <th>duration</th>\n",
              "    </tr>\n",
              "  </thead>\n",
              "  <tbody>\n",
              "    <tr>\n",
              "      <th>1</th>\n",
              "      <td>Blood &amp; Water</td>\n",
              "      <td>2 Seasons</td>\n",
              "    </tr>\n",
              "    <tr>\n",
              "      <th>2</th>\n",
              "      <td>Ganglands</td>\n",
              "      <td>1 Season</td>\n",
              "    </tr>\n",
              "    <tr>\n",
              "      <th>3</th>\n",
              "      <td>Jailbirds New Orleans</td>\n",
              "      <td>1 Season</td>\n",
              "    </tr>\n",
              "    <tr>\n",
              "      <th>4</th>\n",
              "      <td>Kota Factory</td>\n",
              "      <td>2 Seasons</td>\n",
              "    </tr>\n",
              "    <tr>\n",
              "      <th>5</th>\n",
              "      <td>Midnight Mass</td>\n",
              "      <td>1 Season</td>\n",
              "    </tr>\n",
              "    <tr>\n",
              "      <th>...</th>\n",
              "      <td>...</td>\n",
              "      <td>...</td>\n",
              "    </tr>\n",
              "    <tr>\n",
              "      <th>8795</th>\n",
              "      <td>Yu-Gi-Oh! Arc-V</td>\n",
              "      <td>2 Seasons</td>\n",
              "    </tr>\n",
              "    <tr>\n",
              "      <th>8796</th>\n",
              "      <td>Yunus Emre</td>\n",
              "      <td>2 Seasons</td>\n",
              "    </tr>\n",
              "    <tr>\n",
              "      <th>8797</th>\n",
              "      <td>Zak Storm</td>\n",
              "      <td>3 Seasons</td>\n",
              "    </tr>\n",
              "    <tr>\n",
              "      <th>8800</th>\n",
              "      <td>Zindagi Gulzar Hai</td>\n",
              "      <td>1 Season</td>\n",
              "    </tr>\n",
              "    <tr>\n",
              "      <th>8803</th>\n",
              "      <td>Zombie Dumb</td>\n",
              "      <td>2 Seasons</td>\n",
              "    </tr>\n",
              "  </tbody>\n",
              "</table>\n",
              "<p>2676 rows × 2 columns</p>\n",
              "</div>\n",
              "    <div class=\"colab-df-buttons\">\n",
              "\n",
              "  <div class=\"colab-df-container\">\n",
              "    <button class=\"colab-df-convert\" onclick=\"convertToInteractive('df-139cbb1f-74ee-4b56-b98a-d5a1615d1b19')\"\n",
              "            title=\"Convert this dataframe to an interactive table.\"\n",
              "            style=\"display:none;\">\n",
              "\n",
              "  <svg xmlns=\"http://www.w3.org/2000/svg\" height=\"24px\" viewBox=\"0 -960 960 960\">\n",
              "    <path d=\"M120-120v-720h720v720H120Zm60-500h600v-160H180v160Zm220 220h160v-160H400v160Zm0 220h160v-160H400v160ZM180-400h160v-160H180v160Zm440 0h160v-160H620v160ZM180-180h160v-160H180v160Zm440 0h160v-160H620v160Z\"/>\n",
              "  </svg>\n",
              "    </button>\n",
              "\n",
              "  <style>\n",
              "    .colab-df-container {\n",
              "      display:flex;\n",
              "      gap: 12px;\n",
              "    }\n",
              "\n",
              "    .colab-df-convert {\n",
              "      background-color: #E8F0FE;\n",
              "      border: none;\n",
              "      border-radius: 50%;\n",
              "      cursor: pointer;\n",
              "      display: none;\n",
              "      fill: #1967D2;\n",
              "      height: 32px;\n",
              "      padding: 0 0 0 0;\n",
              "      width: 32px;\n",
              "    }\n",
              "\n",
              "    .colab-df-convert:hover {\n",
              "      background-color: #E2EBFA;\n",
              "      box-shadow: 0px 1px 2px rgba(60, 64, 67, 0.3), 0px 1px 3px 1px rgba(60, 64, 67, 0.15);\n",
              "      fill: #174EA6;\n",
              "    }\n",
              "\n",
              "    .colab-df-buttons div {\n",
              "      margin-bottom: 4px;\n",
              "    }\n",
              "\n",
              "    [theme=dark] .colab-df-convert {\n",
              "      background-color: #3B4455;\n",
              "      fill: #D2E3FC;\n",
              "    }\n",
              "\n",
              "    [theme=dark] .colab-df-convert:hover {\n",
              "      background-color: #434B5C;\n",
              "      box-shadow: 0px 1px 3px 1px rgba(0, 0, 0, 0.15);\n",
              "      filter: drop-shadow(0px 1px 2px rgba(0, 0, 0, 0.3));\n",
              "      fill: #FFFFFF;\n",
              "    }\n",
              "  </style>\n",
              "\n",
              "    <script>\n",
              "      const buttonEl =\n",
              "        document.querySelector('#df-139cbb1f-74ee-4b56-b98a-d5a1615d1b19 button.colab-df-convert');\n",
              "      buttonEl.style.display =\n",
              "        google.colab.kernel.accessAllowed ? 'block' : 'none';\n",
              "\n",
              "      async function convertToInteractive(key) {\n",
              "        const element = document.querySelector('#df-139cbb1f-74ee-4b56-b98a-d5a1615d1b19');\n",
              "        const dataTable =\n",
              "          await google.colab.kernel.invokeFunction('convertToInteractive',\n",
              "                                                    [key], {});\n",
              "        if (!dataTable) return;\n",
              "\n",
              "        const docLinkHtml = 'Like what you see? Visit the ' +\n",
              "          '<a target=\"_blank\" href=https://colab.research.google.com/notebooks/data_table.ipynb>data table notebook</a>'\n",
              "          + ' to learn more about interactive tables.';\n",
              "        element.innerHTML = '';\n",
              "        dataTable['output_type'] = 'display_data';\n",
              "        await google.colab.output.renderOutput(dataTable, element);\n",
              "        const docLink = document.createElement('div');\n",
              "        docLink.innerHTML = docLinkHtml;\n",
              "        element.appendChild(docLink);\n",
              "      }\n",
              "    </script>\n",
              "  </div>\n",
              "\n",
              "\n",
              "<div id=\"df-3ff326eb-d964-4e29-a134-5518f2681126\">\n",
              "  <button class=\"colab-df-quickchart\" onclick=\"quickchart('df-3ff326eb-d964-4e29-a134-5518f2681126')\"\n",
              "            title=\"Suggest charts.\"\n",
              "            style=\"display:none;\">\n",
              "\n",
              "<svg xmlns=\"http://www.w3.org/2000/svg\" height=\"24px\"viewBox=\"0 0 24 24\"\n",
              "     width=\"24px\">\n",
              "    <g>\n",
              "        <path d=\"M19 3H5c-1.1 0-2 .9-2 2v14c0 1.1.9 2 2 2h14c1.1 0 2-.9 2-2V5c0-1.1-.9-2-2-2zM9 17H7v-7h2v7zm4 0h-2V7h2v10zm4 0h-2v-4h2v4z\"/>\n",
              "    </g>\n",
              "</svg>\n",
              "  </button>\n",
              "\n",
              "<style>\n",
              "  .colab-df-quickchart {\n",
              "    background-color: #E8F0FE;\n",
              "    border: none;\n",
              "    border-radius: 50%;\n",
              "    cursor: pointer;\n",
              "    display: none;\n",
              "    fill: #1967D2;\n",
              "    height: 32px;\n",
              "    padding: 0 0 0 0;\n",
              "    width: 32px;\n",
              "  }\n",
              "\n",
              "  .colab-df-quickchart:hover {\n",
              "    background-color: #E2EBFA;\n",
              "    box-shadow: 0px 1px 2px rgba(60, 64, 67, 0.3), 0px 1px 3px 1px rgba(60, 64, 67, 0.15);\n",
              "    fill: #174EA6;\n",
              "  }\n",
              "\n",
              "  [theme=dark] .colab-df-quickchart {\n",
              "    background-color: #3B4455;\n",
              "    fill: #D2E3FC;\n",
              "  }\n",
              "\n",
              "  [theme=dark] .colab-df-quickchart:hover {\n",
              "    background-color: #434B5C;\n",
              "    box-shadow: 0px 1px 3px 1px rgba(0, 0, 0, 0.15);\n",
              "    filter: drop-shadow(0px 1px 2px rgba(0, 0, 0, 0.3));\n",
              "    fill: #FFFFFF;\n",
              "  }\n",
              "</style>\n",
              "\n",
              "  <script>\n",
              "    async function quickchart(key) {\n",
              "      const charts = await google.colab.kernel.invokeFunction(\n",
              "          'suggestCharts', [key], {});\n",
              "    }\n",
              "    (() => {\n",
              "      let quickchartButtonEl =\n",
              "        document.querySelector('#df-3ff326eb-d964-4e29-a134-5518f2681126 button');\n",
              "      quickchartButtonEl.style.display =\n",
              "        google.colab.kernel.accessAllowed ? 'block' : 'none';\n",
              "    })();\n",
              "  </script>\n",
              "</div>\n",
              "    </div>\n",
              "  </div>\n"
            ]
          },
          "metadata": {},
          "execution_count": 50
        }
      ]
    },
    {
      "cell_type": "code",
      "source": [
        "durations['no_of_seasons'] = durations['duration'].str.replace(' Season','').str.replace('s', '').astype(int)\n",
        "durations.drop('duration', axis=1, inplace=True)\n",
        "durations"
      ],
      "metadata": {
        "colab": {
          "base_uri": "https://localhost:8080/",
          "height": 704
        },
        "id": "HtCjqA8g5p-5",
        "outputId": "245c1507-5abf-4905-b4ec-8c14068e5424"
      },
      "execution_count": 51,
      "outputs": [
        {
          "output_type": "stream",
          "name": "stderr",
          "text": [
            "<ipython-input-51-000a37958dee>:1: SettingWithCopyWarning:\n",
            "\n",
            "\n",
            "A value is trying to be set on a copy of a slice from a DataFrame.\n",
            "Try using .loc[row_indexer,col_indexer] = value instead\n",
            "\n",
            "See the caveats in the documentation: https://pandas.pydata.org/pandas-docs/stable/user_guide/indexing.html#returning-a-view-versus-a-copy\n",
            "\n",
            "<ipython-input-51-000a37958dee>:2: SettingWithCopyWarning:\n",
            "\n",
            "\n",
            "A value is trying to be set on a copy of a slice from a DataFrame\n",
            "\n",
            "See the caveats in the documentation: https://pandas.pydata.org/pandas-docs/stable/user_guide/indexing.html#returning-a-view-versus-a-copy\n",
            "\n"
          ]
        },
        {
          "output_type": "execute_result",
          "data": {
            "text/plain": [
              "                      title  no_of_seasons\n",
              "1             Blood & Water              2\n",
              "2                 Ganglands              1\n",
              "3     Jailbirds New Orleans              1\n",
              "4              Kota Factory              2\n",
              "5             Midnight Mass              1\n",
              "...                     ...            ...\n",
              "8795        Yu-Gi-Oh! Arc-V              2\n",
              "8796             Yunus Emre              2\n",
              "8797              Zak Storm              3\n",
              "8800     Zindagi Gulzar Hai              1\n",
              "8803            Zombie Dumb              2\n",
              "\n",
              "[2676 rows x 2 columns]"
            ],
            "text/html": [
              "\n",
              "  <div id=\"df-8bac4b57-ccc4-4c7a-90f7-7d8f6595893a\" class=\"colab-df-container\">\n",
              "    <div>\n",
              "<style scoped>\n",
              "    .dataframe tbody tr th:only-of-type {\n",
              "        vertical-align: middle;\n",
              "    }\n",
              "\n",
              "    .dataframe tbody tr th {\n",
              "        vertical-align: top;\n",
              "    }\n",
              "\n",
              "    .dataframe thead th {\n",
              "        text-align: right;\n",
              "    }\n",
              "</style>\n",
              "<table border=\"1\" class=\"dataframe\">\n",
              "  <thead>\n",
              "    <tr style=\"text-align: right;\">\n",
              "      <th></th>\n",
              "      <th>title</th>\n",
              "      <th>no_of_seasons</th>\n",
              "    </tr>\n",
              "  </thead>\n",
              "  <tbody>\n",
              "    <tr>\n",
              "      <th>1</th>\n",
              "      <td>Blood &amp; Water</td>\n",
              "      <td>2</td>\n",
              "    </tr>\n",
              "    <tr>\n",
              "      <th>2</th>\n",
              "      <td>Ganglands</td>\n",
              "      <td>1</td>\n",
              "    </tr>\n",
              "    <tr>\n",
              "      <th>3</th>\n",
              "      <td>Jailbirds New Orleans</td>\n",
              "      <td>1</td>\n",
              "    </tr>\n",
              "    <tr>\n",
              "      <th>4</th>\n",
              "      <td>Kota Factory</td>\n",
              "      <td>2</td>\n",
              "    </tr>\n",
              "    <tr>\n",
              "      <th>5</th>\n",
              "      <td>Midnight Mass</td>\n",
              "      <td>1</td>\n",
              "    </tr>\n",
              "    <tr>\n",
              "      <th>...</th>\n",
              "      <td>...</td>\n",
              "      <td>...</td>\n",
              "    </tr>\n",
              "    <tr>\n",
              "      <th>8795</th>\n",
              "      <td>Yu-Gi-Oh! Arc-V</td>\n",
              "      <td>2</td>\n",
              "    </tr>\n",
              "    <tr>\n",
              "      <th>8796</th>\n",
              "      <td>Yunus Emre</td>\n",
              "      <td>2</td>\n",
              "    </tr>\n",
              "    <tr>\n",
              "      <th>8797</th>\n",
              "      <td>Zak Storm</td>\n",
              "      <td>3</td>\n",
              "    </tr>\n",
              "    <tr>\n",
              "      <th>8800</th>\n",
              "      <td>Zindagi Gulzar Hai</td>\n",
              "      <td>1</td>\n",
              "    </tr>\n",
              "    <tr>\n",
              "      <th>8803</th>\n",
              "      <td>Zombie Dumb</td>\n",
              "      <td>2</td>\n",
              "    </tr>\n",
              "  </tbody>\n",
              "</table>\n",
              "<p>2676 rows × 2 columns</p>\n",
              "</div>\n",
              "    <div class=\"colab-df-buttons\">\n",
              "\n",
              "  <div class=\"colab-df-container\">\n",
              "    <button class=\"colab-df-convert\" onclick=\"convertToInteractive('df-8bac4b57-ccc4-4c7a-90f7-7d8f6595893a')\"\n",
              "            title=\"Convert this dataframe to an interactive table.\"\n",
              "            style=\"display:none;\">\n",
              "\n",
              "  <svg xmlns=\"http://www.w3.org/2000/svg\" height=\"24px\" viewBox=\"0 -960 960 960\">\n",
              "    <path d=\"M120-120v-720h720v720H120Zm60-500h600v-160H180v160Zm220 220h160v-160H400v160Zm0 220h160v-160H400v160ZM180-400h160v-160H180v160Zm440 0h160v-160H620v160ZM180-180h160v-160H180v160Zm440 0h160v-160H620v160Z\"/>\n",
              "  </svg>\n",
              "    </button>\n",
              "\n",
              "  <style>\n",
              "    .colab-df-container {\n",
              "      display:flex;\n",
              "      gap: 12px;\n",
              "    }\n",
              "\n",
              "    .colab-df-convert {\n",
              "      background-color: #E8F0FE;\n",
              "      border: none;\n",
              "      border-radius: 50%;\n",
              "      cursor: pointer;\n",
              "      display: none;\n",
              "      fill: #1967D2;\n",
              "      height: 32px;\n",
              "      padding: 0 0 0 0;\n",
              "      width: 32px;\n",
              "    }\n",
              "\n",
              "    .colab-df-convert:hover {\n",
              "      background-color: #E2EBFA;\n",
              "      box-shadow: 0px 1px 2px rgba(60, 64, 67, 0.3), 0px 1px 3px 1px rgba(60, 64, 67, 0.15);\n",
              "      fill: #174EA6;\n",
              "    }\n",
              "\n",
              "    .colab-df-buttons div {\n",
              "      margin-bottom: 4px;\n",
              "    }\n",
              "\n",
              "    [theme=dark] .colab-df-convert {\n",
              "      background-color: #3B4455;\n",
              "      fill: #D2E3FC;\n",
              "    }\n",
              "\n",
              "    [theme=dark] .colab-df-convert:hover {\n",
              "      background-color: #434B5C;\n",
              "      box-shadow: 0px 1px 3px 1px rgba(0, 0, 0, 0.15);\n",
              "      filter: drop-shadow(0px 1px 2px rgba(0, 0, 0, 0.3));\n",
              "      fill: #FFFFFF;\n",
              "    }\n",
              "  </style>\n",
              "\n",
              "    <script>\n",
              "      const buttonEl =\n",
              "        document.querySelector('#df-8bac4b57-ccc4-4c7a-90f7-7d8f6595893a button.colab-df-convert');\n",
              "      buttonEl.style.display =\n",
              "        google.colab.kernel.accessAllowed ? 'block' : 'none';\n",
              "\n",
              "      async function convertToInteractive(key) {\n",
              "        const element = document.querySelector('#df-8bac4b57-ccc4-4c7a-90f7-7d8f6595893a');\n",
              "        const dataTable =\n",
              "          await google.colab.kernel.invokeFunction('convertToInteractive',\n",
              "                                                    [key], {});\n",
              "        if (!dataTable) return;\n",
              "\n",
              "        const docLinkHtml = 'Like what you see? Visit the ' +\n",
              "          '<a target=\"_blank\" href=https://colab.research.google.com/notebooks/data_table.ipynb>data table notebook</a>'\n",
              "          + ' to learn more about interactive tables.';\n",
              "        element.innerHTML = '';\n",
              "        dataTable['output_type'] = 'display_data';\n",
              "        await google.colab.output.renderOutput(dataTable, element);\n",
              "        const docLink = document.createElement('div');\n",
              "        docLink.innerHTML = docLinkHtml;\n",
              "        element.appendChild(docLink);\n",
              "      }\n",
              "    </script>\n",
              "  </div>\n",
              "\n",
              "\n",
              "<div id=\"df-2dbf2794-cbfe-4271-8a64-448238fcd4b5\">\n",
              "  <button class=\"colab-df-quickchart\" onclick=\"quickchart('df-2dbf2794-cbfe-4271-8a64-448238fcd4b5')\"\n",
              "            title=\"Suggest charts.\"\n",
              "            style=\"display:none;\">\n",
              "\n",
              "<svg xmlns=\"http://www.w3.org/2000/svg\" height=\"24px\"viewBox=\"0 0 24 24\"\n",
              "     width=\"24px\">\n",
              "    <g>\n",
              "        <path d=\"M19 3H5c-1.1 0-2 .9-2 2v14c0 1.1.9 2 2 2h14c1.1 0 2-.9 2-2V5c0-1.1-.9-2-2-2zM9 17H7v-7h2v7zm4 0h-2V7h2v10zm4 0h-2v-4h2v4z\"/>\n",
              "    </g>\n",
              "</svg>\n",
              "  </button>\n",
              "\n",
              "<style>\n",
              "  .colab-df-quickchart {\n",
              "    background-color: #E8F0FE;\n",
              "    border: none;\n",
              "    border-radius: 50%;\n",
              "    cursor: pointer;\n",
              "    display: none;\n",
              "    fill: #1967D2;\n",
              "    height: 32px;\n",
              "    padding: 0 0 0 0;\n",
              "    width: 32px;\n",
              "  }\n",
              "\n",
              "  .colab-df-quickchart:hover {\n",
              "    background-color: #E2EBFA;\n",
              "    box-shadow: 0px 1px 2px rgba(60, 64, 67, 0.3), 0px 1px 3px 1px rgba(60, 64, 67, 0.15);\n",
              "    fill: #174EA6;\n",
              "  }\n",
              "\n",
              "  [theme=dark] .colab-df-quickchart {\n",
              "    background-color: #3B4455;\n",
              "    fill: #D2E3FC;\n",
              "  }\n",
              "\n",
              "  [theme=dark] .colab-df-quickchart:hover {\n",
              "    background-color: #434B5C;\n",
              "    box-shadow: 0px 1px 3px 1px rgba(0, 0, 0, 0.15);\n",
              "    filter: drop-shadow(0px 1px 2px rgba(0, 0, 0, 0.3));\n",
              "    fill: #FFFFFF;\n",
              "  }\n",
              "</style>\n",
              "\n",
              "  <script>\n",
              "    async function quickchart(key) {\n",
              "      const charts = await google.colab.kernel.invokeFunction(\n",
              "          'suggestCharts', [key], {});\n",
              "    }\n",
              "    (() => {\n",
              "      let quickchartButtonEl =\n",
              "        document.querySelector('#df-2dbf2794-cbfe-4271-8a64-448238fcd4b5 button');\n",
              "      quickchartButtonEl.style.display =\n",
              "        google.colab.kernel.accessAllowed ? 'block' : 'none';\n",
              "    })();\n",
              "  </script>\n",
              "</div>\n",
              "    </div>\n",
              "  </div>\n"
            ]
          },
          "metadata": {},
          "execution_count": 51
        }
      ]
    },
    {
      "cell_type": "markdown",
      "source": [
        "### Сериалы с большим количеством сезонов"
      ],
      "metadata": {
        "id": "7_OiAPuK0nbB"
      }
    },
    {
      "cell_type": "markdown",
      "source": [
        "Выведем топ *20* самых долгих сериалов на платформе Netflix по количеству сезонов."
      ],
      "metadata": {
        "id": "hvnRROek--Hl"
      }
    },
    {
      "cell_type": "code",
      "source": [
        "top = durations.copy()\n",
        "top = top.sort_values(by='no_of_seasons', ascending=False)"
      ],
      "metadata": {
        "id": "_naXGfpI5xFm"
      },
      "execution_count": 52,
      "outputs": []
    },
    {
      "cell_type": "code",
      "source": [
        "top20 = top[0:20]\n",
        "plt.figure(figsize=(12, 7))\n",
        "\n",
        "plt.bar(top20['title'], top20['no_of_seasons'])\n",
        "plt.xticks(top20['title'], rotation=70);"
      ],
      "metadata": {
        "colab": {
          "base_uri": "https://localhost:8080/",
          "height": 569
        },
        "id": "Ihh48HZC5yc-",
        "outputId": "b7200b8e-9e82-460e-9ec4-1fc50375810c"
      },
      "execution_count": 53,
      "outputs": [
        {
          "output_type": "display_data",
          "data": {
            "text/plain": [
              "<Figure size 1200x700 with 1 Axes>"
            ],
            "image/png": "[encoded data removed]"
          },
          "metadata": {}
        }
      ]
    },
    {
      "cell_type": "markdown",
      "source": [
        "По анализу данных видно, что среди самых долгих сериалов на платформе Netflix выделяются такие популярные названия, как ***'Grey's Anatomy', 'Supernatural' и 'NCIS'***. Их продолжительность в сезонах говорит о широкой популярности и долгоживущей аудитории. Такое большое количество сезонов указывает на стабильный успех и продолжительный интерес зрителей к этим сериалам, делая их заметными и значимыми произведениями на платформе."
      ],
      "metadata": {
        "id": "8e9kPzUZ_ZMI"
      }
    },
    {
      "cell_type": "markdown",
      "source": [
        "### Сериалы с наименьшим количеством сезонов"
      ],
      "metadata": {
        "id": "qtOxwOv-0zbQ"
      }
    },
    {
      "cell_type": "markdown",
      "source": [
        "Посмотрим на самые недолгие сериалы на платформе Netflix по количеству сезонов"
      ],
      "metadata": {
        "id": "FU2V9hL9AXuh"
      }
    },
    {
      "cell_type": "code",
      "source": [
        "bottom = top.sort_values(by='no_of_seasons')\n",
        "bottom = bottom[20:50]\n",
        "\n",
        "import plotly.graph_objects as go\n",
        "\n",
        "fig = go.Figure(\n",
        "    data=[\n",
        "          go.Table(header=dict(values=['Title', 'No of seasons']),\n",
        "                   cells=dict(values=[bottom['title'], bottom['no_of_seasons']]))\n",
        "          ]\n",
        ")\n",
        "fig.show()"
      ],
      "metadata": {
        "colab": {
          "base_uri": "https://localhost:8080/",
          "height": 542
        },
        "id": "ZBI01hNf58LW",
        "outputId": "9d51ada5-b4d3-4ed7-998e-d4acc7a0d472"
      },
      "execution_count": 54,
      "outputs": [
        {
          "output_type": "display_data",
          "data": {
            "text/html": [
              "<html>\n",
              "<head><meta charset=\"utf-8\" /></head>\n",
              "<body>\n",
              "    <div>            <script src=\"https://cdnjs.cloudflare.com/ajax/libs/mathjax/2.7.5/MathJax.js?config=TeX-AMS-MML_SVG\"></script><script type=\"text/javascript\">if (window.MathJax && window.MathJax.Hub && window.MathJax.Hub.Config) {window.MathJax.Hub.Config({SVG: {font: \"STIX-Web\"}});}</script>                <script type=\"text/javascript\">window.PlotlyConfig = {MathJaxConfig: 'local'};</script>\n",
              "        <script charset=\"utf-8\" src=\"https://cdn.plot.ly/plotly-2.24.1.min.js\"></script>                <div id=\"5301bd3f-f10a-4b25-948e-767eb69eb214\" class=\"plotly-graph-div\" style=\"height:525px; width:100%;\"></div>            <script type=\"text/javascript\">                                    window.PLOTLYENV=window.PLOTLYENV || {};                                    if (document.getElementById(\"5301bd3f-f10a-4b25-948e-767eb69eb214\")) {                    Plotly.newPlot(                        \"5301bd3f-f10a-4b25-948e-767eb69eb214\",                        [{\"cells\":{\"values\":[[\"A Queen Is Born\",\"Messiah\",\"Gentefied\",\"Live Up To Your Name\",\"Chhota Bheem Kung Fu Dhamaka Series\",\"Cells at Work!\",\"Border Security: America's Front Line\",\"Because This Is My First Life\",\"Thieves of the Wood\",\"Sex, Explained\",\"DASH & LILY\",\"Dracula\",\"Cheer\",\"Until Dawn\",\"Bakugan: Armored Alliance\",\"The Disastrous Life of Saiki K.: Reawakened\",\"Kevin Hart: Don\\u2019t F**k This Up\",\"The Bonfire of Destiny\",\"Twice Upon A Time\",\"The Witcher\",\"Agent\",\"The Minions of Midas\",\"Palazuelos mi rey\",\"Afronta! Facing It!\",\"Love Is Blind\",\"Taj Mahal 1989\",\"Talking Tom and Friends\",\"On the Real\",\"DreamWorks Shrek's Swamp Stories\",\"Spectros\"],[1,1,1,1,1,1,1,1,1,1,1,1,1,1,1,1,1,1,1,1,1,1,1,1,1,1,1,1,1,1]]},\"header\":{\"values\":[\"Title\",\"No of seasons\"]},\"type\":\"table\"}],                        {\"template\":{\"data\":{\"histogram2dcontour\":[{\"type\":\"histogram2dcontour\",\"colorbar\":{\"outlinewidth\":0,\"ticks\":\"\"},\"colorscale\":[[0.0,\"#0d0887\"],[0.1111111111111111,\"#46039f\"],[0.2222222222222222,\"#7201a8\"],[0.3333333333333333,\"#9c179e\"],[0.4444444444444444,\"#bd3786\"],[0.5555555555555556,\"#d8576b\"],[0.6666666666666666,\"#ed7953\"],[0.7777777777777778,\"#fb9f3a\"],[0.8888888888888888,\"#fdca26\"],[1.0,\"#f0f921\"]]}],\"choropleth\":[{\"type\":\"choropleth\",\"colorbar\":{\"outlinewidth\":0,\"ticks\":\"\"}}],\"histogram2d\":[{\"type\":\"histogram2d\",\"colorbar\":{\"outlinewidth\":0,\"ticks\":\"\"},\"colorscale\":[[0.0,\"#0d0887\"],[0.1111111111111111,\"#46039f\"],[0.2222222222222222,\"#7201a8\"],[0.3333333333333333,\"#9c179e\"],[0.4444444444444444,\"#bd3786\"],[0.5555555555555556,\"#d8576b\"],[0.6666666666666666,\"#ed7953\"],[0.7777777777777778,\"#fb9f3a\"],[0.8888888888888888,\"#fdca26\"],[1.0,\"#f0f921\"]]}],\"heatmap\":[{\"type\":\"heatmap\",\"colorbar\":{\"outlinewidth\":0,\"ticks\":\"\"},\"colorscale\":[[0.0,\"#0d0887\"],[0.1111111111111111,\"#46039f\"],[0.2222222222222222,\"#7201a8\"],[0.3333333333333333,\"#9c179e\"],[0.4444444444444444,\"#bd3786\"],[0.5555555555555556,\"#d8576b\"],[0.6666666666666666,\"#ed7953\"],[0.7777777777777778,\"#fb9f3a\"],[0.8888888888888888,\"#fdca26\"],[1.0,\"#f0f921\"]]}],\"heatmapgl\":[{\"type\":\"heatmapgl\",\"colorbar\":{\"outlinewidth\":0,\"ticks\":\"\"},\"colorscale\":[[0.0,\"#0d0887\"],[0.1111111111111111,\"#46039f\"],[0.2222222222222222,\"#7201a8\"],[0.3333333333333333,\"#9c179e\"],[0.4444444444444444,\"#bd3786\"],[0.5555555555555556,\"#d8576b\"],[0.6666666666666666,\"#ed7953\"],[0.7777777777777778,\"#fb9f3a\"],[0.8888888888888888,\"#fdca26\"],[1.0,\"#f0f921\"]]}],\"contourcarpet\":[{\"type\":\"contourcarpet\",\"colorbar\":{\"outlinewidth\":0,\"ticks\":\"\"}}],\"contour\":[{\"type\":\"contour\",\"colorbar\":{\"outlinewidth\":0,\"ticks\":\"\"},\"colorscale\":[[0.0,\"#0d0887\"],[0.1111111111111111,\"#46039f\"],[0.2222222222222222,\"#7201a8\"],[0.3333333333333333,\"#9c179e\"],[0.4444444444444444,\"#bd3786\"],[0.5555555555555556,\"#d8576b\"],[0.6666666666666666,\"#ed7953\"],[0.7777777777777778,\"#fb9f3a\"],[0.8888888888888888,\"#fdca26\"],[1.0,\"#f0f921\"]]}],\"surface\":[{\"type\":\"surface\",\"colorbar\":{\"outlinewidth\":0,\"ticks\":\"\"},\"colorscale\":[[0.0,\"#0d0887\"],[0.1111111111111111,\"#46039f\"],[0.2222222222222222,\"#7201a8\"],[0.3333333333333333,\"#9c179e\"],[0.4444444444444444,\"#bd3786\"],[0.5555555555555556,\"#d8576b\"],[0.6666666666666666,\"#ed7953\"],[0.7777777777777778,\"#fb9f3a\"],[0.8888888888888888,\"#fdca26\"],[1.0,\"#f0f921\"]]}],\"mesh3d\":[{\"type\":\"mesh3d\",\"colorbar\":{\"outlinewidth\":0,\"ticks\":\"\"}}],\"scatter\":[{\"fillpattern\":{\"fillmode\":\"overlay\",\"size\":10,\"solidity\":0.2},\"type\":\"scatter\"}],\"parcoords\":[{\"type\":\"parcoords\",\"line\":{\"colorbar\":{\"outlinewidth\":0,\"ticks\":\"\"}}}],\"scatterpolargl\":[{\"type\":\"scatterpolargl\",\"marker\":{\"colorbar\":{\"outlinewidth\":0,\"ticks\":\"\"}}}],\"bar\":[{\"error_x\":{\"color\":\"#2a3f5f\"},\"error_y\":{\"color\":\"#2a3f5f\"},\"marker\":{\"line\":{\"color\":\"#E5ECF6\",\"width\":0.5},\"pattern\":{\"fillmode\":\"overlay\",\"size\":10,\"solidity\":0.2}},\"type\":\"bar\"}],\"scattergeo\":[{\"type\":\"scattergeo\",\"marker\":{\"colorbar\":{\"outlinewidth\":0,\"ticks\":\"\"}}}],\"scatterpolar\":[{\"type\":\"scatterpolar\",\"marker\":{\"colorbar\":{\"outlinewidth\":0,\"ticks\":\"\"}}}],\"histogram\":[{\"marker\":{\"pattern\":{\"fillmode\":\"overlay\",\"size\":10,\"solidity\":0.2}},\"type\":\"histogram\"}],\"scattergl\":[{\"type\":\"scattergl\",\"marker\":{\"colorbar\":{\"outlinewidth\":0,\"ticks\":\"\"}}}],\"scatter3d\":[{\"type\":\"scatter3d\",\"line\":{\"colorbar\":{\"outlinewidth\":0,\"ticks\":\"\"}},\"marker\":{\"colorbar\":{\"outlinewidth\":0,\"ticks\":\"\"}}}],\"scattermapbox\":[{\"type\":\"scattermapbox\",\"marker\":{\"colorbar\":{\"outlinewidth\":0,\"ticks\":\"\"}}}],\"scatterternary\":[{\"type\":\"scatterternary\",\"marker\":{\"colorbar\":{\"outlinewidth\":0,\"ticks\":\"\"}}}],\"scattercarpet\":[{\"type\":\"scattercarpet\",\"marker\":{\"colorbar\":{\"outlinewidth\":0,\"ticks\":\"\"}}}],\"carpet\":[{\"aaxis\":{\"endlinecolor\":\"#2a3f5f\",\"gridcolor\":\"white\",\"linecolor\":\"white\",\"minorgridcolor\":\"white\",\"startlinecolor\":\"#2a3f5f\"},\"baxis\":{\"endlinecolor\":\"#2a3f5f\",\"gridcolor\":\"white\",\"linecolor\":\"white\",\"minorgridcolor\":\"white\",\"startlinecolor\":\"#2a3f5f\"},\"type\":\"carpet\"}],\"table\":[{\"cells\":{\"fill\":{\"color\":\"#EBF0F8\"},\"line\":{\"color\":\"white\"}},\"header\":{\"fill\":{\"color\":\"#C8D4E3\"},\"line\":{\"color\":\"white\"}},\"type\":\"table\"}],\"barpolar\":[{\"marker\":{\"line\":{\"color\":\"#E5ECF6\",\"width\":0.5},\"pattern\":{\"fillmode\":\"overlay\",\"size\":10,\"solidity\":0.2}},\"type\":\"barpolar\"}],\"pie\":[{\"automargin\":true,\"type\":\"pie\"}]},\"layout\":{\"autotypenumbers\":\"strict\",\"colorway\":[\"#636efa\",\"#EF553B\",\"#00cc96\",\"#ab63fa\",\"#FFA15A\",\"#19d3f3\",\"#FF6692\",\"#B6E880\",\"#FF97FF\",\"#FECB52\"],\"font\":{\"color\":\"#2a3f5f\"},\"hovermode\":\"closest\",\"hoverlabel\":{\"align\":\"left\"},\"paper_bgcolor\":\"white\",\"plot_bgcolor\":\"#E5ECF6\",\"polar\":{\"bgcolor\":\"#E5ECF6\",\"angularaxis\":{\"gridcolor\":\"white\",\"linecolor\":\"white\",\"ticks\":\"\"},\"radialaxis\":{\"gridcolor\":\"white\",\"linecolor\":\"white\",\"ticks\":\"\"}},\"ternary\":{\"bgcolor\":\"#E5ECF6\",\"aaxis\":{\"gridcolor\":\"white\",\"linecolor\":\"white\",\"ticks\":\"\"},\"baxis\":{\"gridcolor\":\"white\",\"linecolor\":\"white\",\"ticks\":\"\"},\"caxis\":{\"gridcolor\":\"white\",\"linecolor\":\"white\",\"ticks\":\"\"}},\"coloraxis\":{\"colorbar\":{\"outlinewidth\":0,\"ticks\":\"\"}},\"colorscale\":{\"sequential\":[[0.0,\"#0d0887\"],[0.1111111111111111,\"#46039f\"],[0.2222222222222222,\"#7201a8\"],[0.3333333333333333,\"#9c179e\"],[0.4444444444444444,\"#bd3786\"],[0.5555555555555556,\"#d8576b\"],[0.6666666666666666,\"#ed7953\"],[0.7777777777777778,\"#fb9f3a\"],[0.8888888888888888,\"#fdca26\"],[1.0,\"#f0f921\"]],\"sequentialminus\":[[0.0,\"#0d0887\"],[0.1111111111111111,\"#46039f\"],[0.2222222222222222,\"#7201a8\"],[0.3333333333333333,\"#9c179e\"],[0.4444444444444444,\"#bd3786\"],[0.5555555555555556,\"#d8576b\"],[0.6666666666666666,\"#ed7953\"],[0.7777777777777778,\"#fb9f3a\"],[0.8888888888888888,\"#fdca26\"],[1.0,\"#f0f921\"]],\"diverging\":[[0,\"#8e0152\"],[0.1,\"#c51b7d\"],[0.2,\"#de77ae\"],[0.3,\"#f1b6da\"],[0.4,\"#fde0ef\"],[0.5,\"#f7f7f7\"],[0.6,\"#e6f5d0\"],[0.7,\"#b8e186\"],[0.8,\"#7fbc41\"],[0.9,\"#4d9221\"],[1,\"#276419\"]]},\"xaxis\":{\"gridcolor\":\"white\",\"linecolor\":\"white\",\"ticks\":\"\",\"title\":{\"standoff\":15},\"zerolinecolor\":\"white\",\"automargin\":true,\"zerolinewidth\":2},\"yaxis\":{\"gridcolor\":\"white\",\"linecolor\":\"white\",\"ticks\":\"\",\"title\":{\"standoff\":15},\"zerolinecolor\":\"white\",\"automargin\":true,\"zerolinewidth\":2},\"scene\":{\"xaxis\":{\"backgroundcolor\":\"#E5ECF6\",\"gridcolor\":\"white\",\"linecolor\":\"white\",\"showbackground\":true,\"ticks\":\"\",\"zerolinecolor\":\"white\",\"gridwidth\":2},\"yaxis\":{\"backgroundcolor\":\"#E5ECF6\",\"gridcolor\":\"white\",\"linecolor\":\"white\",\"showbackground\":true,\"ticks\":\"\",\"zerolinecolor\":\"white\",\"gridwidth\":2},\"zaxis\":{\"backgroundcolor\":\"#E5ECF6\",\"gridcolor\":\"white\",\"linecolor\":\"white\",\"showbackground\":true,\"ticks\":\"\",\"zerolinecolor\":\"white\",\"gridwidth\":2}},\"shapedefaults\":{\"line\":{\"color\":\"#2a3f5f\"}},\"annotationdefaults\":{\"arrowcolor\":\"#2a3f5f\",\"arrowhead\":0,\"arrowwidth\":1},\"geo\":{\"bgcolor\":\"white\",\"landcolor\":\"#E5ECF6\",\"subunitcolor\":\"white\",\"showland\":true,\"showlakes\":true,\"lakecolor\":\"white\"},\"title\":{\"x\":0.05},\"mapbox\":{\"style\":\"light\"}}}},                        {\"responsive\": true}                    ).then(function(){\n",
              "                            \n",
              "var gd = document.getElementById('5301bd3f-f10a-4b25-948e-767eb69eb214');\n",
              "var x = new MutationObserver(function (mutations, observer) {{\n",
              "        var display = window.getComputedStyle(gd).display;\n",
              "        if (!display || display === 'none') {{\n",
              "            console.log([gd, 'removed!']);\n",
              "            Plotly.purge(gd);\n",
              "            observer.disconnect();\n",
              "        }}\n",
              "}});\n",
              "\n",
              "// Listen for the removal of the full notebook cells\n",
              "var notebookContainer = gd.closest('#notebook-container');\n",
              "if (notebookContainer) {{\n",
              "    x.observe(notebookContainer, {childList: true});\n",
              "}}\n",
              "\n",
              "// Listen for the clearing of the current output cell\n",
              "var outputEl = gd.closest('.output');\n",
              "if (outputEl) {{\n",
              "    x.observe(outputEl, {childList: true});\n",
              "}}\n",
              "\n",
              "                        })                };                            </script>        </div>\n",
              "</body>\n",
              "</html>"
            ]
          },
          "metadata": {}
        }
      ]
    },
    {
      "cell_type": "markdown",
      "source": [
        "Взглянув на данные, можно заметить, что самые недолгие сериалы на платформе Netflix имеют всего ***1 сезон***. Это может быть результатом разных факторов: некоторые сериалы могли не найти аудиторию и были закрыты после первого сезона, в то время как другие могли быть запланированы как мини-сериалы с одним сезоном с завершенной историей."
      ],
      "metadata": {
        "id": "-7hMd8_BAgco"
      }
    },
    {
      "cell_type": "markdown",
      "source": [
        "### Продолжительность сериалов"
      ],
      "metadata": {
        "id": "H1ZiiWH707hP"
      }
    },
    {
      "cell_type": "markdown",
      "source": [
        "Визуализируем продолжительности сериалов на платформе Netflix, чтобы лучше понять распределение количества сезонов"
      ],
      "metadata": {
        "id": "GMX7XrdMIRAH"
      }
    },
    {
      "cell_type": "code",
      "source": [
        "durations"
      ],
      "metadata": {
        "colab": {
          "base_uri": "https://localhost:8080/",
          "height": 424
        },
        "id": "VSkB5Edm6Pq7",
        "outputId": "95c6364e-5b38-489f-923d-7d830e39b8b6"
      },
      "execution_count": 55,
      "outputs": [
        {
          "output_type": "execute_result",
          "data": {
            "text/plain": [
              "                      title  no_of_seasons\n",
              "1             Blood & Water              2\n",
              "2                 Ganglands              1\n",
              "3     Jailbirds New Orleans              1\n",
              "4              Kota Factory              2\n",
              "5             Midnight Mass              1\n",
              "...                     ...            ...\n",
              "8795        Yu-Gi-Oh! Arc-V              2\n",
              "8796             Yunus Emre              2\n",
              "8797              Zak Storm              3\n",
              "8800     Zindagi Gulzar Hai              1\n",
              "8803            Zombie Dumb              2\n",
              "\n",
              "[2676 rows x 2 columns]"
            ],
            "text/html": [
              "\n",
              "  <div id=\"df-d22e6695-ee5c-414f-8e54-75b17f446428\" class=\"colab-df-container\">\n",
              "    <div>\n",
              "<style scoped>\n",
              "    .dataframe tbody tr th:only-of-type {\n",
              "        vertical-align: middle;\n",
              "    }\n",
              "\n",
              "    .dataframe tbody tr th {\n",
              "        vertical-align: top;\n",
              "    }\n",
              "\n",
              "    .dataframe thead th {\n",
              "        text-align: right;\n",
              "    }\n",
              "</style>\n",
              "<table border=\"1\" class=\"dataframe\">\n",
              "  <thead>\n",
              "    <tr style=\"text-align: right;\">\n",
              "      <th></th>\n",
              "      <th>title</th>\n",
              "      <th>no_of_seasons</th>\n",
              "    </tr>\n",
              "  </thead>\n",
              "  <tbody>\n",
              "    <tr>\n",
              "      <th>1</th>\n",
              "      <td>Blood &amp; Water</td>\n",
              "      <td>2</td>\n",
              "    </tr>\n",
              "    <tr>\n",
              "      <th>2</th>\n",
              "      <td>Ganglands</td>\n",
              "      <td>1</td>\n",
              "    </tr>\n",
              "    <tr>\n",
              "      <th>3</th>\n",
              "      <td>Jailbirds New Orleans</td>\n",
              "      <td>1</td>\n",
              "    </tr>\n",
              "    <tr>\n",
              "      <th>4</th>\n",
              "      <td>Kota Factory</td>\n",
              "      <td>2</td>\n",
              "    </tr>\n",
              "    <tr>\n",
              "      <th>5</th>\n",
              "      <td>Midnight Mass</td>\n",
              "      <td>1</td>\n",
              "    </tr>\n",
              "    <tr>\n",
              "      <th>...</th>\n",
              "      <td>...</td>\n",
              "      <td>...</td>\n",
              "    </tr>\n",
              "    <tr>\n",
              "      <th>8795</th>\n",
              "      <td>Yu-Gi-Oh! Arc-V</td>\n",
              "      <td>2</td>\n",
              "    </tr>\n",
              "    <tr>\n",
              "      <th>8796</th>\n",
              "      <td>Yunus Emre</td>\n",
              "      <td>2</td>\n",
              "    </tr>\n",
              "    <tr>\n",
              "      <th>8797</th>\n",
              "      <td>Zak Storm</td>\n",
              "      <td>3</td>\n",
              "    </tr>\n",
              "    <tr>\n",
              "      <th>8800</th>\n",
              "      <td>Zindagi Gulzar Hai</td>\n",
              "      <td>1</td>\n",
              "    </tr>\n",
              "    <tr>\n",
              "      <th>8803</th>\n",
              "      <td>Zombie Dumb</td>\n",
              "      <td>2</td>\n",
              "    </tr>\n",
              "  </tbody>\n",
              "</table>\n",
              "<p>2676 rows × 2 columns</p>\n",
              "</div>\n",
              "    <div class=\"colab-df-buttons\">\n",
              "\n",
              "  <div class=\"colab-df-container\">\n",
              "    <button class=\"colab-df-convert\" onclick=\"convertToInteractive('df-d22e6695-ee5c-414f-8e54-75b17f446428')\"\n",
              "            title=\"Convert this dataframe to an interactive table.\"\n",
              "            style=\"display:none;\">\n",
              "\n",
              "  <svg xmlns=\"http://www.w3.org/2000/svg\" height=\"24px\" viewBox=\"0 -960 960 960\">\n",
              "    <path d=\"M120-120v-720h720v720H120Zm60-500h600v-160H180v160Zm220 220h160v-160H400v160Zm0 220h160v-160H400v160ZM180-400h160v-160H180v160Zm440 0h160v-160H620v160ZM180-180h160v-160H180v160Zm440 0h160v-160H620v160Z\"/>\n",
              "  </svg>\n",
              "    </button>\n",
              "\n",
              "  <style>\n",
              "    .colab-df-container {\n",
              "      display:flex;\n",
              "      gap: 12px;\n",
              "    }\n",
              "\n",
              "    .colab-df-convert {\n",
              "      background-color: #E8F0FE;\n",
              "      border: none;\n",
              "      border-radius: 50%;\n",
              "      cursor: pointer;\n",
              "      display: none;\n",
              "      fill: #1967D2;\n",
              "      height: 32px;\n",
              "      padding: 0 0 0 0;\n",
              "      width: 32px;\n",
              "    }\n",
              "\n",
              "    .colab-df-convert:hover {\n",
              "      background-color: #E2EBFA;\n",
              "      box-shadow: 0px 1px 2px rgba(60, 64, 67, 0.3), 0px 1px 3px 1px rgba(60, 64, 67, 0.15);\n",
              "      fill: #174EA6;\n",
              "    }\n",
              "\n",
              "    .colab-df-buttons div {\n",
              "      margin-bottom: 4px;\n",
              "    }\n",
              "\n",
              "    [theme=dark] .colab-df-convert {\n",
              "      background-color: #3B4455;\n",
              "      fill: #D2E3FC;\n",
              "    }\n",
              "\n",
              "    [theme=dark] .colab-df-convert:hover {\n",
              "      background-color: #434B5C;\n",
              "      box-shadow: 0px 1px 3px 1px rgba(0, 0, 0, 0.15);\n",
              "      filter: drop-shadow(0px 1px 2px rgba(0, 0, 0, 0.3));\n",
              "      fill: #FFFFFF;\n",
              "    }\n",
              "  </style>\n",
              "\n",
              "    <script>\n",
              "      const buttonEl =\n",
              "        document.querySelector('#df-d22e6695-ee5c-414f-8e54-75b17f446428 button.colab-df-convert');\n",
              "      buttonEl.style.display =\n",
              "        google.colab.kernel.accessAllowed ? 'block' : 'none';\n",
              "\n",
              "      async function convertToInteractive(key) {\n",
              "        const element = document.querySelector('#df-d22e6695-ee5c-414f-8e54-75b17f446428');\n",
              "        const dataTable =\n",
              "          await google.colab.kernel.invokeFunction('convertToInteractive',\n",
              "                                                    [key], {});\n",
              "        if (!dataTable) return;\n",
              "\n",
              "        const docLinkHtml = 'Like what you see? Visit the ' +\n",
              "          '<a target=\"_blank\" href=https://colab.research.google.com/notebooks/data_table.ipynb>data table notebook</a>'\n",
              "          + ' to learn more about interactive tables.';\n",
              "        element.innerHTML = '';\n",
              "        dataTable['output_type'] = 'display_data';\n",
              "        await google.colab.output.renderOutput(dataTable, element);\n",
              "        const docLink = document.createElement('div');\n",
              "        docLink.innerHTML = docLinkHtml;\n",
              "        element.appendChild(docLink);\n",
              "      }\n",
              "    </script>\n",
              "  </div>\n",
              "\n",
              "\n",
              "<div id=\"df-38882f89-d2fa-43d6-9627-467bbe7a9831\">\n",
              "  <button class=\"colab-df-quickchart\" onclick=\"quickchart('df-38882f89-d2fa-43d6-9627-467bbe7a9831')\"\n",
              "            title=\"Suggest charts.\"\n",
              "            style=\"display:none;\">\n",
              "\n",
              "<svg xmlns=\"http://www.w3.org/2000/svg\" height=\"24px\"viewBox=\"0 0 24 24\"\n",
              "     width=\"24px\">\n",
              "    <g>\n",
              "        <path d=\"M19 3H5c-1.1 0-2 .9-2 2v14c0 1.1.9 2 2 2h14c1.1 0 2-.9 2-2V5c0-1.1-.9-2-2-2zM9 17H7v-7h2v7zm4 0h-2V7h2v10zm4 0h-2v-4h2v4z\"/>\n",
              "    </g>\n",
              "</svg>\n",
              "  </button>\n",
              "\n",
              "<style>\n",
              "  .colab-df-quickchart {\n",
              "    background-color: #E8F0FE;\n",
              "    border: none;\n",
              "    border-radius: 50%;\n",
              "    cursor: pointer;\n",
              "    display: none;\n",
              "    fill: #1967D2;\n",
              "    height: 32px;\n",
              "    padding: 0 0 0 0;\n",
              "    width: 32px;\n",
              "  }\n",
              "\n",
              "  .colab-df-quickchart:hover {\n",
              "    background-color: #E2EBFA;\n",
              "    box-shadow: 0px 1px 2px rgba(60, 64, 67, 0.3), 0px 1px 3px 1px rgba(60, 64, 67, 0.15);\n",
              "    fill: #174EA6;\n",
              "  }\n",
              "\n",
              "  [theme=dark] .colab-df-quickchart {\n",
              "    background-color: #3B4455;\n",
              "    fill: #D2E3FC;\n",
              "  }\n",
              "\n",
              "  [theme=dark] .colab-df-quickchart:hover {\n",
              "    background-color: #434B5C;\n",
              "    box-shadow: 0px 1px 3px 1px rgba(0, 0, 0, 0.15);\n",
              "    filter: drop-shadow(0px 1px 2px rgba(0, 0, 0, 0.3));\n",
              "    fill: #FFFFFF;\n",
              "  }\n",
              "</style>\n",
              "\n",
              "  <script>\n",
              "    async function quickchart(key) {\n",
              "      const charts = await google.colab.kernel.invokeFunction(\n",
              "          'suggestCharts', [key], {});\n",
              "    }\n",
              "    (() => {\n",
              "      let quickchartButtonEl =\n",
              "        document.querySelector('#df-38882f89-d2fa-43d6-9627-467bbe7a9831 button');\n",
              "      quickchartButtonEl.style.display =\n",
              "        google.colab.kernel.accessAllowed ? 'block' : 'none';\n",
              "    })();\n",
              "  </script>\n",
              "</div>\n",
              "    </div>\n",
              "  </div>\n"
            ]
          },
          "metadata": {},
          "execution_count": 55
        }
      ]
    },
    {
      "cell_type": "code",
      "source": [
        "sns.set(style=\"darkgrid\")\n",
        "plt.figure(figsize=(10, 8))\n",
        "sns.kdeplot(data=durations['no_of_seasons'], fill=True)\n",
        "plt.xticks(sorted(durations['no_of_seasons'].unique()));"
      ],
      "metadata": {
        "colab": {
          "base_uri": "https://localhost:8080/",
          "height": 545
        },
        "id": "f2HYpGpQ6SqR",
        "outputId": "8f95f829-c0c9-47cb-b99d-7b809a44b3c8"
      },
      "execution_count": 56,
      "outputs": [
        {
          "output_type": "display_data",
          "data": {
            "text/plain": [
              "<Figure size 1000x800 with 1 Axes>"
            ],
            "image/png": "[encoded data removed]"
          },
          "metadata": {}
        }
      ]
    },
    {
      "cell_type": "markdown",
      "source": [
        "Действительно множество сериалов имеют только ***1 сезон***, и при этом сравнительно мало сериалов с ***более чем 3 сезонами***."
      ],
      "metadata": {
        "id": "B-S37fDGIzmZ"
      }
    },
    {
      "cell_type": "markdown",
      "source": [
        "## Жанры"
      ],
      "metadata": {
        "id": "FSZdtx4z04kK"
      }
    },
    {
      "cell_type": "markdown",
      "source": [
        "Рассмотрим жанры сериалов на платформе Netflix."
      ],
      "metadata": {
        "id": "V0hDaIbpA3VC"
      }
    },
    {
      "cell_type": "code",
      "source": [
        "netflix_shows['listed_in']"
      ],
      "metadata": {
        "colab": {
          "base_uri": "https://localhost:8080/"
        },
        "id": "rlHAesWU6AZO",
        "outputId": "db3f9276-ffad-467f-e1f1-1de83765b2ee"
      },
      "execution_count": 57,
      "outputs": [
        {
          "output_type": "execute_result",
          "data": {
            "text/plain": [
              "1         International TV Shows, TV Dramas, TV Mysteries\n",
              "2       Crime TV Shows, International TV Shows, TV Act...\n",
              "3                                  Docuseries, Reality TV\n",
              "4       International TV Shows, Romantic TV Shows, TV ...\n",
              "5                      TV Dramas, TV Horror, TV Mysteries\n",
              "                              ...                        \n",
              "8795                               Anime Series, Kids' TV\n",
              "8796                    International TV Shows, TV Dramas\n",
              "8797                                             Kids' TV\n",
              "8800    International TV Shows, Romantic TV Shows, TV ...\n",
              "8803               Kids' TV, Korean TV Shows, TV Comedies\n",
              "Name: listed_in, Length: 2676, dtype: object"
            ]
          },
          "metadata": {},
          "execution_count": 57
        }
      ]
    },
    {
      "cell_type": "markdown",
      "source": [
        "Заметим, что один сериал может включать в себя несколько жанров. Для более полного анализа создадим словарь, в котором будут храниться все уникальные жанры вместе с количеством раз, которое они встречаются."
      ],
      "metadata": {
        "id": "cX4hxnGuBBNW"
      }
    },
    {
      "cell_type": "code",
      "source": [
        "genres_list = list(netflix_shows['listed_in'])\n",
        "genres_array = []\n",
        "\n",
        "for i in genres_list:\n",
        "    i = list(i.split(','))\n",
        "    for j in i:\n",
        "        genres_array.append(j.replace(' ', ''))\n",
        "\n",
        "genres = Counter(genres_array)"
      ],
      "metadata": {
        "id": "EjSJpPrn6DWh"
      },
      "execution_count": 58,
      "outputs": []
    },
    {
      "cell_type": "markdown",
      "source": [
        "Отсортируем наш словарь с жанрами по количеству встречаемости и затем визуализируем топ *10* самых популярных жанров на платформе Netflix. Это позволит нам наглядно увидеть, какие жанры наиболее востребованы среди аудитории."
      ],
      "metadata": {
        "id": "HpeycylfBfA1"
      }
    },
    {
      "cell_type": "code",
      "source": [
        "genres = sorted(genres.items(), key=lambda item: genres[item[0]], reverse=True)\n",
        "genres[:10]"
      ],
      "metadata": {
        "colab": {
          "base_uri": "https://localhost:8080/"
        },
        "id": "Fj6DVIx-6ERY",
        "outputId": "711a8413-a62b-42c4-860d-5b30b42a8fa2"
      },
      "execution_count": 59,
      "outputs": [
        {
          "output_type": "execute_result",
          "data": {
            "text/plain": [
              "[('InternationalTVShows', 1351),\n",
              " ('TVDramas', 763),\n",
              " ('TVComedies', 581),\n",
              " ('CrimeTVShows', 470),\n",
              " (\"Kids'TV\", 451),\n",
              " ('Docuseries', 395),\n",
              " ('RomanticTVShows', 370),\n",
              " ('RealityTV', 255),\n",
              " ('BritishTVShows', 253),\n",
              " ('AnimeSeries', 176)]"
            ]
          },
          "metadata": {},
          "execution_count": 59
        }
      ]
    },
    {
      "cell_type": "code",
      "source": [
        "genre_names = [name for name, _ in genres]\n",
        "genre_values = [value for _, value in genres]"
      ],
      "metadata": {
        "id": "2JCP8Kwh6Heb"
      },
      "execution_count": 60,
      "outputs": []
    },
    {
      "cell_type": "code",
      "source": [
        "fig = plt.figure(figsize = (10, 10))\n",
        "ax = sns.barplot(x=genre_names, y=genre_values)\n",
        "\n",
        "ax.set_xticklabels(genre_names, rotation=70)\n",
        "ax.set_ylabel(\"Count of TV Shows\")\n",
        "ax.set_title(\"Genres\");"
      ],
      "metadata": {
        "colab": {
          "base_uri": "https://localhost:8080/",
          "height": 802
        },
        "id": "-FAwnn2O6KkH",
        "outputId": "c295712f-f06a-4898-e2f8-ad70c1bd9c87"
      },
      "execution_count": 61,
      "outputs": [
        {
          "output_type": "display_data",
          "data": {
            "text/plain": [
              "<Figure size 1000x1000 with 1 Axes>"
            ],
            "image/png": "[encoded data removed]"
          },
          "metadata": {}
        }
      ]
    },
    {
      "cell_type": "markdown",
      "source": [
        "На платформе Netflix выделяются три наиболее популярных жанра: ***'InternationalTVShows', 'TVDramas' и 'TVComedies'***. Сериалы этих жанров преобладают среди контента, представленного на платформе"
      ],
      "metadata": {
        "id": "dirUrfoTBc7c"
      }
    },
    {
      "cell_type": "markdown",
      "source": [
        "# Система рекомендаций"
      ],
      "metadata": {
        "id": "gs1Tmj-z1Fe4"
      }
    },
    {
      "cell_type": "markdown",
      "source": [
        "С помощью статистической меры **TF-IDF** (*Term Frequency-Inverse Document Frequency*) можем оценить важность каждого слова в контексте текстовой коллекции. Эта методика позволяет выделить ключевые слова и фразы, которые наиболее характерны и информативны для каждого документа.  \n",
        "Первая часть меры, **TF** (*term frequency — частота слова*), измеряет, насколько часто определенное слово встречается внутри конкретного документа. Вычисляем отношение числа вхождений данного слова к общему числу слов в документе. Это позволяет определить важность слова в пределах отдельного текста.  \n",
        "**TF** считается как:  \n",
        "  \n",
        "$\n",
        "  tf(t,d)=\\frac{(n_t)}{\\sum_k(n_k)},\n",
        "$   \n",
        "  \n",
        "где $n_t$ есть число вхождений слова t в документ, а в знаменателе — общее число слов в данном документе.   \n",
        "Вторая часть, **IDF** (*inverse document frequency — обратная частота документа*), учитывает, насколько редко или часто данное слово встречается во всей коллекции документов. Это позволяет снизить вес общих и широкоупотребительных слов, делая более акцентированными слова, которые характерны для конкретных документов.    \n",
        "**IDF** считается как:  \n",
        "  \n",
        "$\n",
        "idf(t,D) = log(\\frac{|D|}{{d_i\\in D | t \\in d_i}}),\n",
        "$\n",
        "   \n",
        "где\n",
        "- |D| - число документов в коллекции;\n",
        "- $d_i\\in D | t \\in d_i$ - число документов из коллекции D D, в которых встречается $n_{t} \\neq 0$.\n",
        "\n",
        "Итоговая мера **TF-IDF** получается путем перемножения **TF** и **IDF** для каждого слова в каждом документе. Это дает нам числовую оценку важности слова, которую можно использовать для анализа и классификации текстовой информации.\n",
        "  \n",
        "$\n",
        "tf-idf(t,d,D) = tf(t,d) \\times idf(t,D)\n",
        "$\n",
        "  "
      ],
      "metadata": {
        "id": "eF3ShhBUQdky"
      }
    },
    {
      "cell_type": "markdown",
      "source": [
        "Для использования метода TF-IDF необходимо импортировать инструмент, который позволит провести этот анализ. Для этой цели будем использовать TfidfVectorizer из библиотеки sklearn. Этот инструмент позволит эффективно преобразовать текстовые данные в числовые значения, основанные на мере TF-IDF."
      ],
      "metadata": {
        "id": "jzSbFrxrWsV8"
      }
    },
    {
      "cell_type": "code",
      "source": [
        "from sklearn.feature_extraction.text import TfidfVectorizer"
      ],
      "metadata": {
        "id": "WrcAIFiQ6pHi"
      },
      "execution_count": 62,
      "outputs": []
    },
    {
      "cell_type": "code",
      "source": [
        "netflix['description']"
      ],
      "metadata": {
        "colab": {
          "base_uri": "https://localhost:8080/"
        },
        "id": "AKcqPn8i6mcB",
        "outputId": "dc34567a-e142-4d38-d2e1-58a91c407222"
      },
      "execution_count": 86,
      "outputs": [
        {
          "output_type": "execute_result",
          "data": {
            "text/plain": [
              "0       As her father nears the end of his life, filmm...\n",
              "1       After crossing paths at a party, a Cape Town t...\n",
              "2       To protect his family from a powerful drug lor...\n",
              "3       Feuds, flirtations and toilet talk go down amo...\n",
              "4       In a city of coaching centers known to train I...\n",
              "                              ...                        \n",
              "8802    A political cartoonist, a crime reporter and a...\n",
              "8803    While living alone in a spooky town, a young g...\n",
              "8804    Looking to survive in a world taken over by zo...\n",
              "8805    Dragged from civilian life, a former superhero...\n",
              "8806    A scrappy but poor boy worms his way into a ty...\n",
              "Name: description, Length: 8807, dtype: object"
            ]
          },
          "metadata": {},
          "execution_count": 86
        }
      ]
    },
    {
      "cell_type": "code",
      "source": [
        "netflix['description'].isna().sum()"
      ],
      "metadata": {
        "colab": {
          "base_uri": "https://localhost:8080/"
        },
        "id": "RcBhatkG7x0t",
        "outputId": "c45ec86d-956d-46f6-a271-0ee8d7dfaead"
      },
      "execution_count": 87,
      "outputs": [
        {
          "output_type": "execute_result",
          "data": {
            "text/plain": [
              "0"
            ]
          },
          "metadata": {},
          "execution_count": 87
        }
      ]
    },
    {
      "cell_type": "code",
      "source": [
        "netflix['description'].head()"
      ],
      "metadata": {
        "colab": {
          "base_uri": "https://localhost:8080/"
        },
        "id": "X1DQVQVc714R",
        "outputId": "7d8774ee-0aab-4ede-fb25-93bea2f93922"
      },
      "execution_count": 88,
      "outputs": [
        {
          "output_type": "execute_result",
          "data": {
            "text/plain": [
              "0    As her father nears the end of his life, filmm...\n",
              "1    After crossing paths at a party, a Cape Town t...\n",
              "2    To protect his family from a powerful drug lor...\n",
              "3    Feuds, flirtations and toilet talk go down amo...\n",
              "4    In a city of coaching centers known to train I...\n",
              "Name: description, dtype: object"
            ]
          },
          "metadata": {},
          "execution_count": 88
        }
      ]
    },
    {
      "cell_type": "markdown",
      "source": [
        "Для обработки английских текстов воспользуемся стоп-словами из английского языка. Они представляют собой слова, которые обычно не несут смысловой нагрузки и могут быть исключены из анализа.   \n",
        "Затем, используя ***TfidfVectorizer*** и обучив его на описаниях к фильмам и сериалам, сможем создать числовое представление текстов, учитывающее их важность в контексте всей коллекции"
      ],
      "metadata": {
        "id": "ZGMOokMyWgg3"
      }
    },
    {
      "cell_type": "code",
      "source": [
        "tfidf = TfidfVectorizer(stop_words='english')\n",
        "tfidf_matrix = tfidf.fit_transform(netflix['description'])\n",
        "\n",
        "tfidf_matrix.shape"
      ],
      "metadata": {
        "colab": {
          "base_uri": "https://localhost:8080/"
        },
        "id": "IJYew91w75Ut",
        "outputId": "99490ab9-c710-492c-f749-963d9d116542"
      },
      "execution_count": 89,
      "outputs": [
        {
          "output_type": "execute_result",
          "data": {
            "text/plain": [
              "(8807, 18895)"
            ]
          },
          "metadata": {},
          "execution_count": 89
        }
      ]
    },
    {
      "cell_type": "markdown",
      "source": [
        "После обработки и векторизации описаний к фильмам с использованием ***TfidfVectorizer*** было получено общее количество *18,895* уникальных слов, которые описывают *8,807* фильмов и сериалов на платформе Netflix."
      ],
      "metadata": {
        "id": "7rcfFN3aXzJl"
      }
    },
    {
      "cell_type": "code",
      "source": [
        "pd.DataFrame.sparse.from_spmatrix(tfidf_matrix, columns=tfidf.get_feature_names_out())"
      ],
      "metadata": {
        "colab": {
          "base_uri": "https://localhost:8080/",
          "height": 444
        },
        "id": "8-eDl1YY79l0",
        "outputId": "7bb5a102-6eb3-4fa7-df5c-9b4d6e4b8bb9"
      },
      "execution_count": 90,
      "outputs": [
        {
          "output_type": "execute_result",
          "data": {
            "text/plain": [
              "      000  007  009   10  100  1000  102  108  10th   11  ...   zé  álex  \\\n",
              "0     0.0  0.0  0.0  0.0  0.0   0.0  0.0  0.0   0.0  0.0  ...  0.0   0.0   \n",
              "1     0.0  0.0  0.0  0.0  0.0   0.0  0.0  0.0   0.0  0.0  ...  0.0   0.0   \n",
              "2     0.0  0.0  0.0  0.0  0.0   0.0  0.0  0.0   0.0  0.0  ...  0.0   0.0   \n",
              "3     0.0  0.0  0.0  0.0  0.0   0.0  0.0  0.0   0.0  0.0  ...  0.0   0.0   \n",
              "4     0.0  0.0  0.0  0.0  0.0   0.0  0.0  0.0   0.0  0.0  ...  0.0   0.0   \n",
              "...   ...  ...  ...  ...  ...   ...  ...  ...   ...  ...  ...  ...   ...   \n",
              "8802  0.0  0.0  0.0  0.0  0.0   0.0  0.0  0.0   0.0  0.0  ...  0.0   0.0   \n",
              "8803  0.0  0.0  0.0  0.0  0.0   0.0  0.0  0.0   0.0  0.0  ...  0.0   0.0   \n",
              "8804  0.0  0.0  0.0  0.0  0.0   0.0  0.0  0.0   0.0  0.0  ...  0.0   0.0   \n",
              "8805  0.0  0.0  0.0  0.0  0.0   0.0  0.0  0.0   0.0  0.0  ...  0.0   0.0   \n",
              "8806  0.0  0.0  0.0  0.0  0.0   0.0  0.0  0.0   0.0  0.0  ...  0.0   0.0   \n",
              "\n",
              "      álvaro  ángel  émile  ömer  über  łukasz  ōarai  şeref  \n",
              "0        0.0    0.0    0.0   0.0   0.0     0.0    0.0    0.0  \n",
              "1        0.0    0.0    0.0   0.0   0.0     0.0    0.0    0.0  \n",
              "2        0.0    0.0    0.0   0.0   0.0     0.0    0.0    0.0  \n",
              "3        0.0    0.0    0.0   0.0   0.0     0.0    0.0    0.0  \n",
              "4        0.0    0.0    0.0   0.0   0.0     0.0    0.0    0.0  \n",
              "...      ...    ...    ...   ...   ...     ...    ...    ...  \n",
              "8802     0.0    0.0    0.0   0.0   0.0     0.0    0.0    0.0  \n",
              "8803     0.0    0.0    0.0   0.0   0.0     0.0    0.0    0.0  \n",
              "8804     0.0    0.0    0.0   0.0   0.0     0.0    0.0    0.0  \n",
              "8805     0.0    0.0    0.0   0.0   0.0     0.0    0.0    0.0  \n",
              "8806     0.0    0.0    0.0   0.0   0.0     0.0    0.0    0.0  \n",
              "\n",
              "[8807 rows x 18895 columns]"
            ],
            "text/html": [
              "\n",
              "  <div id=\"df-47979d9e-7a69-4afd-8233-f02cf9eb1fca\" class=\"colab-df-container\">\n",
              "    <div>\n",
              "<style scoped>\n",
              "    .dataframe tbody tr th:only-of-type {\n",
              "        vertical-align: middle;\n",
              "    }\n",
              "\n",
              "    .dataframe tbody tr th {\n",
              "        vertical-align: top;\n",
              "    }\n",
              "\n",
              "    .dataframe thead th {\n",
              "        text-align: right;\n",
              "    }\n",
              "</style>\n",
              "<table border=\"1\" class=\"dataframe\">\n",
              "  <thead>\n",
              "    <tr style=\"text-align: right;\">\n",
              "      <th></th>\n",
              "      <th>000</th>\n",
              "      <th>007</th>\n",
              "      <th>009</th>\n",
              "      <th>10</th>\n",
              "      <th>100</th>\n",
              "      <th>1000</th>\n",
              "      <th>102</th>\n",
              "      <th>108</th>\n",
              "      <th>10th</th>\n",
              "      <th>11</th>\n",
              "      <th>...</th>\n",
              "      <th>zé</th>\n",
              "      <th>álex</th>\n",
              "      <th>álvaro</th>\n",
              "      <th>ángel</th>\n",
              "      <th>émile</th>\n",
              "      <th>ömer</th>\n",
              "      <th>über</th>\n",
              "      <th>łukasz</th>\n",
              "      <th>ōarai</th>\n",
              "      <th>şeref</th>\n",
              "    </tr>\n",
              "  </thead>\n",
              "  <tbody>\n",
              "    <tr>\n",
              "      <th>0</th>\n",
              "      <td>0.0</td>\n",
              "      <td>0.0</td>\n",
              "      <td>0.0</td>\n",
              "      <td>0.0</td>\n",
              "      <td>0.0</td>\n",
              "      <td>0.0</td>\n",
              "      <td>0.0</td>\n",
              "      <td>0.0</td>\n",
              "      <td>0.0</td>\n",
              "      <td>0.0</td>\n",
              "      <td>...</td>\n",
              "      <td>0.0</td>\n",
              "      <td>0.0</td>\n",
              "      <td>0.0</td>\n",
              "      <td>0.0</td>\n",
              "      <td>0.0</td>\n",
              "      <td>0.0</td>\n",
              "      <td>0.0</td>\n",
              "      <td>0.0</td>\n",
              "      <td>0.0</td>\n",
              "      <td>0.0</td>\n",
              "    </tr>\n",
              "    <tr>\n",
              "      <th>1</th>\n",
              "      <td>0.0</td>\n",
              "      <td>0.0</td>\n",
              "      <td>0.0</td>\n",
              "      <td>0.0</td>\n",
              "      <td>0.0</td>\n",
              "      <td>0.0</td>\n",
              "      <td>0.0</td>\n",
              "      <td>0.0</td>\n",
              "      <td>0.0</td>\n",
              "      <td>0.0</td>\n",
              "      <td>...</td>\n",
              "      <td>0.0</td>\n",
              "      <td>0.0</td>\n",
              "      <td>0.0</td>\n",
              "      <td>0.0</td>\n",
              "      <td>0.0</td>\n",
              "      <td>0.0</td>\n",
              "      <td>0.0</td>\n",
              "      <td>0.0</td>\n",
              "      <td>0.0</td>\n",
              "      <td>0.0</td>\n",
              "    </tr>\n",
              "    <tr>\n",
              "      <th>2</th>\n",
              "      <td>0.0</td>\n",
              "      <td>0.0</td>\n",
              "      <td>0.0</td>\n",
              "      <td>0.0</td>\n",
              "      <td>0.0</td>\n",
              "      <td>0.0</td>\n",
              "      <td>0.0</td>\n",
              "      <td>0.0</td>\n",
              "      <td>0.0</td>\n",
              "      <td>0.0</td>\n",
              "      <td>...</td>\n",
              "      <td>0.0</td>\n",
              "      <td>0.0</td>\n",
              "      <td>0.0</td>\n",
              "      <td>0.0</td>\n",
              "      <td>0.0</td>\n",
              "      <td>0.0</td>\n",
              "      <td>0.0</td>\n",
              "      <td>0.0</td>\n",
              "      <td>0.0</td>\n",
              "      <td>0.0</td>\n",
              "    </tr>\n",
              "    <tr>\n",
              "      <th>3</th>\n",
              "      <td>0.0</td>\n",
              "      <td>0.0</td>\n",
              "      <td>0.0</td>\n",
              "      <td>0.0</td>\n",
              "      <td>0.0</td>\n",
              "      <td>0.0</td>\n",
              "      <td>0.0</td>\n",
              "      <td>0.0</td>\n",
              "      <td>0.0</td>\n",
              "      <td>0.0</td>\n",
              "      <td>...</td>\n",
              "      <td>0.0</td>\n",
              "      <td>0.0</td>\n",
              "      <td>0.0</td>\n",
              "      <td>0.0</td>\n",
              "      <td>0.0</td>\n",
              "      <td>0.0</td>\n",
              "      <td>0.0</td>\n",
              "      <td>0.0</td>\n",
              "      <td>0.0</td>\n",
              "      <td>0.0</td>\n",
              "    </tr>\n",
              "    <tr>\n",
              "      <th>4</th>\n",
              "      <td>0.0</td>\n",
              "      <td>0.0</td>\n",
              "      <td>0.0</td>\n",
              "      <td>0.0</td>\n",
              "      <td>0.0</td>\n",
              "      <td>0.0</td>\n",
              "      <td>0.0</td>\n",
              "      <td>0.0</td>\n",
              "      <td>0.0</td>\n",
              "      <td>0.0</td>\n",
              "      <td>...</td>\n",
              "      <td>0.0</td>\n",
              "      <td>0.0</td>\n",
              "      <td>0.0</td>\n",
              "      <td>0.0</td>\n",
              "      <td>0.0</td>\n",
              "      <td>0.0</td>\n",
              "      <td>0.0</td>\n",
              "      <td>0.0</td>\n",
              "      <td>0.0</td>\n",
              "      <td>0.0</td>\n",
              "    </tr>\n",
              "    <tr>\n",
              "      <th>...</th>\n",
              "      <td>...</td>\n",
              "      <td>...</td>\n",
              "      <td>...</td>\n",
              "      <td>...</td>\n",
              "      <td>...</td>\n",
              "      <td>...</td>\n",
              "      <td>...</td>\n",
              "      <td>...</td>\n",
              "      <td>...</td>\n",
              "      <td>...</td>\n",
              "      <td>...</td>\n",
              "      <td>...</td>\n",
              "      <td>...</td>\n",
              "      <td>...</td>\n",
              "      <td>...</td>\n",
              "      <td>...</td>\n",
              "      <td>...</td>\n",
              "      <td>...</td>\n",
              "      <td>...</td>\n",
              "      <td>...</td>\n",
              "      <td>...</td>\n",
              "    </tr>\n",
              "    <tr>\n",
              "      <th>8802</th>\n",
              "      <td>0.0</td>\n",
              "      <td>0.0</td>\n",
              "      <td>0.0</td>\n",
              "      <td>0.0</td>\n",
              "      <td>0.0</td>\n",
              "      <td>0.0</td>\n",
              "      <td>0.0</td>\n",
              "      <td>0.0</td>\n",
              "      <td>0.0</td>\n",
              "      <td>0.0</td>\n",
              "      <td>...</td>\n",
              "      <td>0.0</td>\n",
              "      <td>0.0</td>\n",
              "      <td>0.0</td>\n",
              "      <td>0.0</td>\n",
              "      <td>0.0</td>\n",
              "      <td>0.0</td>\n",
              "      <td>0.0</td>\n",
              "      <td>0.0</td>\n",
              "      <td>0.0</td>\n",
              "      <td>0.0</td>\n",
              "    </tr>\n",
              "    <tr>\n",
              "      <th>8803</th>\n",
              "      <td>0.0</td>\n",
              "      <td>0.0</td>\n",
              "      <td>0.0</td>\n",
              "      <td>0.0</td>\n",
              "      <td>0.0</td>\n",
              "      <td>0.0</td>\n",
              "      <td>0.0</td>\n",
              "      <td>0.0</td>\n",
              "      <td>0.0</td>\n",
              "      <td>0.0</td>\n",
              "      <td>...</td>\n",
              "      <td>0.0</td>\n",
              "      <td>0.0</td>\n",
              "      <td>0.0</td>\n",
              "      <td>0.0</td>\n",
              "      <td>0.0</td>\n",
              "      <td>0.0</td>\n",
              "      <td>0.0</td>\n",
              "      <td>0.0</td>\n",
              "      <td>0.0</td>\n",
              "      <td>0.0</td>\n",
              "    </tr>\n",
              "    <tr>\n",
              "      <th>8804</th>\n",
              "      <td>0.0</td>\n",
              "      <td>0.0</td>\n",
              "      <td>0.0</td>\n",
              "      <td>0.0</td>\n",
              "      <td>0.0</td>\n",
              "      <td>0.0</td>\n",
              "      <td>0.0</td>\n",
              "      <td>0.0</td>\n",
              "      <td>0.0</td>\n",
              "      <td>0.0</td>\n",
              "      <td>...</td>\n",
              "      <td>0.0</td>\n",
              "      <td>0.0</td>\n",
              "      <td>0.0</td>\n",
              "      <td>0.0</td>\n",
              "      <td>0.0</td>\n",
              "      <td>0.0</td>\n",
              "      <td>0.0</td>\n",
              "      <td>0.0</td>\n",
              "      <td>0.0</td>\n",
              "      <td>0.0</td>\n",
              "    </tr>\n",
              "    <tr>\n",
              "      <th>8805</th>\n",
              "      <td>0.0</td>\n",
              "      <td>0.0</td>\n",
              "      <td>0.0</td>\n",
              "      <td>0.0</td>\n",
              "      <td>0.0</td>\n",
              "      <td>0.0</td>\n",
              "      <td>0.0</td>\n",
              "      <td>0.0</td>\n",
              "      <td>0.0</td>\n",
              "      <td>0.0</td>\n",
              "      <td>...</td>\n",
              "      <td>0.0</td>\n",
              "      <td>0.0</td>\n",
              "      <td>0.0</td>\n",
              "      <td>0.0</td>\n",
              "      <td>0.0</td>\n",
              "      <td>0.0</td>\n",
              "      <td>0.0</td>\n",
              "      <td>0.0</td>\n",
              "      <td>0.0</td>\n",
              "      <td>0.0</td>\n",
              "    </tr>\n",
              "    <tr>\n",
              "      <th>8806</th>\n",
              "      <td>0.0</td>\n",
              "      <td>0.0</td>\n",
              "      <td>0.0</td>\n",
              "      <td>0.0</td>\n",
              "      <td>0.0</td>\n",
              "      <td>0.0</td>\n",
              "      <td>0.0</td>\n",
              "      <td>0.0</td>\n",
              "      <td>0.0</td>\n",
              "      <td>0.0</td>\n",
              "      <td>...</td>\n",
              "      <td>0.0</td>\n",
              "      <td>0.0</td>\n",
              "      <td>0.0</td>\n",
              "      <td>0.0</td>\n",
              "      <td>0.0</td>\n",
              "      <td>0.0</td>\n",
              "      <td>0.0</td>\n",
              "      <td>0.0</td>\n",
              "      <td>0.0</td>\n",
              "      <td>0.0</td>\n",
              "    </tr>\n",
              "  </tbody>\n",
              "</table>\n",
              "<p>8807 rows × 18895 columns</p>\n",
              "</div>\n",
              "    <div class=\"colab-df-buttons\">\n",
              "\n",
              "  <div class=\"colab-df-container\">\n",
              "    <button class=\"colab-df-convert\" onclick=\"convertToInteractive('df-47979d9e-7a69-4afd-8233-f02cf9eb1fca')\"\n",
              "            title=\"Convert this dataframe to an interactive table.\"\n",
              "            style=\"display:none;\">\n",
              "\n",
              "  <svg xmlns=\"http://www.w3.org/2000/svg\" height=\"24px\" viewBox=\"0 -960 960 960\">\n",
              "    <path d=\"M120-120v-720h720v720H120Zm60-500h600v-160H180v160Zm220 220h160v-160H400v160Zm0 220h160v-160H400v160ZM180-400h160v-160H180v160Zm440 0h160v-160H620v160ZM180-180h160v-160H180v160Zm440 0h160v-160H620v160Z\"/>\n",
              "  </svg>\n",
              "    </button>\n",
              "\n",
              "  <style>\n",
              "    .colab-df-container {\n",
              "      display:flex;\n",
              "      gap: 12px;\n",
              "    }\n",
              "\n",
              "    .colab-df-convert {\n",
              "      background-color: #E8F0FE;\n",
              "      border: none;\n",
              "      border-radius: 50%;\n",
              "      cursor: pointer;\n",
              "      display: none;\n",
              "      fill: #1967D2;\n",
              "      height: 32px;\n",
              "      padding: 0 0 0 0;\n",
              "      width: 32px;\n",
              "    }\n",
              "\n",
              "    .colab-df-convert:hover {\n",
              "      background-color: #E2EBFA;\n",
              "      box-shadow: 0px 1px 2px rgba(60, 64, 67, 0.3), 0px 1px 3px 1px rgba(60, 64, 67, 0.15);\n",
              "      fill: #174EA6;\n",
              "    }\n",
              "\n",
              "    .colab-df-buttons div {\n",
              "      margin-bottom: 4px;\n",
              "    }\n",
              "\n",
              "    [theme=dark] .colab-df-convert {\n",
              "      background-color: #3B4455;\n",
              "      fill: #D2E3FC;\n",
              "    }\n",
              "\n",
              "    [theme=dark] .colab-df-convert:hover {\n",
              "      background-color: #434B5C;\n",
              "      box-shadow: 0px 1px 3px 1px rgba(0, 0, 0, 0.15);\n",
              "      filter: drop-shadow(0px 1px 2px rgba(0, 0, 0, 0.3));\n",
              "      fill: #FFFFFF;\n",
              "    }\n",
              "  </style>\n",
              "\n",
              "    <script>\n",
              "      const buttonEl =\n",
              "        document.querySelector('#df-47979d9e-7a69-4afd-8233-f02cf9eb1fca button.colab-df-convert');\n",
              "      buttonEl.style.display =\n",
              "        google.colab.kernel.accessAllowed ? 'block' : 'none';\n",
              "\n",
              "      async function convertToInteractive(key) {\n",
              "        const element = document.querySelector('#df-47979d9e-7a69-4afd-8233-f02cf9eb1fca');\n",
              "        const dataTable =\n",
              "          await google.colab.kernel.invokeFunction('convertToInteractive',\n",
              "                                                    [key], {});\n",
              "        if (!dataTable) return;\n",
              "\n",
              "        const docLinkHtml = 'Like what you see? Visit the ' +\n",
              "          '<a target=\"_blank\" href=https://colab.research.google.com/notebooks/data_table.ipynb>data table notebook</a>'\n",
              "          + ' to learn more about interactive tables.';\n",
              "        element.innerHTML = '';\n",
              "        dataTable['output_type'] = 'display_data';\n",
              "        await google.colab.output.renderOutput(dataTable, element);\n",
              "        const docLink = document.createElement('div');\n",
              "        docLink.innerHTML = docLinkHtml;\n",
              "        element.appendChild(docLink);\n",
              "      }\n",
              "    </script>\n",
              "  </div>\n",
              "\n",
              "\n",
              "<div id=\"df-0894141b-474d-4848-98a3-fe49a8560995\">\n",
              "  <button class=\"colab-df-quickchart\" onclick=\"quickchart('df-0894141b-474d-4848-98a3-fe49a8560995')\"\n",
              "            title=\"Suggest charts.\"\n",
              "            style=\"display:none;\">\n",
              "\n",
              "<svg xmlns=\"http://www.w3.org/2000/svg\" height=\"24px\"viewBox=\"0 0 24 24\"\n",
              "     width=\"24px\">\n",
              "    <g>\n",
              "        <path d=\"M19 3H5c-1.1 0-2 .9-2 2v14c0 1.1.9 2 2 2h14c1.1 0 2-.9 2-2V5c0-1.1-.9-2-2-2zM9 17H7v-7h2v7zm4 0h-2V7h2v10zm4 0h-2v-4h2v4z\"/>\n",
              "    </g>\n",
              "</svg>\n",
              "  </button>\n",
              "\n",
              "<style>\n",
              "  .colab-df-quickchart {\n",
              "    background-color: #E8F0FE;\n",
              "    border: none;\n",
              "    border-radius: 50%;\n",
              "    cursor: pointer;\n",
              "    display: none;\n",
              "    fill: #1967D2;\n",
              "    height: 32px;\n",
              "    padding: 0 0 0 0;\n",
              "    width: 32px;\n",
              "  }\n",
              "\n",
              "  .colab-df-quickchart:hover {\n",
              "    background-color: #E2EBFA;\n",
              "    box-shadow: 0px 1px 2px rgba(60, 64, 67, 0.3), 0px 1px 3px 1px rgba(60, 64, 67, 0.15);\n",
              "    fill: #174EA6;\n",
              "  }\n",
              "\n",
              "  [theme=dark] .colab-df-quickchart {\n",
              "    background-color: #3B4455;\n",
              "    fill: #D2E3FC;\n",
              "  }\n",
              "\n",
              "  [theme=dark] .colab-df-quickchart:hover {\n",
              "    background-color: #434B5C;\n",
              "    box-shadow: 0px 1px 3px 1px rgba(0, 0, 0, 0.15);\n",
              "    filter: drop-shadow(0px 1px 2px rgba(0, 0, 0, 0.3));\n",
              "    fill: #FFFFFF;\n",
              "  }\n",
              "</style>\n",
              "\n",
              "  <script>\n",
              "    async function quickchart(key) {\n",
              "      const charts = await google.colab.kernel.invokeFunction(\n",
              "          'suggestCharts', [key], {});\n",
              "    }\n",
              "    (() => {\n",
              "      let quickchartButtonEl =\n",
              "        document.querySelector('#df-0894141b-474d-4848-98a3-fe49a8560995 button');\n",
              "      quickchartButtonEl.style.display =\n",
              "        google.colab.kernel.accessAllowed ? 'block' : 'none';\n",
              "    })();\n",
              "  </script>\n",
              "</div>\n",
              "    </div>\n",
              "  </div>\n"
            ]
          },
          "metadata": {},
          "execution_count": 90
        }
      ]
    },
    {
      "cell_type": "markdown",
      "source": [
        "Используя понятие косинусного сходства, мы можем измерить степень схожести между различными фильмами на основе их векторных представлений. Для этого мы вычисляем косинус угла между векторами признаков фильмов A и B.\n",
        "\n",
        "Если у нас есть два вектора A и B с признаками, то косинусное сходство $cos(θ)$ вычисляется как отношение скалярного произведения векторов к произведению их норм:  \n",
        "  \n",
        "$\n",
        "similarity = cos(θ) = \\frac{A*B}{||A||||B||} = \\frac{\\sum_{i=1}^n A_i \\times B_i}{\\sqrt{\\sum_{i=1}^n (A_i)^2} \\times \\sqrt{\\sum_{i=1}^n (B_i)^2} }\n",
        "$\n",
        "    \n",
        "Эта мера позволяет оценить, насколько близки между собой векторные представления фильмов A и B. Чем ближе значение косинусного сходства к *1*, тем более схожими являются фильмы, и наоборот, чем ближе к *0*, тем более разными они являются в контексте используемых признаков."
      ],
      "metadata": {
        "id": "boXdIj63YEaH"
      }
    },
    {
      "cell_type": "code",
      "source": [
        "from sklearn.metrics.pairwise import cosine_similarity\n",
        "\n",
        "cosine = cosine_similarity(tfidf_matrix, tfidf_matrix)\n",
        "cosine"
      ],
      "metadata": {
        "colab": {
          "base_uri": "https://localhost:8080/"
        },
        "id": "t5bW6q7e8bI7",
        "outputId": "6363a7dd-1dca-47b9-8090-0664758ec21e"
      },
      "execution_count": 91,
      "outputs": [
        {
          "output_type": "execute_result",
          "data": {
            "text/plain": [
              "array([[1.        , 0.        , 0.        , ..., 0.        , 0.01538292,\n",
              "        0.        ],\n",
              "       [0.        , 1.        , 0.        , ..., 0.        , 0.        ,\n",
              "        0.        ],\n",
              "       [0.        , 0.        , 1.        , ..., 0.        , 0.        ,\n",
              "        0.02230089],\n",
              "       ...,\n",
              "       [0.        , 0.        , 0.        , ..., 1.        , 0.        ,\n",
              "        0.        ],\n",
              "       [0.01538292, 0.        , 0.        , ..., 0.        , 1.        ,\n",
              "        0.        ],\n",
              "       [0.        , 0.        , 0.02230089, ..., 0.        , 0.        ,\n",
              "        1.        ]])"
            ]
          },
          "metadata": {},
          "execution_count": 91
        }
      ]
    },
    {
      "cell_type": "code",
      "source": [
        "cosine.shape"
      ],
      "metadata": {
        "colab": {
          "base_uri": "https://localhost:8080/"
        },
        "id": "DbAalDps8ql6",
        "outputId": "d1e005eb-faf9-409a-b9b1-44fdb9caf8bd"
      },
      "execution_count": 92,
      "outputs": [
        {
          "output_type": "execute_result",
          "data": {
            "text/plain": [
              "(8807, 8807)"
            ]
          },
          "metadata": {},
          "execution_count": 92
        }
      ]
    },
    {
      "cell_type": "code",
      "source": [
        "indexes = pd.Series(netflix.index, index=netflix['title']).drop_duplicates()\n",
        "indexes"
      ],
      "metadata": {
        "colab": {
          "base_uri": "https://localhost:8080/"
        },
        "id": "Yx6nP0m88vlv",
        "outputId": "9e978e51-bca9-4a2e-9d7f-c99c01bd1327"
      },
      "execution_count": 94,
      "outputs": [
        {
          "output_type": "execute_result",
          "data": {
            "text/plain": [
              "title\n",
              "Dick Johnson Is Dead        0\n",
              "Blood & Water               1\n",
              "Ganglands                   2\n",
              "Jailbirds New Orleans       3\n",
              "Kota Factory                4\n",
              "                         ... \n",
              "Zodiac                   8802\n",
              "Zombie Dumb              8803\n",
              "Zombieland               8804\n",
              "Zoom                     8805\n",
              "Zubaan                   8806\n",
              "Length: 8807, dtype: int64"
            ]
          },
          "metadata": {},
          "execution_count": 94
        }
      ]
    },
    {
      "cell_type": "code",
      "source": [
        "cosine_df = pd.DataFrame(cosine)\n",
        "\n",
        "cosine_df.columns = indexes.index\n",
        "\n",
        "cosine_df['title'] = indexes.index\n",
        "cosine_df = cosine_df.set_index('title')\n",
        "\n",
        "cosine_df"
      ],
      "metadata": {
        "colab": {
          "base_uri": "https://localhost:8080/",
          "height": 666
        },
        "id": "wXSgPAAq8yvS",
        "outputId": "d1dd06fd-c8aa-430c-bffb-c24b7870c6c3"
      },
      "execution_count": 95,
      "outputs": [
        {
          "output_type": "execute_result",
          "data": {
            "text/plain": [
              "title                  Dick Johnson Is Dead  Blood & Water  Ganglands  \\\n",
              "title                                                                   \n",
              "Dick Johnson Is Dead               1.000000          0.000   0.000000   \n",
              "Blood & Water                      0.000000          1.000   0.000000   \n",
              "Ganglands                          0.000000          0.000   1.000000   \n",
              "Jailbirds New Orleans              0.000000          0.000   0.000000   \n",
              "Kota Factory                       0.015222          0.000   0.000000   \n",
              "...                                     ...            ...        ...   \n",
              "Zodiac                             0.000000          0.000   0.000000   \n",
              "Zombie Dumb                        0.000000          0.042   0.000000   \n",
              "Zombieland                         0.000000          0.000   0.000000   \n",
              "Zoom                               0.015383          0.000   0.000000   \n",
              "Zubaan                             0.000000          0.000   0.022301   \n",
              "\n",
              "title                  Jailbirds New Orleans  Kota Factory  Midnight Mass  \\\n",
              "title                                                                       \n",
              "Dick Johnson Is Dead                0.000000      0.015222       0.000000   \n",
              "Blood & Water                       0.000000      0.000000       0.031227   \n",
              "Ganglands                           0.000000      0.000000       0.000000   \n",
              "Jailbirds New Orleans               1.000000      0.000000       0.000000   \n",
              "Kota Factory                        0.000000      1.000000       0.000000   \n",
              "...                                      ...           ...            ...   \n",
              "Zodiac                              0.000000      0.000000       0.000000   \n",
              "Zombie Dumb                         0.000000      0.000000       0.054920   \n",
              "Zombieland                          0.000000      0.035196       0.000000   \n",
              "Zoom                                0.016386      0.068784       0.000000   \n",
              "Zubaan                              0.000000      0.000000       0.000000   \n",
              "\n",
              "title                  My Little Pony: A New Generation   Sankofa  \\\n",
              "title                                                               \n",
              "Dick Johnson Is Dead                            0.00000  0.000000   \n",
              "Blood & Water                                   0.05166  0.000000   \n",
              "Ganglands                                       0.00000  0.000000   \n",
              "Jailbirds New Orleans                           0.00000  0.000000   \n",
              "Kota Factory                                    0.00000  0.000000   \n",
              "...                                                 ...       ...   \n",
              "Zodiac                                          0.00000  0.000000   \n",
              "Zombie Dumb                                     0.00000  0.000000   \n",
              "Zombieland                                      0.00000  0.000000   \n",
              "Zoom                                            0.00000  0.000000   \n",
              "Zubaan                                          0.00000  0.035856   \n",
              "\n",
              "title                  The Great British Baking Show  The Starling  ...  \\\n",
              "title                                                               ...   \n",
              "Dick Johnson Is Dead                        0.040165      0.017411  ...   \n",
              "Blood & Water                               0.000000      0.000000  ...   \n",
              "Ganglands                                   0.000000      0.000000  ...   \n",
              "Jailbirds New Orleans                       0.000000      0.000000  ...   \n",
              "Kota Factory                                0.000000      0.016718  ...   \n",
              "...                                              ...           ...  ...   \n",
              "Zodiac                                      0.000000      0.000000  ...   \n",
              "Zombie Dumb                                 0.000000      0.000000  ...   \n",
              "Zombieland                                  0.000000      0.062320  ...   \n",
              "Zoom                                        0.000000      0.016895  ...   \n",
              "Zubaan                                      0.000000      0.044399  ...   \n",
              "\n",
              "title                  Zak Storm  Zed Plus     Zenda  Zindagi Gulzar Hai  \\\n",
              "title                                                                      \n",
              "Dick Johnson Is Dead    0.000000  0.000000  0.000000            0.000000   \n",
              "Blood & Water           0.035331  0.032784  0.116936            0.000000   \n",
              "Ganglands               0.000000  0.000000  0.000000            0.000000   \n",
              "Jailbirds New Orleans   0.000000  0.000000  0.000000            0.000000   \n",
              "Kota Factory            0.000000  0.000000  0.000000            0.000000   \n",
              "...                          ...       ...       ...                 ...   \n",
              "Zodiac                  0.000000  0.045875  0.052108            0.000000   \n",
              "Zombie Dumb             0.000000  0.037161  0.000000            0.000000   \n",
              "Zombieland              0.000000  0.000000  0.000000            0.042132   \n",
              "Zoom                    0.000000  0.000000  0.000000            0.000000   \n",
              "Zubaan                  0.000000  0.000000  0.000000            0.000000   \n",
              "\n",
              "title                   Zinzana    Zodiac  Zombie Dumb  Zombieland      Zoom  \\\n",
              "title                                                                          \n",
              "Dick Johnson Is Dead   0.000000  0.000000        0.000    0.000000  0.015383   \n",
              "Blood & Water          0.032609  0.000000        0.042    0.000000  0.000000   \n",
              "Ganglands              0.000000  0.000000        0.000    0.000000  0.000000   \n",
              "Jailbirds New Orleans  0.000000  0.000000        0.000    0.000000  0.016386   \n",
              "Kota Factory           0.000000  0.000000        0.000    0.035196  0.068784   \n",
              "...                         ...       ...          ...         ...       ...   \n",
              "Zodiac                 0.000000  1.000000        0.000    0.060511  0.000000   \n",
              "Zombie Dumb            0.036964  0.000000        1.000    0.000000  0.000000   \n",
              "Zombieland             0.000000  0.060511        0.000    1.000000  0.000000   \n",
              "Zoom                   0.000000  0.000000        0.000    0.000000  1.000000   \n",
              "Zubaan                 0.000000  0.000000        0.000    0.000000  0.000000   \n",
              "\n",
              "title                    Zubaan  \n",
              "title                            \n",
              "Dick Johnson Is Dead   0.000000  \n",
              "Blood & Water          0.000000  \n",
              "Ganglands              0.022301  \n",
              "Jailbirds New Orleans  0.000000  \n",
              "Kota Factory           0.000000  \n",
              "...                         ...  \n",
              "Zodiac                 0.000000  \n",
              "Zombie Dumb            0.000000  \n",
              "Zombieland             0.000000  \n",
              "Zoom                   0.000000  \n",
              "Zubaan                 1.000000  \n",
              "\n",
              "[8807 rows x 8807 columns]"
            ],
            "text/html": [
              "\n",
              "  <div id=\"df-e3bf3d1b-ddf7-47ee-ad42-0937882f2f48\" class=\"colab-df-container\">\n",
              "    <div>\n",
              "<style scoped>\n",
              "    .dataframe tbody tr th:only-of-type {\n",
              "        vertical-align: middle;\n",
              "    }\n",
              "\n",
              "    .dataframe tbody tr th {\n",
              "        vertical-align: top;\n",
              "    }\n",
              "\n",
              "    .dataframe thead th {\n",
              "        text-align: right;\n",
              "    }\n",
              "</style>\n",
              "<table border=\"1\" class=\"dataframe\">\n",
              "  <thead>\n",
              "    <tr style=\"text-align: right;\">\n",
              "      <th>title</th>\n",
              "      <th>Dick Johnson Is Dead</th>\n",
              "      <th>Blood &amp; Water</th>\n",
              "      <th>Ganglands</th>\n",
              "      <th>Jailbirds New Orleans</th>\n",
              "      <th>Kota Factory</th>\n",
              "      <th>Midnight Mass</th>\n",
              "      <th>My Little Pony: A New Generation</th>\n",
              "      <th>Sankofa</th>\n",
              "      <th>The Great British Baking Show</th>\n",
              "      <th>The Starling</th>\n",
              "      <th>...</th>\n",
              "      <th>Zak Storm</th>\n",
              "      <th>Zed Plus</th>\n",
              "      <th>Zenda</th>\n",
              "      <th>Zindagi Gulzar Hai</th>\n",
              "      <th>Zinzana</th>\n",
              "      <th>Zodiac</th>\n",
              "      <th>Zombie Dumb</th>\n",
              "      <th>Zombieland</th>\n",
              "      <th>Zoom</th>\n",
              "      <th>Zubaan</th>\n",
              "    </tr>\n",
              "    <tr>\n",
              "      <th>title</th>\n",
              "      <th></th>\n",
              "      <th></th>\n",
              "      <th></th>\n",
              "      <th></th>\n",
              "      <th></th>\n",
              "      <th></th>\n",
              "      <th></th>\n",
              "      <th></th>\n",
              "      <th></th>\n",
              "      <th></th>\n",
              "      <th></th>\n",
              "      <th></th>\n",
              "      <th></th>\n",
              "      <th></th>\n",
              "      <th></th>\n",
              "      <th></th>\n",
              "      <th></th>\n",
              "      <th></th>\n",
              "      <th></th>\n",
              "      <th></th>\n",
              "      <th></th>\n",
              "    </tr>\n",
              "  </thead>\n",
              "  <tbody>\n",
              "    <tr>\n",
              "      <th>Dick Johnson Is Dead</th>\n",
              "      <td>1.000000</td>\n",
              "      <td>0.000</td>\n",
              "      <td>0.000000</td>\n",
              "      <td>0.000000</td>\n",
              "      <td>0.015222</td>\n",
              "      <td>0.000000</td>\n",
              "      <td>0.00000</td>\n",
              "      <td>0.000000</td>\n",
              "      <td>0.040165</td>\n",
              "      <td>0.017411</td>\n",
              "      <td>...</td>\n",
              "      <td>0.000000</td>\n",
              "      <td>0.000000</td>\n",
              "      <td>0.000000</td>\n",
              "      <td>0.000000</td>\n",
              "      <td>0.000000</td>\n",
              "      <td>0.000000</td>\n",
              "      <td>0.000</td>\n",
              "      <td>0.000000</td>\n",
              "      <td>0.015383</td>\n",
              "      <td>0.000000</td>\n",
              "    </tr>\n",
              "    <tr>\n",
              "      <th>Blood &amp; Water</th>\n",
              "      <td>0.000000</td>\n",
              "      <td>1.000</td>\n",
              "      <td>0.000000</td>\n",
              "      <td>0.000000</td>\n",
              "      <td>0.000000</td>\n",
              "      <td>0.031227</td>\n",
              "      <td>0.05166</td>\n",
              "      <td>0.000000</td>\n",
              "      <td>0.000000</td>\n",
              "      <td>0.000000</td>\n",
              "      <td>...</td>\n",
              "      <td>0.035331</td>\n",
              "      <td>0.032784</td>\n",
              "      <td>0.116936</td>\n",
              "      <td>0.000000</td>\n",
              "      <td>0.032609</td>\n",
              "      <td>0.000000</td>\n",
              "      <td>0.042</td>\n",
              "      <td>0.000000</td>\n",
              "      <td>0.000000</td>\n",
              "      <td>0.000000</td>\n",
              "    </tr>\n",
              "    <tr>\n",
              "      <th>Ganglands</th>\n",
              "      <td>0.000000</td>\n",
              "      <td>0.000</td>\n",
              "      <td>1.000000</td>\n",
              "      <td>0.000000</td>\n",
              "      <td>0.000000</td>\n",
              "      <td>0.000000</td>\n",
              "      <td>0.00000</td>\n",
              "      <td>0.000000</td>\n",
              "      <td>0.000000</td>\n",
              "      <td>0.000000</td>\n",
              "      <td>...</td>\n",
              "      <td>0.000000</td>\n",
              "      <td>0.000000</td>\n",
              "      <td>0.000000</td>\n",
              "      <td>0.000000</td>\n",
              "      <td>0.000000</td>\n",
              "      <td>0.000000</td>\n",
              "      <td>0.000</td>\n",
              "      <td>0.000000</td>\n",
              "      <td>0.000000</td>\n",
              "      <td>0.022301</td>\n",
              "    </tr>\n",
              "    <tr>\n",
              "      <th>Jailbirds New Orleans</th>\n",
              "      <td>0.000000</td>\n",
              "      <td>0.000</td>\n",
              "      <td>0.000000</td>\n",
              "      <td>1.000000</td>\n",
              "      <td>0.000000</td>\n",
              "      <td>0.000000</td>\n",
              "      <td>0.00000</td>\n",
              "      <td>0.000000</td>\n",
              "      <td>0.000000</td>\n",
              "      <td>0.000000</td>\n",
              "      <td>...</td>\n",
              "      <td>0.000000</td>\n",
              "      <td>0.000000</td>\n",
              "      <td>0.000000</td>\n",
              "      <td>0.000000</td>\n",
              "      <td>0.000000</td>\n",
              "      <td>0.000000</td>\n",
              "      <td>0.000</td>\n",
              "      <td>0.000000</td>\n",
              "      <td>0.016386</td>\n",
              "      <td>0.000000</td>\n",
              "    </tr>\n",
              "    <tr>\n",
              "      <th>Kota Factory</th>\n",
              "      <td>0.015222</td>\n",
              "      <td>0.000</td>\n",
              "      <td>0.000000</td>\n",
              "      <td>0.000000</td>\n",
              "      <td>1.000000</td>\n",
              "      <td>0.000000</td>\n",
              "      <td>0.00000</td>\n",
              "      <td>0.000000</td>\n",
              "      <td>0.000000</td>\n",
              "      <td>0.016718</td>\n",
              "      <td>...</td>\n",
              "      <td>0.000000</td>\n",
              "      <td>0.000000</td>\n",
              "      <td>0.000000</td>\n",
              "      <td>0.000000</td>\n",
              "      <td>0.000000</td>\n",
              "      <td>0.000000</td>\n",
              "      <td>0.000</td>\n",
              "      <td>0.035196</td>\n",
              "      <td>0.068784</td>\n",
              "      <td>0.000000</td>\n",
              "    </tr>\n",
              "    <tr>\n",
              "      <th>...</th>\n",
              "      <td>...</td>\n",
              "      <td>...</td>\n",
              "      <td>...</td>\n",
              "      <td>...</td>\n",
              "      <td>...</td>\n",
              "      <td>...</td>\n",
              "      <td>...</td>\n",
              "      <td>...</td>\n",
              "      <td>...</td>\n",
              "      <td>...</td>\n",
              "      <td>...</td>\n",
              "      <td>...</td>\n",
              "      <td>...</td>\n",
              "      <td>...</td>\n",
              "      <td>...</td>\n",
              "      <td>...</td>\n",
              "      <td>...</td>\n",
              "      <td>...</td>\n",
              "      <td>...</td>\n",
              "      <td>...</td>\n",
              "      <td>...</td>\n",
              "    </tr>\n",
              "    <tr>\n",
              "      <th>Zodiac</th>\n",
              "      <td>0.000000</td>\n",
              "      <td>0.000</td>\n",
              "      <td>0.000000</td>\n",
              "      <td>0.000000</td>\n",
              "      <td>0.000000</td>\n",
              "      <td>0.000000</td>\n",
              "      <td>0.00000</td>\n",
              "      <td>0.000000</td>\n",
              "      <td>0.000000</td>\n",
              "      <td>0.000000</td>\n",
              "      <td>...</td>\n",
              "      <td>0.000000</td>\n",
              "      <td>0.045875</td>\n",
              "      <td>0.052108</td>\n",
              "      <td>0.000000</td>\n",
              "      <td>0.000000</td>\n",
              "      <td>1.000000</td>\n",
              "      <td>0.000</td>\n",
              "      <td>0.060511</td>\n",
              "      <td>0.000000</td>\n",
              "      <td>0.000000</td>\n",
              "    </tr>\n",
              "    <tr>\n",
              "      <th>Zombie Dumb</th>\n",
              "      <td>0.000000</td>\n",
              "      <td>0.042</td>\n",
              "      <td>0.000000</td>\n",
              "      <td>0.000000</td>\n",
              "      <td>0.000000</td>\n",
              "      <td>0.054920</td>\n",
              "      <td>0.00000</td>\n",
              "      <td>0.000000</td>\n",
              "      <td>0.000000</td>\n",
              "      <td>0.000000</td>\n",
              "      <td>...</td>\n",
              "      <td>0.000000</td>\n",
              "      <td>0.037161</td>\n",
              "      <td>0.000000</td>\n",
              "      <td>0.000000</td>\n",
              "      <td>0.036964</td>\n",
              "      <td>0.000000</td>\n",
              "      <td>1.000</td>\n",
              "      <td>0.000000</td>\n",
              "      <td>0.000000</td>\n",
              "      <td>0.000000</td>\n",
              "    </tr>\n",
              "    <tr>\n",
              "      <th>Zombieland</th>\n",
              "      <td>0.000000</td>\n",
              "      <td>0.000</td>\n",
              "      <td>0.000000</td>\n",
              "      <td>0.000000</td>\n",
              "      <td>0.035196</td>\n",
              "      <td>0.000000</td>\n",
              "      <td>0.00000</td>\n",
              "      <td>0.000000</td>\n",
              "      <td>0.000000</td>\n",
              "      <td>0.062320</td>\n",
              "      <td>...</td>\n",
              "      <td>0.000000</td>\n",
              "      <td>0.000000</td>\n",
              "      <td>0.000000</td>\n",
              "      <td>0.042132</td>\n",
              "      <td>0.000000</td>\n",
              "      <td>0.060511</td>\n",
              "      <td>0.000</td>\n",
              "      <td>1.000000</td>\n",
              "      <td>0.000000</td>\n",
              "      <td>0.000000</td>\n",
              "    </tr>\n",
              "    <tr>\n",
              "      <th>Zoom</th>\n",
              "      <td>0.015383</td>\n",
              "      <td>0.000</td>\n",
              "      <td>0.000000</td>\n",
              "      <td>0.016386</td>\n",
              "      <td>0.068784</td>\n",
              "      <td>0.000000</td>\n",
              "      <td>0.00000</td>\n",
              "      <td>0.000000</td>\n",
              "      <td>0.000000</td>\n",
              "      <td>0.016895</td>\n",
              "      <td>...</td>\n",
              "      <td>0.000000</td>\n",
              "      <td>0.000000</td>\n",
              "      <td>0.000000</td>\n",
              "      <td>0.000000</td>\n",
              "      <td>0.000000</td>\n",
              "      <td>0.000000</td>\n",
              "      <td>0.000</td>\n",
              "      <td>0.000000</td>\n",
              "      <td>1.000000</td>\n",
              "      <td>0.000000</td>\n",
              "    </tr>\n",
              "    <tr>\n",
              "      <th>Zubaan</th>\n",
              "      <td>0.000000</td>\n",
              "      <td>0.000</td>\n",
              "      <td>0.022301</td>\n",
              "      <td>0.000000</td>\n",
              "      <td>0.000000</td>\n",
              "      <td>0.000000</td>\n",
              "      <td>0.00000</td>\n",
              "      <td>0.035856</td>\n",
              "      <td>0.000000</td>\n",
              "      <td>0.044399</td>\n",
              "      <td>...</td>\n",
              "      <td>0.000000</td>\n",
              "      <td>0.000000</td>\n",
              "      <td>0.000000</td>\n",
              "      <td>0.000000</td>\n",
              "      <td>0.000000</td>\n",
              "      <td>0.000000</td>\n",
              "      <td>0.000</td>\n",
              "      <td>0.000000</td>\n",
              "      <td>0.000000</td>\n",
              "      <td>1.000000</td>\n",
              "    </tr>\n",
              "  </tbody>\n",
              "</table>\n",
              "<p>8807 rows × 8807 columns</p>\n",
              "</div>\n",
              "    <div class=\"colab-df-buttons\">\n",
              "\n",
              "  <div class=\"colab-df-container\">\n",
              "    <button class=\"colab-df-convert\" onclick=\"convertToInteractive('df-e3bf3d1b-ddf7-47ee-ad42-0937882f2f48')\"\n",
              "            title=\"Convert this dataframe to an interactive table.\"\n",
              "            style=\"display:none;\">\n",
              "\n",
              "  <svg xmlns=\"http://www.w3.org/2000/svg\" height=\"24px\" viewBox=\"0 -960 960 960\">\n",
              "    <path d=\"M120-120v-720h720v720H120Zm60-500h600v-160H180v160Zm220 220h160v-160H400v160Zm0 220h160v-160H400v160ZM180-400h160v-160H180v160Zm440 0h160v-160H620v160ZM180-180h160v-160H180v160Zm440 0h160v-160H620v160Z\"/>\n",
              "  </svg>\n",
              "    </button>\n",
              "\n",
              "  <style>\n",
              "    .colab-df-container {\n",
              "      display:flex;\n",
              "      gap: 12px;\n",
              "    }\n",
              "\n",
              "    .colab-df-convert {\n",
              "      background-color: #E8F0FE;\n",
              "      border: none;\n",
              "      border-radius: 50%;\n",
              "      cursor: pointer;\n",
              "      display: none;\n",
              "      fill: #1967D2;\n",
              "      height: 32px;\n",
              "      padding: 0 0 0 0;\n",
              "      width: 32px;\n",
              "    }\n",
              "\n",
              "    .colab-df-convert:hover {\n",
              "      background-color: #E2EBFA;\n",
              "      box-shadow: 0px 1px 2px rgba(60, 64, 67, 0.3), 0px 1px 3px 1px rgba(60, 64, 67, 0.15);\n",
              "      fill: #174EA6;\n",
              "    }\n",
              "\n",
              "    .colab-df-buttons div {\n",
              "      margin-bottom: 4px;\n",
              "    }\n",
              "\n",
              "    [theme=dark] .colab-df-convert {\n",
              "      background-color: #3B4455;\n",
              "      fill: #D2E3FC;\n",
              "    }\n",
              "\n",
              "    [theme=dark] .colab-df-convert:hover {\n",
              "      background-color: #434B5C;\n",
              "      box-shadow: 0px 1px 3px 1px rgba(0, 0, 0, 0.15);\n",
              "      filter: drop-shadow(0px 1px 2px rgba(0, 0, 0, 0.3));\n",
              "      fill: #FFFFFF;\n",
              "    }\n",
              "  </style>\n",
              "\n",
              "    <script>\n",
              "      const buttonEl =\n",
              "        document.querySelector('#df-e3bf3d1b-ddf7-47ee-ad42-0937882f2f48 button.colab-df-convert');\n",
              "      buttonEl.style.display =\n",
              "        google.colab.kernel.accessAllowed ? 'block' : 'none';\n",
              "\n",
              "      async function convertToInteractive(key) {\n",
              "        const element = document.querySelector('#df-e3bf3d1b-ddf7-47ee-ad42-0937882f2f48');\n",
              "        const dataTable =\n",
              "          await google.colab.kernel.invokeFunction('convertToInteractive',\n",
              "                                                    [key], {});\n",
              "        if (!dataTable) return;\n",
              "\n",
              "        const docLinkHtml = 'Like what you see? Visit the ' +\n",
              "          '<a target=\"_blank\" href=https://colab.research.google.com/notebooks/data_table.ipynb>data table notebook</a>'\n",
              "          + ' to learn more about interactive tables.';\n",
              "        element.innerHTML = '';\n",
              "        dataTable['output_type'] = 'display_data';\n",
              "        await google.colab.output.renderOutput(dataTable, element);\n",
              "        const docLink = document.createElement('div');\n",
              "        docLink.innerHTML = docLinkHtml;\n",
              "        element.appendChild(docLink);\n",
              "      }\n",
              "    </script>\n",
              "  </div>\n",
              "\n",
              "\n",
              "<div id=\"df-fbb02e94-dc11-4b2f-8711-57784e2ae067\">\n",
              "  <button class=\"colab-df-quickchart\" onclick=\"quickchart('df-fbb02e94-dc11-4b2f-8711-57784e2ae067')\"\n",
              "            title=\"Suggest charts.\"\n",
              "            style=\"display:none;\">\n",
              "\n",
              "<svg xmlns=\"http://www.w3.org/2000/svg\" height=\"24px\"viewBox=\"0 0 24 24\"\n",
              "     width=\"24px\">\n",
              "    <g>\n",
              "        <path d=\"M19 3H5c-1.1 0-2 .9-2 2v14c0 1.1.9 2 2 2h14c1.1 0 2-.9 2-2V5c0-1.1-.9-2-2-2zM9 17H7v-7h2v7zm4 0h-2V7h2v10zm4 0h-2v-4h2v4z\"/>\n",
              "    </g>\n",
              "</svg>\n",
              "  </button>\n",
              "\n",
              "<style>\n",
              "  .colab-df-quickchart {\n",
              "    background-color: #E8F0FE;\n",
              "    border: none;\n",
              "    border-radius: 50%;\n",
              "    cursor: pointer;\n",
              "    display: none;\n",
              "    fill: #1967D2;\n",
              "    height: 32px;\n",
              "    padding: 0 0 0 0;\n",
              "    width: 32px;\n",
              "  }\n",
              "\n",
              "  .colab-df-quickchart:hover {\n",
              "    background-color: #E2EBFA;\n",
              "    box-shadow: 0px 1px 2px rgba(60, 64, 67, 0.3), 0px 1px 3px 1px rgba(60, 64, 67, 0.15);\n",
              "    fill: #174EA6;\n",
              "  }\n",
              "\n",
              "  [theme=dark] .colab-df-quickchart {\n",
              "    background-color: #3B4455;\n",
              "    fill: #D2E3FC;\n",
              "  }\n",
              "\n",
              "  [theme=dark] .colab-df-quickchart:hover {\n",
              "    background-color: #434B5C;\n",
              "    box-shadow: 0px 1px 3px 1px rgba(0, 0, 0, 0.15);\n",
              "    filter: drop-shadow(0px 1px 2px rgba(0, 0, 0, 0.3));\n",
              "    fill: #FFFFFF;\n",
              "  }\n",
              "</style>\n",
              "\n",
              "  <script>\n",
              "    async function quickchart(key) {\n",
              "      const charts = await google.colab.kernel.invokeFunction(\n",
              "          'suggestCharts', [key], {});\n",
              "    }\n",
              "    (() => {\n",
              "      let quickchartButtonEl =\n",
              "        document.querySelector('#df-fbb02e94-dc11-4b2f-8711-57784e2ae067 button');\n",
              "      quickchartButtonEl.style.display =\n",
              "        google.colab.kernel.accessAllowed ? 'block' : 'none';\n",
              "    })();\n",
              "  </script>\n",
              "</div>\n",
              "    </div>\n",
              "  </div>\n"
            ]
          },
          "metadata": {},
          "execution_count": 95
        }
      ]
    },
    {
      "cell_type": "markdown",
      "source": [
        "Для создания системы рекомендаций на основе косинусной схожести разработаем функцию, которая будет оценивать степень схожести между фильмами и сериалами на основе их векторных представлений. Затем сможем использовать эту функцию для получения списка наиболее похожих фильмов на заданный, а затем выведем топ *10* наиболее похожих."
      ],
      "metadata": {
        "id": "2ZhtfkCrUIiC"
      }
    },
    {
      "cell_type": "code",
      "source": [
        "def get_recommendations(title, cosine_sim=cosine_df):\n",
        "    idx = indexes[title]\n",
        "    sim_scores = list(enumerate(cosine_df.loc[title]))\n",
        "\n",
        "    sim_scores = sorted(sim_scores, key=lambda x: x[1], reverse=True)\n",
        "    sim_scores = sim_scores[1:11]\n",
        "    movie_indexes = [i[0] for i in sim_scores]\n",
        "\n",
        "    return netflix['title'].iloc[movie_indexes]"
      ],
      "metadata": {
        "id": "9qVBAr_Z8_a9"
      },
      "execution_count": 107,
      "outputs": []
    },
    {
      "cell_type": "markdown",
      "source": [
        "Получим описание для фильма ***'My Little Pony: A New Generation'***. Это позволит  лучше понять сюжет и контекст этого фильма."
      ],
      "metadata": {
        "id": "ouXDJCgGUmyG"
      }
    },
    {
      "cell_type": "code",
      "source": [
        "netflix[netflix['title'] == 'My Little Pony: A New Generation'].description.iloc[0]"
      ],
      "metadata": {
        "colab": {
          "base_uri": "https://localhost:8080/",
          "height": 52
        },
        "id": "6TgzbG4Q9C2M",
        "outputId": "0c886fa0-5c67-45d9-de1c-af6aa3b30e1a"
      },
      "execution_count": 103,
      "outputs": [
        {
          "output_type": "execute_result",
          "data": {
            "text/plain": [
              "\"Equestria's divided. But a bright-eyed hero believes Earth Ponies, Pegasi and Unicorns should be pals — and, hoof to heart, she’s determined to prove it.\""
            ],
            "application/vnd.google.colaboratory.intrinsic+json": {
              "type": "string"
            }
          },
          "metadata": {},
          "execution_count": 103
        }
      ]
    },
    {
      "cell_type": "markdown",
      "source": [
        "Получим рекомендации для фильма ***'My Little Pony: A New Generation'*** на основе его схожести с другими фильмами или сериалами на платформе Netflix."
      ],
      "metadata": {
        "id": "NULSLFLWUvqO"
      }
    },
    {
      "cell_type": "code",
      "source": [
        "get_recommendations('My Little Pony: A New Generation')"
      ],
      "metadata": {
        "colab": {
          "base_uri": "https://localhost:8080/"
        },
        "id": "wfILGtKj9L_S",
        "outputId": "e96293ca-9dab-4843-b323-55cf72f27e2e"
      },
      "execution_count": 108,
      "outputs": [
        {
          "output_type": "execute_result",
          "data": {
            "text/plain": [
              "5237             Equestria Girls: Tales of Canterlot High\n",
              "4364    My Little Pony Friendship Is Magic: Best Gift ...\n",
              "4588                                      My Friend Pinto\n",
              "1778                                 Kongsuni and Friends\n",
              "525                   My Little Pony: Friendship Is Magic\n",
              "7110                      Jack and the Cuckoo-Clock Heart\n",
              "555                                           Snowpiercer\n",
              "7529                                       Mutant Busters\n",
              "5485                                            Ram Jaane\n",
              "234                                             Oggy Oggy\n",
              "Name: title, dtype: object"
            ]
          },
          "metadata": {},
          "execution_count": 108
        }
      ]
    },
    {
      "cell_type": "markdown",
      "source": [
        "Как можем заметить, наиболее похожим на фильм ***'My Little Pony: A New Generation'*** оказался сериал ***'Equestria Girls: Tales of Canterlot High'***.   \n",
        "Проверим описание этого сериала, чтобы более детально понять, почему он считается наиболее близким по схожести."
      ],
      "metadata": {
        "id": "lM_DSvbYU2AX"
      }
    },
    {
      "cell_type": "code",
      "source": [
        "netflix[netflix['title'] == 'Equestria Girls: Tales of Canterlot High'].description.iloc[0]"
      ],
      "metadata": {
        "colab": {
          "base_uri": "https://localhost:8080/",
          "height": 52
        },
        "id": "HeOkRWl79R1c",
        "outputId": "0520e4d3-e431-4933-9d8e-4b84ad115ad6"
      },
      "execution_count": 109,
      "outputs": [
        {
          "output_type": "execute_result",
          "data": {
            "text/plain": [
              "'In an alternate universe Equestria, the ponies have become teenage girls who must learn what it means to be human while attending Canterlot High.'"
            ],
            "application/vnd.google.colaboratory.intrinsic+json": {
              "type": "string"
            }
          },
          "metadata": {},
          "execution_count": 109
        }
      ]
    },
    {
      "cell_type": "markdown",
      "source": [
        "Действительно, оказавшееся схожими фильм  ***'My Little Pony: A New Generation'*** и сериал ***'Equestria Girls: Tales of Canterlot High'*** демонстрируют общую тему и контекст, связанные с миром Эквестрии и приключениями пони. Оба произведения рассказывают истории, в которых акцент делается на этот уникальный мир и персонажей, что объясняет их высокую степень схожести."
      ],
      "metadata": {
        "id": "iboOjEz7WlgE"
      }
    }
  ]
}